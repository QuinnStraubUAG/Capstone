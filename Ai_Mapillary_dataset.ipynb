{
  "cells": [
    {
      "cell_type": "markdown",
      "metadata": {
        "id": "view-in-github",
        "colab_type": "text"
      },
      "source": [
        "<a href=\"https://colab.research.google.com/github/QuinnStraubUAG/Capstone/blob/main/Ai_Mapillary_dataset.ipynb\" target=\"_parent\"><img src=\"https://colab.research.google.com/assets/colab-badge.svg\" alt=\"Open In Colab\"/></a>"
      ]
    },
    {
      "cell_type": "code",
      "execution_count": 1,
      "metadata": {
        "id": "CUXxz3hc8LAn"
      },
      "outputs": [],
      "source": [
        "import sys\n",
        "import os\n",
        "import cv2\n",
        "import datetime\n",
        "import numpy as np\n",
        "from pathlib import Path\n",
        "import random\n",
        "import xml.etree.ElementTree as ET\n",
        "\n",
        "import matplotlib.pyplot as plt\n",
        "from sklearn.model_selection import train_test_split\n",
        "\n",
        "from tensorflow.keras.layers import Flatten\n",
        "from tensorflow.keras.layers import Dense\n",
        "from tensorflow.keras.layers import Input\n",
        "from tensorflow.keras.models import Model\n",
        "from tensorflow.keras.optimizers import Adam\n",
        "from tensorflow.keras.preprocessing.image import img_to_array\n",
        "from tensorflow.keras.preprocessing.image import load_img\n",
        "from tensorflow.keras.models import load_model\n",
        "from tensorflow.keras.applications import VGG16\n",
        "from tensorflow.keras.layers import Dropout\n",
        "from tensorflow.keras.utils import to_categorical\n",
        "from sklearn.preprocessing import LabelBinarizer\n",
        "\n",
        "import pickle\n",
        "\n",
        "from keras.layers.convolutional import Conv2D\n",
        "from tensorflow.keras.layers import MaxPooling2D\n",
        "import tensorflow as tf\n",
        "from keras.models import Sequential\n",
        "import keras\n",
        "import keras.utils\n",
        "from tensorflow.keras import layers\n",
        "\n",
        "import json\n",
        "\n",
        "from sklearn.ensemble import AdaBoostClassifier\n",
        "from sklearn import datasets\n",
        "from sklearn.model_selection import train_test_split\n",
        "from sklearn import metrics\n",
        "from sklearn import preprocessing"
      ]
    },
    {
      "cell_type": "code",
      "execution_count": 2,
      "metadata": {
        "id": "NdXjDYBl8TrF"
      },
      "outputs": [],
      "source": [
        "data = []\n",
        "labels = []\n",
        "bboxes = []\n",
        "imagePaths = []"
      ]
    },
    {
      "cell_type": "code",
      "execution_count": 3,
      "metadata": {
        "colab": {
          "base_uri": "https://localhost:8080/"
        },
        "id": "UfLdaERi8WlM",
        "outputId": "43f849a7-10af-4c15-8429-d1b5ccdb9426"
      },
      "outputs": [
        {
          "output_type": "stream",
          "name": "stdout",
          "text": [
            "Mounted at /content/gdrive\n"
          ]
        }
      ],
      "source": [
        "from google.colab import drive\n",
        "drive.mount('/content/gdrive')\n",
        "annot_dir  = \"/content/gdrive/MyDrive/Mapillary/1st mtsd_fully_annotated_annotation (First Download)/mtsd_fully_annotated_annotation (First Download)/mtsd_v2_fully_annotated/annotations\"\n",
        "images_dir  = \"/content/gdrive/MyDrive/Mapillary/All Mapillary signs\""
      ]
    },
    {
      "cell_type": "code",
      "execution_count": 6,
      "metadata": {
        "id": "G-yFDqv9-GCr"
      },
      "outputs": [],
      "source": [
        "for filename in os.listdir(annot_dir):\n",
        "    if filename != \"-1jlHQxDe6kqJHcH4zxU0g.json\" and filename != \"-OJtL1fk-X49pmhJcPNNfQ.json\" and filename != \"-03mKqdJT02HQU1LVQiAbLQ.json\"and filename != \"03mKqdJT02HQU1LVQiAbLQ.json\":\n",
        "\n",
        "      new_annot_dir = os.path.join(annot_dir, filename)\n",
        "      with open(new_annot_dir, \"r\") as fid:\n",
        "        anno = json.load(fid)\n",
        "        width = anno['width']\n",
        "        height = anno['height']\n",
        "        xmin = anno['objects'][0]['bbox']['xmin']\n",
        "        ymin = anno['objects'][0]['bbox']['ymin']\n",
        "        xmax = anno['objects'][0]['bbox']['xmax']\n",
        "        ymax = anno['objects'][0]['bbox']['ymax']\n",
        "        xmin = xmin / width\n",
        "        xmax = xmax / width\n",
        "        ymin = ymin / height\n",
        "        ymax = ymax / height\n",
        "\n",
        "        label = anno['objects'][0]['label']\n",
        "        imname = filename\n",
        "        imname = imname.replace('.json', '.jpg')\n",
        "        impath = os.path.join(images_dir, imname)\n",
        "        image = load_img(impath, target_size=(224,224))\n",
        "        image = img_to_array(image)\n",
        "\n",
        "    \n",
        "        data.append(image)\n",
        "        labels.append(label)\n",
        "        bboxes.append((xmin,ymin,xmax,ymax))\n",
        "        imagePaths.append(impath)\n",
        "    "
      ]
    },
    {
      "cell_type": "code",
      "execution_count": 7,
      "metadata": {
        "colab": {
          "base_uri": "https://localhost:8080/",
          "height": 488
        },
        "id": "3CeN_2TmYuDY",
        "outputId": "ec90bab0-cf99-44bd-c5a1-0673644bc225"
      },
      "outputs": [
        {
          "output_type": "stream",
          "name": "stdout",
          "text": [
            "other-sign\n",
            "(0.67822265625, 0.650634765625, 0.687255859375, 0.6591796875)\n",
            "/content/gdrive/MyDrive/Mapillary/All Mapillary signs/03UNAWKy3_9stC992aT-zg.jpg\n"
          ]
        },
        {
          "output_type": "display_data",
          "data": {
            "text/plain": [
              "<Figure size 640x480 with 1 Axes>"
            ],
            "image/png": "[encoded data removed]"
          },
          "metadata": {}
        }
      ],
      "source": [
        "imgplot = plt.imshow(image.astype('uint8'))\n",
        "print(labels[-1])\n",
        "print(bboxes[-1])\n",
        "print(imagePaths[-1])\n",
        "plt.show()"
      ]
    },
    {
      "cell_type": "code",
      "execution_count": 8,
      "metadata": {
        "colab": {
          "base_uri": "https://localhost:8080/"
        },
        "id": "vA7PZ2E-Xshq",
        "outputId": "a487f436-1dc2-44b6-d2b3-1aea452c015c"
      },
      "outputs": [
        {
          "output_type": "stream",
          "name": "stdout",
          "text": [
            "[0 0 0 0 0 0 0 0 0 0 0 0 0 0 0 0 0 0 0 0 0 0 0 0 0 0 0 0 0 0 0 1 0 0 0 0 0\n",
            " 0 0 0 0 0 0 0 0 0 0 0 0 0 0 0 0 0 0 0 0 0 0 0 0 0 0 0 0 0 0 0 0 0 0 0 0 0\n",
            " 0 0 0 0 0 0 0 0 0 0 0 0 0 0 0 0 0 0 0 0 0 0 0 0 0 0 0 0 0 0 0 0 0 0 0 0 0\n",
            " 0 0 0 0 0 0 0 0 0 0 0 0 0 0 0 0 0 0 0 0 0 0 0 0 0 0 0 0 0 0 0 0 0 0 0 0 0\n",
            " 0 0 0 0 0 0 0 0 0 0 0 0 0 0 0 0 0 0]\n"
          ]
        }
      ],
      "source": [
        "# normalize -> from [0-255] to [0-1]\n",
        "data = np.array(data, dtype=\"float32\") / 255.0\n",
        "\n",
        "# convert to np arrays\n",
        "labels = np.array(labels)\n",
        "bboxes = np.array(bboxes, dtype=\"float32\")\n",
        "imagePaths = np.array(imagePaths)\n",
        "\n",
        "# one-hot encoding\n",
        "lb = LabelBinarizer()\n",
        "labels = lb.fit_transform(labels)\n",
        "print(labels[-1])"
      ]
    },
    {
      "cell_type": "code",
      "execution_count": 9,
      "metadata": {
        "id": "ssQFbbmeYgYx"
      },
      "outputs": [],
      "source": [
        "# test-train split 20%,80%\n",
        "\n",
        "split = train_test_split(data,\n",
        "                         labels,\n",
        "                         bboxes,\n",
        "                         imagePaths,\n",
        "                         test_size=0.20,\n",
        "                         random_state=12)"
      ]
    },
    {
      "cell_type": "code",
      "execution_count": 10,
      "metadata": {
        "id": "bBAopmvVYjhf"
      },
      "outputs": [],
      "source": [
        "(trainImages, testImages) = split[:2]\n",
        "(trainLabels, testLabels) = split[2:4]"
      ]
    },
    {
      "cell_type": "code",
      "execution_count": 11,
      "metadata": {
        "colab": {
          "base_uri": "https://localhost:8080/"
        },
        "id": "tMYQMu8VYnPN",
        "outputId": "27655433-2e24-46fd-89a6-1c0a53bca393"
      },
      "outputs": [
        {
          "output_type": "stream",
          "name": "stdout",
          "text": [
            "(None, 52453, 224, 224, 3)\n",
            "(None, 52453, 224, 224, 3)\n",
            "(None, 52453, 224, 224, 3)\n",
            "(52453, 224, 224, 3)\n",
            "(52453, 150528)\n"
          ]
        }
      ],
      "source": [
        "n_images = 52453\n",
        "input_tensor=Input(shape=(n_images, 224, 224, 3))\n",
        "print (input_tensor.shape)\n",
        "flatten_layer = Flatten()\n",
        "print (input_tensor.shape)\n",
        "flatten = flatten_layer(input_tensor) \n",
        "print (input_tensor.shape)\n",
        "input_tensor=tf.reshape(input_tensor, [n_images, 224, 224, 3])\n",
        "flatten = flatten_layer(input_tensor) \n",
        "flatten = flatten_layer(flatten) \n",
        "print (input_tensor.shape)\n",
        "print (flatten.shape)"
      ]
    },
    {
      "cell_type": "code",
      "source": [
        "dropnum = 0.5"
      ],
      "metadata": {
        "id": "2k_opHw3F7rU"
      },
      "execution_count": 14,
      "outputs": []
    },
    {
      "cell_type": "code",
      "execution_count": 14,
      "metadata": {
        "colab": {
          "base_uri": "https://localhost:8080/"
        },
        "id": "hW7WbPKHYqyf",
        "outputId": "2b2543df-3f32-414b-f4a2-b01470348d1f"
      },
      "outputs": [
        {
          "output_type": "stream",
          "name": "stdout",
          "text": [
            "(52453, 224, 224, 3)\n",
            "(52453, 224, 224, 3)\n",
            "(52453, 224, 224, 3)\n"
          ]
        }
      ],
      "source": [
        "model = keras.Sequential()\n",
        "print(input_tensor.shape)\n",
        "print(input_tensor.shape)\n",
        "model.add(Conv2D(32, kernel_size=(3, 3), activation='relu', input_shape=(224, 224, 3)))\n",
        "model.add(Conv2D(filters=32, kernel_size=3, activation='relu'))\n",
        "input_tensor=tf.reshape(input_tensor, [n_images, 224, 224, 3])\n",
        "model.add(tf.keras.layers.MaxPooling2D(pool_size=(2, 2), input_shape=(input_tensor)))\n",
        "print (input_tensor.shape)\n",
        "\n",
        "model.add(Conv2D(filters=64, kernel_size=3, activation='relu'))\n",
        "model.add(Conv2D(filters=64, kernel_size=3, activation='relu'))\n",
        "model.add(tf.keras.layers.MaxPooling2D(pool_size=(2, 2), input_shape=(input_tensor)))\n",
        "\n",
        "\n",
        "model.add(Flatten())\n",
        "model.add(Dense(256, activation='relu'))\n",
        "model.add(Dropout(dropnum))\n",
        "\n",
        "model.add(Dense(166, activation='softmax', name = \"class_label\"))"
      ]
    },
    {
      "cell_type": "code",
      "execution_count": 12,
      "metadata": {
        "id": "GlLadvuNYwRq"
      },
      "outputs": [],
      "source": [
        "INIT_LR = 1e-4\n",
        "NUM_EPOCHS = 26\n",
        "BATCH_SIZE = 4"
      ]
    },
    {
      "cell_type": "code",
      "execution_count": 13,
      "metadata": {
        "id": "yENHSItBb5de"
      },
      "outputs": [],
      "source": [
        "losses = {\n",
        "    \"class_label\": \"categorical_crossentropy\",\n",
        "    # \"bounding_box\": \"mean_squared_error\",\n",
        "}\n",
        "\n",
        "lossWeights = {\n",
        "    \"class_label\": 1.0,\n",
        "    # \"bounding_box\": 1.0\n",
        "}\n",
        "\n",
        "trainTargets = {\n",
        "    \"class_label\": trainLabels,\n",
        "    # \"bounding_box\": trainBBoxes\n",
        "}\n",
        "\n",
        "testTargets = {\n",
        "    \"class_label\": testLabels,\n",
        "    # \"bounding_box\": testBBoxes\n",
        "}"
      ]
    },
    {
      "cell_type": "code",
      "execution_count": 17,
      "metadata": {
        "colab": {
          "base_uri": "https://localhost:8080/"
        },
        "id": "F0htU29CeC2s",
        "outputId": "31d2a0f4-ab4e-4641-92f3-806b71217f03"
      },
      "outputs": [
        {
          "output_type": "stream",
          "name": "stdout",
          "text": [
            "Model: \"sequential_1\"\n",
            "_________________________________________________________________\n",
            " Layer (type)                Output Shape              Param #   \n",
            "=================================================================\n",
            " conv2d_2 (Conv2D)           (None, 222, 222, 32)      896       \n",
            "                                                                 \n",
            " conv2d_3 (Conv2D)           (None, 220, 220, 32)      9248      \n",
            "                                                                 \n",
            " max_pooling2d_1 (MaxPooling  (None, 110, 110, 32)     0         \n",
            " 2D)                                                             \n",
            "                                                                 \n",
            " conv2d_4 (Conv2D)           (None, 108, 108, 64)      18496     \n",
            "                                                                 \n",
            " conv2d_5 (Conv2D)           (None, 106, 106, 64)      36928     \n",
            "                                                                 \n",
            " max_pooling2d_2 (MaxPooling  (None, 53, 53, 64)       0         \n",
            " 2D)                                                             \n",
            "                                                                 \n",
            " flatten_1 (Flatten)         (None, 179776)            0         \n",
            "                                                                 \n",
            " dense (Dense)               (None, 256)               46022912  \n",
            "                                                                 \n",
            " dropout (Dropout)           (None, 256)               0         \n",
            "                                                                 \n",
            " class_label (Dense)         (None, 166)               42662     \n",
            "                                                                 \n",
            "=================================================================\n",
            "Total params: 46,131,142\n",
            "Trainable params: 46,131,142\n",
            "Non-trainable params: 0\n",
            "_________________________________________________________________\n",
            "None\n"
          ]
        }
      ],
      "source": [
        "opt = Adam(INIT_LR)\n",
        "\n",
        "model.compile(loss=losses, \n",
        "              optimizer=opt, \n",
        "              metrics=[\"accuracy\"], \n",
        "              loss_weights=lossWeights)\n",
        "\n",
        "print(model.summary())"
      ]
    },
    {
      "cell_type": "code",
      "source": [
        "#Dropout of 0.5 2 set\n",
        "H1 = model.fit(\n",
        "    trainImages, trainTargets,\n",
        "    validation_data=(testImages, testTargets),\n",
        "    batch_size=BATCH_SIZE,\n",
        "    epochs=NUM_EPOCHS,\n",
        "    verbose=1,\n",
        "    )"
      ],
      "metadata": {
        "colab": {
          "base_uri": "https://localhost:8080/"
        },
        "id": "DnwzzjXSII6q",
        "outputId": "c6dea066-ad3f-4b54-8bf0-422331acd314"
      },
      "execution_count": 18,
      "outputs": [
        {
          "output_type": "stream",
          "name": "stdout",
          "text": [
            "Epoch 1/26\n",
            "145/145 [==============================] - 313s 2s/step - loss: 3.6881 - accuracy: 0.4835 - val_loss: 3.4516 - val_accuracy: 0.4966\n",
            "Epoch 2/26\n",
            "145/145 [==============================] - 310s 2s/step - loss: 3.5242 - accuracy: 0.4922 - val_loss: 3.4635 - val_accuracy: 0.4966\n",
            "Epoch 3/26\n",
            "145/145 [==============================] - 310s 2s/step - loss: 3.3310 - accuracy: 0.4939 - val_loss: 3.4790 - val_accuracy: 0.4966\n",
            "Epoch 4/26\n",
            "145/145 [==============================] - 308s 2s/step - loss: 3.1438 - accuracy: 0.4939 - val_loss: 3.5319 - val_accuracy: 0.4966\n",
            "Epoch 5/26\n",
            "145/145 [==============================] - 310s 2s/step - loss: 2.8459 - accuracy: 0.4974 - val_loss: 3.4845 - val_accuracy: 0.4966\n",
            "Epoch 6/26\n",
            "145/145 [==============================] - 308s 2s/step - loss: 2.3564 - accuracy: 0.5130 - val_loss: 3.9628 - val_accuracy: 0.4966\n",
            "Epoch 7/26\n",
            "145/145 [==============================] - 311s 2s/step - loss: 1.5736 - accuracy: 0.6049 - val_loss: 4.4515 - val_accuracy: 0.4966\n",
            "Epoch 8/26\n",
            "145/145 [==============================] - 309s 2s/step - loss: 0.9987 - accuracy: 0.7210 - val_loss: 4.4920 - val_accuracy: 0.4828\n",
            "Epoch 9/26\n",
            "145/145 [==============================] - 311s 2s/step - loss: 0.6150 - accuracy: 0.8371 - val_loss: 5.7371 - val_accuracy: 0.4828\n",
            "Epoch 10/26\n",
            "145/145 [==============================] - 313s 2s/step - loss: 0.4035 - accuracy: 0.8718 - val_loss: 5.9452 - val_accuracy: 0.4759\n",
            "Epoch 11/26\n",
            "145/145 [==============================] - 312s 2s/step - loss: 0.2718 - accuracy: 0.9220 - val_loss: 6.2159 - val_accuracy: 0.4759\n",
            "Epoch 12/26\n",
            "145/145 [==============================] - 313s 2s/step - loss: 0.2269 - accuracy: 0.9497 - val_loss: 8.0270 - val_accuracy: 0.4966\n",
            "Epoch 13/26\n",
            "145/145 [==============================] - 313s 2s/step - loss: 0.1463 - accuracy: 0.9636 - val_loss: 7.1499 - val_accuracy: 0.4966\n",
            "Epoch 14/26\n",
            "145/145 [==============================] - 310s 2s/step - loss: 0.1317 - accuracy: 0.9584 - val_loss: 8.1368 - val_accuracy: 0.4759\n",
            "Epoch 15/26\n",
            "145/145 [==============================] - 310s 2s/step - loss: 0.1282 - accuracy: 0.9653 - val_loss: 7.9170 - val_accuracy: 0.4621\n",
            "Epoch 16/26\n",
            "145/145 [==============================] - 309s 2s/step - loss: 0.1058 - accuracy: 0.9723 - val_loss: 9.0360 - val_accuracy: 0.4759\n",
            "Epoch 17/26\n",
            "145/145 [==============================] - 311s 2s/step - loss: 0.1431 - accuracy: 0.9567 - val_loss: 9.1675 - val_accuracy: 0.4897\n",
            "Epoch 18/26\n",
            "145/145 [==============================] - 310s 2s/step - loss: 0.0755 - accuracy: 0.9827 - val_loss: 9.4613 - val_accuracy: 0.4897\n",
            "Epoch 19/26\n",
            "145/145 [==============================] - 311s 2s/step - loss: 0.1092 - accuracy: 0.9705 - val_loss: 9.2289 - val_accuracy: 0.4828\n",
            "Epoch 20/26\n",
            "145/145 [==============================] - 308s 2s/step - loss: 0.0642 - accuracy: 0.9757 - val_loss: 9.0906 - val_accuracy: 0.4828\n",
            "Epoch 21/26\n",
            "145/145 [==============================] - 311s 2s/step - loss: 0.0599 - accuracy: 0.9827 - val_loss: 9.7004 - val_accuracy: 0.4966\n",
            "Epoch 22/26\n",
            "145/145 [==============================] - 310s 2s/step - loss: 0.1043 - accuracy: 0.9723 - val_loss: 9.3027 - val_accuracy: 0.4690\n",
            "Epoch 23/26\n",
            "145/145 [==============================] - 309s 2s/step - loss: 0.0856 - accuracy: 0.9757 - val_loss: 8.2575 - val_accuracy: 0.4759\n",
            "Epoch 24/26\n",
            "145/145 [==============================] - 309s 2s/step - loss: 0.0793 - accuracy: 0.9757 - val_loss: 10.6683 - val_accuracy: 0.4759\n",
            "Epoch 25/26\n",
            "145/145 [==============================] - 310s 2s/step - loss: 0.0846 - accuracy: 0.9827 - val_loss: 8.6593 - val_accuracy: 0.4828\n",
            "Epoch 26/26\n",
            "145/145 [==============================] - 310s 2s/step - loss: 0.0686 - accuracy: 0.9844 - val_loss: 9.5989 - val_accuracy: 0.4759\n"
          ]
        }
      ]
    },
    {
      "cell_type": "code",
      "source": [
        "score = model.evaluate(trainImages, trainTargets, verbose = 1) \n",
        "\n",
        "print('Train loss:', score[0]) \n",
        "print('Train accuracy:', score[1])\n",
        "\n",
        "score = model.evaluate(testImages, testTargets, verbose = 1) \n",
        "\n",
        "print('Test loss:', score[0]) \n",
        "print('Test accuracy:', score[1])"
      ],
      "metadata": {
        "colab": {
          "base_uri": "https://localhost:8080/"
        },
        "id": "jfn27q4mkj5P",
        "outputId": "113f0e7c-263d-473f-91c5-44611e4cee96"
      },
      "execution_count": 19,
      "outputs": [
        {
          "output_type": "stream",
          "name": "stdout",
          "text": [
            "19/19 [==============================] - 37s 2s/step - loss: 4.3518e-04 - accuracy: 1.0000\n",
            "Train loss: 0.0004351791285444051\n",
            "Train accuracy: 1.0\n",
            "5/5 [==============================] - 10s 2s/step - loss: 9.5989 - accuracy: 0.4759\n",
            "Test loss: 9.598873138427734\n",
            "Test accuracy: 0.475862056016922\n"
          ]
        }
      ]
    },
    {
      "cell_type": "code",
      "source": [
        "model2 = keras.Sequential()\n",
        "\n",
        "model2.add(Conv2D(32, kernel_size=(3, 3), activation='relu', input_shape=(224, 224, 3)))\n",
        "model2.add(Conv2D(filters=32, kernel_size=3, activation='relu'))\n",
        "input_tensor=tf.reshape(input_tensor, [n_images, 224, 224, 3])\n",
        "model2.add(tf.keras.layers.MaxPooling2D(pool_size=(2, 2), input_shape=(input_tensor)))\n",
        "\n",
        "\n",
        "model2.add(Flatten())\n",
        "model2.add(Dense(256, activation='relu'))\n",
        "model2.add(Dropout(dropnum))\n",
        "\n",
        "model2.add(Dense(166, activation='softmax', name = \"class_label\"))"
      ],
      "metadata": {
        "id": "7R57X-RdINCA"
      },
      "execution_count": 18,
      "outputs": []
    },
    {
      "cell_type": "code",
      "source": [
        "opt = Adam(INIT_LR)\n",
        "\n",
        "model2.compile(loss=losses, \n",
        "              optimizer=opt, \n",
        "              metrics=[\"accuracy\"], \n",
        "              loss_weights=lossWeights)\n",
        "\n",
        "print(model2.summary())"
      ],
      "metadata": {
        "colab": {
          "base_uri": "https://localhost:8080/"
        },
        "id": "wkxbdXd5IM0P",
        "outputId": "ec16b1f0-2645-4afb-a2e5-13c9832f9a9c"
      },
      "execution_count": 19,
      "outputs": [
        {
          "output_type": "stream",
          "name": "stdout",
          "text": [
            "Model: \"sequential\"\n",
            "_________________________________________________________________\n",
            " Layer (type)                Output Shape              Param #   \n",
            "=================================================================\n",
            " conv2d (Conv2D)             (None, 222, 222, 32)      896       \n",
            "                                                                 \n",
            " conv2d_1 (Conv2D)           (None, 220, 220, 32)      9248      \n",
            "                                                                 \n",
            " max_pooling2d (MaxPooling2D  (None, 110, 110, 32)     0         \n",
            " )                                                               \n",
            "                                                                 \n",
            " flatten_1 (Flatten)         (None, 387200)            0         \n",
            "                                                                 \n",
            " dense (Dense)               (None, 256)               99123456  \n",
            "                                                                 \n",
            " dropout (Dropout)           (None, 256)               0         \n",
            "                                                                 \n",
            " class_label (Dense)         (None, 166)               42662     \n",
            "                                                                 \n",
            "=================================================================\n",
            "Total params: 99,176,262\n",
            "Trainable params: 99,176,262\n",
            "Non-trainable params: 0\n",
            "_________________________________________________________________\n",
            "None\n"
          ]
        }
      ]
    },
    {
      "cell_type": "code",
      "source": [
        "#Dropout of 0.5 1 set\n",
        "H2 = model2.fit(\n",
        "    trainImages, trainTargets,\n",
        "    validation_data=(testImages, testTargets),\n",
        "    batch_size=BATCH_SIZE,\n",
        "    epochs=NUM_EPOCHS,\n",
        "    verbose=1,\n",
        "    )"
      ],
      "metadata": {
        "colab": {
          "base_uri": "https://localhost:8080/"
        },
        "id": "2P3lG7v-Iofe",
        "outputId": "2d533f21-bf5a-499c-a40d-4605ee93dfc5"
      },
      "execution_count": 20,
      "outputs": [
        {
          "output_type": "stream",
          "name": "stdout",
          "text": [
            "Epoch 1/26\n",
            "145/145 [==============================] - 490s 3s/step - loss: 4.0409 - accuracy: 0.4558 - val_loss: 3.6615 - val_accuracy: 0.4966\n",
            "Epoch 2/26\n",
            "145/145 [==============================] - 491s 3s/step - loss: 3.6263 - accuracy: 0.4887 - val_loss: 3.5171 - val_accuracy: 0.4966\n",
            "Epoch 3/26\n",
            "145/145 [==============================] - 491s 3s/step - loss: 3.2965 - accuracy: 0.4939 - val_loss: 3.7036 - val_accuracy: 0.4966\n",
            "Epoch 4/26\n",
            "145/145 [==============================] - 488s 3s/step - loss: 2.9010 - accuracy: 0.4957 - val_loss: 3.4920 - val_accuracy: 0.4966\n",
            "Epoch 5/26\n",
            "145/145 [==============================] - 486s 3s/step - loss: 2.4235 - accuracy: 0.5009 - val_loss: 3.6492 - val_accuracy: 0.4966\n",
            "Epoch 6/26\n",
            "145/145 [==============================] - 487s 3s/step - loss: 1.9972 - accuracy: 0.5338 - val_loss: 3.8956 - val_accuracy: 0.4966\n",
            "Epoch 7/26\n",
            "145/145 [==============================] - 486s 3s/step - loss: 1.5678 - accuracy: 0.5789 - val_loss: 3.8996 - val_accuracy: 0.4966\n",
            "Epoch 8/26\n",
            "145/145 [==============================] - 479s 3s/step - loss: 1.1390 - accuracy: 0.6863 - val_loss: 3.9069 - val_accuracy: 0.4966\n",
            "Epoch 9/26\n",
            "145/145 [==============================] - 484s 3s/step - loss: 0.8708 - accuracy: 0.7539 - val_loss: 5.3156 - val_accuracy: 0.4966\n",
            "Epoch 10/26\n",
            "145/145 [==============================] - 486s 3s/step - loss: 0.7104 - accuracy: 0.7903 - val_loss: 4.8335 - val_accuracy: 0.4966\n",
            "Epoch 11/26\n",
            "145/145 [==============================] - 487s 3s/step - loss: 0.5626 - accuracy: 0.8475 - val_loss: 5.2358 - val_accuracy: 0.4966\n",
            "Epoch 12/26\n",
            "145/145 [==============================] - 488s 3s/step - loss: 0.3972 - accuracy: 0.8960 - val_loss: 6.1748 - val_accuracy: 0.4966\n",
            "Epoch 13/26\n",
            "145/145 [==============================] - 487s 3s/step - loss: 0.3215 - accuracy: 0.9168 - val_loss: 6.0177 - val_accuracy: 0.4966\n",
            "Epoch 14/26\n",
            "145/145 [==============================] - 486s 3s/step - loss: 0.3155 - accuracy: 0.9116 - val_loss: 6.1237 - val_accuracy: 0.4966\n",
            "Epoch 15/26\n",
            "145/145 [==============================] - 487s 3s/step - loss: 0.2516 - accuracy: 0.9324 - val_loss: 6.1000 - val_accuracy: 0.4966\n",
            "Epoch 16/26\n",
            "145/145 [==============================] - 488s 3s/step - loss: 0.1772 - accuracy: 0.9584 - val_loss: 6.5588 - val_accuracy: 0.4966\n",
            "Epoch 17/26\n",
            "145/145 [==============================] - 486s 3s/step - loss: 0.2230 - accuracy: 0.9393 - val_loss: 7.2620 - val_accuracy: 0.4966\n",
            "Epoch 18/26\n",
            "145/145 [==============================] - 489s 3s/step - loss: 0.1993 - accuracy: 0.9463 - val_loss: 6.7105 - val_accuracy: 0.4966\n",
            "Epoch 19/26\n",
            "145/145 [==============================] - 496s 3s/step - loss: 0.1681 - accuracy: 0.9480 - val_loss: 7.3247 - val_accuracy: 0.4966\n",
            "Epoch 20/26\n",
            "145/145 [==============================] - 493s 3s/step - loss: 0.1469 - accuracy: 0.9532 - val_loss: 6.7581 - val_accuracy: 0.4966\n",
            "Epoch 21/26\n",
            "145/145 [==============================] - 496s 3s/step - loss: 0.1683 - accuracy: 0.9584 - val_loss: 7.6391 - val_accuracy: 0.4966\n",
            "Epoch 22/26\n",
            "145/145 [==============================] - 496s 3s/step - loss: 0.1908 - accuracy: 0.9601 - val_loss: 6.9100 - val_accuracy: 0.4966\n",
            "Epoch 23/26\n",
            "145/145 [==============================] - 491s 3s/step - loss: 0.1085 - accuracy: 0.9671 - val_loss: 7.8850 - val_accuracy: 0.4966\n",
            "Epoch 24/26\n",
            "145/145 [==============================] - 495s 3s/step - loss: 0.1603 - accuracy: 0.9515 - val_loss: 8.2671 - val_accuracy: 0.4966\n",
            "Epoch 25/26\n",
            "145/145 [==============================] - 495s 3s/step - loss: 0.1016 - accuracy: 0.9740 - val_loss: 8.3218 - val_accuracy: 0.4966\n",
            "Epoch 26/26\n",
            "145/145 [==============================] - 493s 3s/step - loss: 0.1233 - accuracy: 0.9584 - val_loss: 7.9239 - val_accuracy: 0.4966\n"
          ]
        }
      ]
    },
    {
      "cell_type": "code",
      "source": [
        "score = model2.evaluate(trainImages, trainTargets, verbose = 1) \n",
        "\n",
        "print('Train loss:', score[0]) \n",
        "print('Train accuracy:', score[1])\n",
        "\n",
        "score = model2.evaluate(testImages, testTargets, verbose = 1) \n",
        "\n",
        "print('Test loss:', score[0]) \n",
        "print('Test accuracy:', score[1])"
      ],
      "metadata": {
        "colab": {
          "base_uri": "https://localhost:8080/"
        },
        "id": "lTF7f1O491CO",
        "outputId": "4b88f890-65b6-4231-8141-005ce1a92c26"
      },
      "execution_count": 21,
      "outputs": [
        {
          "output_type": "stream",
          "name": "stdout",
          "text": [
            "19/19 [==============================] - 25s 1s/step - loss: 0.0028 - accuracy: 1.0000\n",
            "Train loss: 0.0028099259361624718\n",
            "Train accuracy: 1.0\n",
            "5/5 [==============================] - 7s 1s/step - loss: 7.9239 - accuracy: 0.4966\n",
            "Test loss: 7.923882961273193\n",
            "Test accuracy: 0.4965517222881317\n"
          ]
        }
      ]
    },
    {
      "cell_type": "code",
      "source": [
        "model3 = keras.Sequential()\n",
        "\n",
        "model3.add(Conv2D(32, kernel_size=(3, 3), activation='relu', input_shape=(224, 224, 3)))\n",
        "model3.add(Conv2D(filters=32, kernel_size=3, activation='relu'))\n",
        "input_tensor=tf.reshape(input_tensor, [n_images, 224, 224, 3])\n",
        "model3.add(tf.keras.layers.MaxPooling2D(pool_size=(2, 2), input_shape=(input_tensor)))\n",
        "\n",
        "model3.add(Conv2D(32, kernel_size=(3, 3), activation='relu', input_shape=(224, 224, 3)))\n",
        "model3.add(Conv2D(filters=32, kernel_size=3, activation='relu'))\n",
        "model3.add(tf.keras.layers.MaxPooling2D(pool_size=(2, 2), input_shape=(input_tensor)))\n",
        "model3.add(Conv2D(32, kernel_size=(3, 3), activation='relu', input_shape=(224, 224, 3)))\n",
        "model3.add(Conv2D(filters=32, kernel_size=3, activation='relu'))\n",
        "model3.add(tf.keras.layers.MaxPooling2D(pool_size=(2, 2), input_shape=(input_tensor)))\n",
        "\n",
        "\n",
        "model3.add(Flatten())\n",
        "model3.add(Dense(256, activation='relu'))\n",
        "model3.add(Dropout(dropnum))\n",
        "\n",
        "model3.add(Dense(166, activation='softmax', name = \"class_label\"))"
      ],
      "metadata": {
        "id": "zEV7nsA_Isiv"
      },
      "execution_count": 22,
      "outputs": []
    },
    {
      "cell_type": "code",
      "source": [
        "opt = Adam(INIT_LR)\n",
        "\n",
        "model3.compile(loss=losses, \n",
        "              optimizer=opt, \n",
        "              metrics=[\"accuracy\"], \n",
        "              loss_weights=lossWeights)\n",
        "\n",
        "print(model3.summary())"
      ],
      "metadata": {
        "colab": {
          "base_uri": "https://localhost:8080/"
        },
        "id": "hcTdgujoI1km",
        "outputId": "4463eb09-4103-427e-e19a-719cafdb7cb9"
      },
      "execution_count": 23,
      "outputs": [
        {
          "output_type": "stream",
          "name": "stdout",
          "text": [
            "Model: \"sequential_1\"\n",
            "_________________________________________________________________\n",
            " Layer (type)                Output Shape              Param #   \n",
            "=================================================================\n",
            " conv2d_2 (Conv2D)           (None, 222, 222, 32)      896       \n",
            "                                                                 \n",
            " conv2d_3 (Conv2D)           (None, 220, 220, 32)      9248      \n",
            "                                                                 \n",
            " max_pooling2d_1 (MaxPooling  (None, 110, 110, 32)     0         \n",
            " 2D)                                                             \n",
            "                                                                 \n",
            " conv2d_4 (Conv2D)           (None, 108, 108, 32)      9248      \n",
            "                                                                 \n",
            " conv2d_5 (Conv2D)           (None, 106, 106, 32)      9248      \n",
            "                                                                 \n",
            " max_pooling2d_2 (MaxPooling  (None, 53, 53, 32)       0         \n",
            " 2D)                                                             \n",
            "                                                                 \n",
            " conv2d_6 (Conv2D)           (None, 51, 51, 32)        9248      \n",
            "                                                                 \n",
            " conv2d_7 (Conv2D)           (None, 49, 49, 32)        9248      \n",
            "                                                                 \n",
            " max_pooling2d_3 (MaxPooling  (None, 24, 24, 32)       0         \n",
            " 2D)                                                             \n",
            "                                                                 \n",
            " flatten_2 (Flatten)         (None, 18432)             0         \n",
            "                                                                 \n",
            " dense_1 (Dense)             (None, 256)               4718848   \n",
            "                                                                 \n",
            " dropout_1 (Dropout)         (None, 256)               0         \n",
            "                                                                 \n",
            " class_label (Dense)         (None, 166)               42662     \n",
            "                                                                 \n",
            "=================================================================\n",
            "Total params: 4,808,646\n",
            "Trainable params: 4,808,646\n",
            "Non-trainable params: 0\n",
            "_________________________________________________________________\n",
            "None\n"
          ]
        }
      ]
    },
    {
      "cell_type": "code",
      "source": [
        "#Dropout of 0.5 3 set\n",
        "H3 = model3.fit(\n",
        "    trainImages, trainTargets,\n",
        "    validation_data=(testImages, testTargets),\n",
        "    batch_size=BATCH_SIZE,\n",
        "    epochs=NUM_EPOCHS,\n",
        "    verbose=1,\n",
        "    )"
      ],
      "metadata": {
        "colab": {
          "base_uri": "https://localhost:8080/"
        },
        "id": "yqjdiazQI4QV",
        "outputId": "d7c581fd-d9e1-4836-ad46-d3166d1c3898"
      },
      "execution_count": 24,
      "outputs": [
        {
          "output_type": "stream",
          "name": "stdout",
          "text": [
            "Epoch 1/26\n",
            "145/145 [==============================] - 148s 1s/step - loss: 3.7374 - accuracy: 0.4887 - val_loss: 3.4638 - val_accuracy: 0.4966\n",
            "Epoch 2/26\n",
            "145/145 [==============================] - 147s 1s/step - loss: 3.5276 - accuracy: 0.4939 - val_loss: 3.5257 - val_accuracy: 0.4966\n",
            "Epoch 3/26\n",
            "145/145 [==============================] - 150s 1s/step - loss: 3.4043 - accuracy: 0.4939 - val_loss: 3.4731 - val_accuracy: 0.4966\n",
            "Epoch 4/26\n",
            "145/145 [==============================] - 145s 1s/step - loss: 3.3657 - accuracy: 0.4939 - val_loss: 3.4890 - val_accuracy: 0.4966\n",
            "Epoch 5/26\n",
            "145/145 [==============================] - 141s 971ms/step - loss: 3.3361 - accuracy: 0.4939 - val_loss: 3.5105 - val_accuracy: 0.4966\n",
            "Epoch 6/26\n",
            "145/145 [==============================] - 148s 1s/step - loss: 3.3055 - accuracy: 0.4939 - val_loss: 3.5687 - val_accuracy: 0.4966\n",
            "Epoch 7/26\n",
            "145/145 [==============================] - 143s 989ms/step - loss: 3.1940 - accuracy: 0.4939 - val_loss: 3.7223 - val_accuracy: 0.4966\n",
            "Epoch 8/26\n",
            "145/145 [==============================] - 142s 977ms/step - loss: 3.1545 - accuracy: 0.4939 - val_loss: 3.6783 - val_accuracy: 0.4966\n",
            "Epoch 9/26\n",
            "145/145 [==============================] - 144s 991ms/step - loss: 3.0746 - accuracy: 0.4939 - val_loss: 3.6939 - val_accuracy: 0.4966\n",
            "Epoch 10/26\n",
            "145/145 [==============================] - 147s 1s/step - loss: 2.8766 - accuracy: 0.4939 - val_loss: 4.0550 - val_accuracy: 0.4966\n",
            "Epoch 11/26\n",
            "145/145 [==============================] - 146s 1s/step - loss: 2.7441 - accuracy: 0.4939 - val_loss: 3.9109 - val_accuracy: 0.4966\n",
            "Epoch 12/26\n",
            "145/145 [==============================] - 141s 973ms/step - loss: 2.3511 - accuracy: 0.5113 - val_loss: 4.3925 - val_accuracy: 0.4966\n",
            "Epoch 13/26\n",
            "145/145 [==============================] - 148s 1s/step - loss: 1.7536 - accuracy: 0.5823 - val_loss: 5.2489 - val_accuracy: 0.4897\n",
            "Epoch 14/26\n",
            "145/145 [==============================] - 146s 1s/step - loss: 1.2975 - accuracy: 0.6742 - val_loss: 5.8491 - val_accuracy: 0.4828\n",
            "Epoch 15/26\n",
            "145/145 [==============================] - 145s 1s/step - loss: 0.7923 - accuracy: 0.7834 - val_loss: 7.1657 - val_accuracy: 0.4897\n",
            "Epoch 16/26\n",
            "145/145 [==============================] - 147s 1s/step - loss: 0.5481 - accuracy: 0.8319 - val_loss: 8.4405 - val_accuracy: 0.4828\n",
            "Epoch 17/26\n",
            "145/145 [==============================] - 146s 1s/step - loss: 0.3889 - accuracy: 0.9012 - val_loss: 8.2748 - val_accuracy: 0.4690\n",
            "Epoch 18/26\n",
            "145/145 [==============================] - 143s 989ms/step - loss: 0.2393 - accuracy: 0.9185 - val_loss: 10.9770 - val_accuracy: 0.4828\n",
            "Epoch 19/26\n",
            "145/145 [==============================] - 148s 1s/step - loss: 0.2053 - accuracy: 0.9411 - val_loss: 10.4578 - val_accuracy: 0.4759\n",
            "Epoch 20/26\n",
            "145/145 [==============================] - 149s 1s/step - loss: 0.1862 - accuracy: 0.9393 - val_loss: 11.6271 - val_accuracy: 0.4690\n",
            "Epoch 21/26\n",
            "145/145 [==============================] - 148s 1s/step - loss: 0.1372 - accuracy: 0.9601 - val_loss: 12.3056 - val_accuracy: 0.4759\n",
            "Epoch 22/26\n",
            "145/145 [==============================] - 149s 1s/step - loss: 0.1301 - accuracy: 0.9619 - val_loss: 12.9001 - val_accuracy: 0.4828\n",
            "Epoch 23/26\n",
            "145/145 [==============================] - 147s 1s/step - loss: 0.0527 - accuracy: 0.9827 - val_loss: 14.3352 - val_accuracy: 0.4759\n",
            "Epoch 24/26\n",
            "145/145 [==============================] - 147s 1s/step - loss: 0.1313 - accuracy: 0.9497 - val_loss: 12.0334 - val_accuracy: 0.4828\n",
            "Epoch 25/26\n",
            "145/145 [==============================] - 146s 1s/step - loss: 0.0754 - accuracy: 0.9792 - val_loss: 13.2171 - val_accuracy: 0.4897\n",
            "Epoch 26/26\n",
            "145/145 [==============================] - 143s 979ms/step - loss: 0.0849 - accuracy: 0.9792 - val_loss: 13.8918 - val_accuracy: 0.4828\n"
          ]
        }
      ]
    },
    {
      "cell_type": "code",
      "source": [
        "score = model3.evaluate(trainImages, trainTargets, verbose = 1) \n",
        "\n",
        "print('Train loss:', score[0]) \n",
        "print('Train accuracy:', score[1])\n",
        "\n",
        "score = model3.evaluate(testImages, testTargets, verbose = 1) \n",
        "\n",
        "print('Test loss:', score[0]) \n",
        "print('Test accuracy:', score[1])"
      ],
      "metadata": {
        "colab": {
          "base_uri": "https://localhost:8080/"
        },
        "id": "DyufpDoy935a",
        "outputId": "17c7749b-84ee-4e88-c942-3a21da07c818"
      },
      "execution_count": 25,
      "outputs": [
        {
          "output_type": "stream",
          "name": "stdout",
          "text": [
            "19/19 [==============================] - 28s 1s/step - loss: 8.4544e-04 - accuracy: 1.0000\n",
            "Train loss: 0.0008454399066977203\n",
            "Train accuracy: 1.0\n",
            "5/5 [==============================] - 7s 1s/step - loss: 13.8918 - accuracy: 0.4828\n",
            "Test loss: 13.891799926757812\n",
            "Test accuracy: 0.48275861144065857\n"
          ]
        }
      ]
    },
    {
      "cell_type": "code",
      "source": [
        "model4 = keras.Sequential()\n",
        "\n",
        "model4.add(Conv2D(32, kernel_size=(3, 3), activation='relu', input_shape=(224, 224, 3)))\n",
        "model4.add(Conv2D(filters=32, kernel_size=3, activation='relu'))\n",
        "input_tensor=tf.reshape(input_tensor, [n_images, 224, 224, 3])\n",
        "model4.add(tf.keras.layers.MaxPooling2D(pool_size=(2, 2), input_shape=(input_tensor)))\n",
        "\n",
        "model4.add(Conv2D(32, kernel_size=(3, 3), activation='relu', input_shape=(224, 224, 3)))\n",
        "model4.add(Conv2D(filters=32, kernel_size=3, activation='relu'))\n",
        "model4.add(tf.keras.layers.MaxPooling2D(pool_size=(2, 2), input_shape=(input_tensor)))\n",
        "model4.add(Conv2D(32, kernel_size=(3, 3), activation='relu', input_shape=(224, 224, 3)))\n",
        "model4.add(Conv2D(filters=32, kernel_size=3, activation='relu'))\n",
        "model4.add(tf.keras.layers.MaxPooling2D(pool_size=(2, 2), input_shape=(input_tensor)))\n",
        "model4.add(Conv2D(32, kernel_size=(3, 3), activation='relu', input_shape=(224, 224, 3)))\n",
        "model4.add(Conv2D(filters=32, kernel_size=3, activation='relu'))\n",
        "model4.add(tf.keras.layers.MaxPooling2D(pool_size=(2, 2), input_shape=(input_tensor)))\n",
        "\n",
        "\n",
        "model4.add(Flatten())\n",
        "model4.add(Dense(256, activation='relu'))\n",
        "model4.add(Dropout(dropnum))\n",
        "\n",
        "model4.add(Dense(166, activation='softmax', name = \"class_label\"))"
      ],
      "metadata": {
        "id": "ZAJ66PXiI8Xg"
      },
      "execution_count": 17,
      "outputs": []
    },
    {
      "cell_type": "code",
      "source": [
        "opt = Adam(INIT_LR)\n",
        "\n",
        "model4.compile(loss=losses, \n",
        "              optimizer=opt, \n",
        "              metrics=[\"accuracy\"], \n",
        "              loss_weights=lossWeights)\n",
        "\n",
        "print(model4.summary())"
      ],
      "metadata": {
        "colab": {
          "base_uri": "https://localhost:8080/"
        },
        "id": "9Uav8y-DJFuS",
        "outputId": "53ae2ee7-9b17-4df8-d228-da309af5f58f"
      },
      "execution_count": 18,
      "outputs": [
        {
          "output_type": "stream",
          "name": "stdout",
          "text": [
            "Model: \"sequential\"\n",
            "_________________________________________________________________\n",
            " Layer (type)                Output Shape              Param #   \n",
            "=================================================================\n",
            " conv2d (Conv2D)             (None, 222, 222, 32)      896       \n",
            "                                                                 \n",
            " conv2d_1 (Conv2D)           (None, 220, 220, 32)      9248      \n",
            "                                                                 \n",
            " max_pooling2d (MaxPooling2D  (None, 110, 110, 32)     0         \n",
            " )                                                               \n",
            "                                                                 \n",
            " conv2d_2 (Conv2D)           (None, 108, 108, 32)      9248      \n",
            "                                                                 \n",
            " conv2d_3 (Conv2D)           (None, 106, 106, 32)      9248      \n",
            "                                                                 \n",
            " max_pooling2d_1 (MaxPooling  (None, 53, 53, 32)       0         \n",
            " 2D)                                                             \n",
            "                                                                 \n",
            " conv2d_4 (Conv2D)           (None, 51, 51, 32)        9248      \n",
            "                                                                 \n",
            " conv2d_5 (Conv2D)           (None, 49, 49, 32)        9248      \n",
            "                                                                 \n",
            " max_pooling2d_2 (MaxPooling  (None, 24, 24, 32)       0         \n",
            " 2D)                                                             \n",
            "                                                                 \n",
            " conv2d_6 (Conv2D)           (None, 22, 22, 32)        9248      \n",
            "                                                                 \n",
            " conv2d_7 (Conv2D)           (None, 20, 20, 32)        9248      \n",
            "                                                                 \n",
            " max_pooling2d_3 (MaxPooling  (None, 10, 10, 32)       0         \n",
            " 2D)                                                             \n",
            "                                                                 \n",
            " flatten_1 (Flatten)         (None, 3200)              0         \n",
            "                                                                 \n",
            " dense (Dense)               (None, 256)               819456    \n",
            "                                                                 \n",
            " dropout (Dropout)           (None, 256)               0         \n",
            "                                                                 \n",
            " class_label (Dense)         (None, 166)               42662     \n",
            "                                                                 \n",
            "=================================================================\n",
            "Total params: 927,750\n",
            "Trainable params: 927,750\n",
            "Non-trainable params: 0\n",
            "_________________________________________________________________\n",
            "None\n"
          ]
        }
      ]
    },
    {
      "cell_type": "code",
      "source": [
        "#Dropout of 0.5 4 set\n",
        "H4 = model4.fit(\n",
        "    trainImages, trainTargets,\n",
        "    validation_data=(testImages, testTargets),\n",
        "    batch_size=BATCH_SIZE,\n",
        "    epochs=NUM_EPOCHS,\n",
        "    verbose=1,\n",
        "    )"
      ],
      "metadata": {
        "colab": {
          "base_uri": "https://localhost:8080/"
        },
        "id": "9_MuANG7JJA8",
        "outputId": "38b8d265-8b41-4648-bfad-37989d94f38f"
      },
      "execution_count": 19,
      "outputs": [
        {
          "output_type": "stream",
          "name": "stdout",
          "text": [
            "Epoch 1/26\n",
            "145/145 [==============================] - 137s 930ms/step - loss: 3.8625 - accuracy: 0.4679 - val_loss: 3.4150 - val_accuracy: 0.4966\n",
            "Epoch 2/26\n",
            "145/145 [==============================] - 132s 910ms/step - loss: 3.4534 - accuracy: 0.4939 - val_loss: 3.5214 - val_accuracy: 0.4966\n",
            "Epoch 3/26\n",
            "145/145 [==============================] - 134s 925ms/step - loss: 3.3513 - accuracy: 0.4939 - val_loss: 3.4416 - val_accuracy: 0.4966\n",
            "Epoch 4/26\n",
            "145/145 [==============================] - 130s 899ms/step - loss: 3.3353 - accuracy: 0.4939 - val_loss: 3.4956 - val_accuracy: 0.4966\n",
            "Epoch 5/26\n",
            "145/145 [==============================] - 130s 900ms/step - loss: 3.3273 - accuracy: 0.4939 - val_loss: 3.5313 - val_accuracy: 0.4966\n",
            "Epoch 6/26\n",
            "145/145 [==============================] - 136s 937ms/step - loss: 3.2705 - accuracy: 0.4939 - val_loss: 3.5703 - val_accuracy: 0.4966\n",
            "Epoch 7/26\n",
            "145/145 [==============================] - 131s 907ms/step - loss: 3.3110 - accuracy: 0.4939 - val_loss: 3.5763 - val_accuracy: 0.4966\n",
            "Epoch 8/26\n",
            "145/145 [==============================] - 134s 926ms/step - loss: 3.2865 - accuracy: 0.4939 - val_loss: 3.5917 - val_accuracy: 0.4966\n",
            "Epoch 9/26\n",
            "145/145 [==============================] - 135s 934ms/step - loss: 3.2423 - accuracy: 0.4939 - val_loss: 3.6354 - val_accuracy: 0.4966\n",
            "Epoch 10/26\n",
            "145/145 [==============================] - 134s 923ms/step - loss: 3.2484 - accuracy: 0.4939 - val_loss: 3.6547 - val_accuracy: 0.4966\n",
            "Epoch 11/26\n",
            "145/145 [==============================] - 133s 919ms/step - loss: 3.2533 - accuracy: 0.4939 - val_loss: 3.6272 - val_accuracy: 0.4966\n",
            "Epoch 12/26\n",
            "145/145 [==============================] - 134s 923ms/step - loss: 3.2161 - accuracy: 0.4939 - val_loss: 3.8679 - val_accuracy: 0.4966\n",
            "Epoch 13/26\n",
            "145/145 [==============================] - 134s 925ms/step - loss: 3.2017 - accuracy: 0.4939 - val_loss: 3.6909 - val_accuracy: 0.4966\n",
            "Epoch 14/26\n",
            "145/145 [==============================] - 132s 908ms/step - loss: 3.1868 - accuracy: 0.4939 - val_loss: 3.7806 - val_accuracy: 0.4966\n",
            "Epoch 15/26\n",
            "145/145 [==============================] - 135s 936ms/step - loss: 3.1554 - accuracy: 0.4939 - val_loss: 3.7995 - val_accuracy: 0.4966\n",
            "Epoch 16/26\n",
            "145/145 [==============================] - 133s 919ms/step - loss: 3.1389 - accuracy: 0.4939 - val_loss: 3.8497 - val_accuracy: 0.4966\n",
            "Epoch 17/26\n",
            "145/145 [==============================] - 137s 943ms/step - loss: 3.1042 - accuracy: 0.4939 - val_loss: 3.8800 - val_accuracy: 0.4966\n",
            "Epoch 18/26\n",
            "145/145 [==============================] - 133s 922ms/step - loss: 3.1009 - accuracy: 0.4939 - val_loss: 3.7912 - val_accuracy: 0.4966\n",
            "Epoch 19/26\n",
            "145/145 [==============================] - 134s 922ms/step - loss: 3.0388 - accuracy: 0.4939 - val_loss: 3.9049 - val_accuracy: 0.4966\n",
            "Epoch 20/26\n",
            "145/145 [==============================] - 135s 932ms/step - loss: 2.9826 - accuracy: 0.4957 - val_loss: 4.1692 - val_accuracy: 0.4966\n",
            "Epoch 21/26\n",
            "145/145 [==============================] - 136s 937ms/step - loss: 2.8850 - accuracy: 0.4922 - val_loss: 4.1867 - val_accuracy: 0.4966\n",
            "Epoch 22/26\n",
            "145/145 [==============================] - 134s 920ms/step - loss: 2.8230 - accuracy: 0.4922 - val_loss: 3.9925 - val_accuracy: 0.4966\n",
            "Epoch 23/26\n",
            "145/145 [==============================] - 133s 918ms/step - loss: 2.7232 - accuracy: 0.4957 - val_loss: 4.3833 - val_accuracy: 0.4966\n",
            "Epoch 24/26\n",
            "145/145 [==============================] - 133s 921ms/step - loss: 2.5767 - accuracy: 0.4939 - val_loss: 4.3715 - val_accuracy: 0.4966\n",
            "Epoch 25/26\n",
            "145/145 [==============================] - 135s 931ms/step - loss: 2.3670 - accuracy: 0.5009 - val_loss: 4.4629 - val_accuracy: 0.4966\n",
            "Epoch 26/26\n",
            "145/145 [==============================] - 136s 941ms/step - loss: 2.1933 - accuracy: 0.5217 - val_loss: 5.0822 - val_accuracy: 0.4897\n"
          ]
        }
      ]
    },
    {
      "cell_type": "code",
      "source": [
        "score = model4.evaluate(trainImages, trainTargets, verbose = 1) \n",
        "\n",
        "print('Train loss:', score[0]) \n",
        "print('Train accuracy:', score[1])\n",
        "\n",
        "score = model4.evaluate(testImages, testTargets, verbose = 1) \n",
        "\n",
        "print('Test loss:', score[0]) \n",
        "print('Test accuracy:', score[1])"
      ],
      "metadata": {
        "colab": {
          "base_uri": "https://localhost:8080/"
        },
        "id": "dGLWwUcc97hk",
        "outputId": "6c7959c7-62b9-4216-ad34-121d2e81c3f6"
      },
      "execution_count": 20,
      "outputs": [
        {
          "output_type": "stream",
          "name": "stdout",
          "text": [
            "19/19 [==============================] - 26s 1s/step - loss: 1.6030 - accuracy: 0.5771\n",
            "Train loss: 1.602974772453308\n",
            "Train accuracy: 0.5771230459213257\n",
            "5/5 [==============================] - 6s 1s/step - loss: 5.0822 - accuracy: 0.4897\n",
            "Test loss: 5.082164287567139\n",
            "Test accuracy: 0.48965516686439514\n"
          ]
        }
      ]
    },
    {
      "cell_type": "code",
      "source": [
        "dropnum = 0.2"
      ],
      "metadata": {
        "id": "dplCrcqN3tiU"
      },
      "execution_count": 14,
      "outputs": []
    },
    {
      "cell_type": "code",
      "source": [
        "model5 = keras.Sequential()\n",
        "\n",
        "model5.add(Conv2D(32, kernel_size=(3, 3), activation='relu', input_shape=(224, 224, 3)))\n",
        "model5.add(Conv2D(filters=32, kernel_size=3, activation='relu'))\n",
        "input_tensor=tf.reshape(input_tensor, [n_images, 224, 224, 3])\n",
        "model5.add(tf.keras.layers.MaxPooling2D(pool_size=(2, 2), input_shape=(input_tensor)))\n",
        "\n",
        "\n",
        "model5.add(Flatten())\n",
        "model5.add(Dense(256, activation='relu'))\n",
        "model5.add(Dropout(dropnum))\n",
        "\n",
        "model5.add(Dense(166, activation='softmax', name = \"class_label\"))"
      ],
      "metadata": {
        "id": "PAofnyAE395x"
      },
      "execution_count": 22,
      "outputs": []
    },
    {
      "cell_type": "code",
      "source": [
        "opt = Adam(INIT_LR)\n",
        "\n",
        "model5.compile(loss=losses, \n",
        "              optimizer=opt, \n",
        "              metrics=[\"accuracy\"], \n",
        "              loss_weights=lossWeights)\n",
        "\n",
        "print(model5.summary())"
      ],
      "metadata": {
        "colab": {
          "base_uri": "https://localhost:8080/"
        },
        "id": "FW7nfGUH4Gb4",
        "outputId": "52d645e4-ac8b-4fc6-fbed-3d3e6caee4cf"
      },
      "execution_count": 23,
      "outputs": [
        {
          "output_type": "stream",
          "name": "stdout",
          "text": [
            "Model: \"sequential_1\"\n",
            "_________________________________________________________________\n",
            " Layer (type)                Output Shape              Param #   \n",
            "=================================================================\n",
            " conv2d_8 (Conv2D)           (None, 222, 222, 32)      896       \n",
            "                                                                 \n",
            " conv2d_9 (Conv2D)           (None, 220, 220, 32)      9248      \n",
            "                                                                 \n",
            " max_pooling2d_4 (MaxPooling  (None, 110, 110, 32)     0         \n",
            " 2D)                                                             \n",
            "                                                                 \n",
            " flatten_2 (Flatten)         (None, 387200)            0         \n",
            "                                                                 \n",
            " dense_1 (Dense)             (None, 256)               99123456  \n",
            "                                                                 \n",
            " dropout_1 (Dropout)         (None, 256)               0         \n",
            "                                                                 \n",
            " class_label (Dense)         (None, 166)               42662     \n",
            "                                                                 \n",
            "=================================================================\n",
            "Total params: 99,176,262\n",
            "Trainable params: 99,176,262\n",
            "Non-trainable params: 0\n",
            "_________________________________________________________________\n",
            "None\n"
          ]
        }
      ]
    },
    {
      "cell_type": "code",
      "source": [
        "#Dropout of 0.2 1 set\n",
        "H5 = model5.fit(\n",
        "    trainImages, trainTargets,\n",
        "    validation_data=(testImages, testTargets),\n",
        "    batch_size=BATCH_SIZE,\n",
        "    epochs=NUM_EPOCHS,\n",
        "    verbose=1,\n",
        "    )"
      ],
      "metadata": {
        "colab": {
          "base_uri": "https://localhost:8080/"
        },
        "id": "lpUci4aF4LDl",
        "outputId": "f5c64769-558e-46b3-9b1a-26ed8f651b18"
      },
      "execution_count": 24,
      "outputs": [
        {
          "output_type": "stream",
          "name": "stdout",
          "text": [
            "Epoch 1/26\n",
            "145/145 [==============================] - 460s 3s/step - loss: 3.8366 - accuracy: 0.4853 - val_loss: 3.5309 - val_accuracy: 0.4966\n",
            "Epoch 2/26\n",
            "145/145 [==============================] - 459s 3s/step - loss: 3.2971 - accuracy: 0.4939 - val_loss: 3.4707 - val_accuracy: 0.4966\n",
            "Epoch 3/26\n",
            "145/145 [==============================] - 454s 3s/step - loss: 2.7947 - accuracy: 0.4939 - val_loss: 3.5600 - val_accuracy: 0.4966\n",
            "Epoch 4/26\n",
            "145/145 [==============================] - 452s 3s/step - loss: 2.0960 - accuracy: 0.5269 - val_loss: 3.6678 - val_accuracy: 0.4966\n",
            "Epoch 5/26\n",
            "145/145 [==============================] - 450s 3s/step - loss: 1.2754 - accuracy: 0.6655 - val_loss: 3.8644 - val_accuracy: 0.4966\n",
            "Epoch 6/26\n",
            "145/145 [==============================] - 452s 3s/step - loss: 0.6467 - accuracy: 0.8267 - val_loss: 4.5658 - val_accuracy: 0.4966\n",
            "Epoch 7/26\n",
            "145/145 [==============================] - 450s 3s/step - loss: 0.2857 - accuracy: 0.9376 - val_loss: 5.0494 - val_accuracy: 0.4966\n",
            "Epoch 8/26\n",
            "145/145 [==============================] - 452s 3s/step - loss: 0.1347 - accuracy: 0.9775 - val_loss: 5.1088 - val_accuracy: 0.4966\n",
            "Epoch 9/26\n",
            "145/145 [==============================] - 450s 3s/step - loss: 0.0643 - accuracy: 0.9948 - val_loss: 5.8585 - val_accuracy: 0.4966\n",
            "Epoch 10/26\n",
            "145/145 [==============================] - 453s 3s/step - loss: 0.0530 - accuracy: 0.9913 - val_loss: 5.9799 - val_accuracy: 0.4966\n",
            "Epoch 11/26\n",
            "145/145 [==============================] - 455s 3s/step - loss: 0.0281 - accuracy: 0.9983 - val_loss: 6.7114 - val_accuracy: 0.4966\n",
            "Epoch 12/26\n",
            "145/145 [==============================] - 457s 3s/step - loss: 0.0271 - accuracy: 0.9983 - val_loss: 6.5444 - val_accuracy: 0.4897\n",
            "Epoch 13/26\n",
            "145/145 [==============================] - 452s 3s/step - loss: 0.0367 - accuracy: 0.9913 - val_loss: 5.8385 - val_accuracy: 0.4897\n",
            "Epoch 14/26\n",
            "145/145 [==============================] - 454s 3s/step - loss: 0.0207 - accuracy: 0.9983 - val_loss: 6.8423 - val_accuracy: 0.4966\n",
            "Epoch 15/26\n",
            "145/145 [==============================] - 453s 3s/step - loss: 0.0396 - accuracy: 0.9948 - val_loss: 6.0796 - val_accuracy: 0.4966\n",
            "Epoch 16/26\n",
            "145/145 [==============================] - 449s 3s/step - loss: 0.0388 - accuracy: 0.9913 - val_loss: 6.9072 - val_accuracy: 0.4966\n",
            "Epoch 17/26\n",
            "145/145 [==============================] - 454s 3s/step - loss: 0.0152 - accuracy: 1.0000 - val_loss: 7.6862 - val_accuracy: 0.4966\n",
            "Epoch 18/26\n",
            "145/145 [==============================] - 453s 3s/step - loss: 0.0099 - accuracy: 1.0000 - val_loss: 6.9171 - val_accuracy: 0.4966\n",
            "Epoch 19/26\n",
            "145/145 [==============================] - 453s 3s/step - loss: 0.0162 - accuracy: 0.9983 - val_loss: 7.6740 - val_accuracy: 0.4966\n",
            "Epoch 20/26\n",
            "145/145 [==============================] - 450s 3s/step - loss: 0.0144 - accuracy: 0.9965 - val_loss: 6.9675 - val_accuracy: 0.4966\n",
            "Epoch 21/26\n",
            "145/145 [==============================] - 445s 3s/step - loss: 0.0151 - accuracy: 0.9983 - val_loss: 7.7829 - val_accuracy: 0.4966\n",
            "Epoch 22/26\n",
            "145/145 [==============================] - 454s 3s/step - loss: 0.0071 - accuracy: 0.9983 - val_loss: 7.9372 - val_accuracy: 0.4966\n",
            "Epoch 23/26\n",
            "145/145 [==============================] - 450s 3s/step - loss: 0.0086 - accuracy: 0.9983 - val_loss: 7.6878 - val_accuracy: 0.4966\n",
            "Epoch 24/26\n",
            "145/145 [==============================] - 455s 3s/step - loss: 0.0027 - accuracy: 1.0000 - val_loss: 7.2103 - val_accuracy: 0.4966\n",
            "Epoch 25/26\n",
            "145/145 [==============================] - 450s 3s/step - loss: 0.0154 - accuracy: 0.9965 - val_loss: 7.0097 - val_accuracy: 0.4966\n",
            "Epoch 26/26\n",
            "145/145 [==============================] - 452s 3s/step - loss: 0.0082 - accuracy: 0.9983 - val_loss: 6.6909 - val_accuracy: 0.4966\n"
          ]
        }
      ]
    },
    {
      "cell_type": "code",
      "source": [
        "score = model5.evaluate(trainImages, trainTargets, verbose = 1) \n",
        "\n",
        "print('Train loss:', score[0]) \n",
        "print('Train accuracy:', score[1])\n",
        "\n",
        "score = model5.evaluate(testImages, testTargets, verbose = 1) \n",
        "\n",
        "print('Test loss:', score[0]) \n",
        "print('Test accuracy:', score[1])"
      ],
      "metadata": {
        "colab": {
          "base_uri": "https://localhost:8080/"
        },
        "id": "LKpk5NVuREBP",
        "outputId": "2ded356c-c6a5-452d-f490-77f0c099dc04"
      },
      "execution_count": 25,
      "outputs": [
        {
          "output_type": "stream",
          "name": "stdout",
          "text": [
            "19/19 [==============================] - 22s 1s/step - loss: 0.0029 - accuracy: 1.0000\n",
            "Train loss: 0.002908945782110095\n",
            "Train accuracy: 1.0\n",
            "5/5 [==============================] - 5s 956ms/step - loss: 6.6909 - accuracy: 0.4966\n",
            "Test loss: 6.690941333770752\n",
            "Test accuracy: 0.4965517222881317\n"
          ]
        }
      ]
    },
    {
      "cell_type": "code",
      "source": [
        "model6 = keras.Sequential()\n",
        "\n",
        "model6.add(Conv2D(32, kernel_size=(3, 3), activation='relu', input_shape=(224, 224, 3)))\n",
        "model6.add(Conv2D(filters=32, kernel_size=3, activation='relu'))\n",
        "input_tensor=tf.reshape(input_tensor, [n_images, 224, 224, 3])\n",
        "model6.add(tf.keras.layers.MaxPooling2D(pool_size=(2, 2), input_shape=(input_tensor)))\n",
        "\n",
        "model6.add(Conv2D(32, kernel_size=(3, 3), activation='relu', input_shape=(224, 224, 3)))\n",
        "model6.add(Conv2D(filters=32, kernel_size=3, activation='relu'))\n",
        "model6.add(tf.keras.layers.MaxPooling2D(pool_size=(2, 2), input_shape=(input_tensor)))\n",
        "\n",
        "\n",
        "model6.add(Flatten())\n",
        "model6.add(Dense(256, activation='relu'))\n",
        "model6.add(Dropout(dropnum))\n",
        "\n",
        "model6.add(Dense(166, activation='softmax', name = \"class_label\"))"
      ],
      "metadata": {
        "id": "CVmEcwcL4Zke"
      },
      "execution_count": 14,
      "outputs": []
    },
    {
      "cell_type": "code",
      "source": [
        "opt = Adam(INIT_LR)\n",
        "\n",
        "model6.compile(loss=losses, \n",
        "              optimizer=opt, \n",
        "              metrics=[\"accuracy\"], \n",
        "              loss_weights=lossWeights)\n",
        "\n",
        "print(model6.summary())"
      ],
      "metadata": {
        "colab": {
          "base_uri": "https://localhost:8080/"
        },
        "id": "QCaeFwN44kVb",
        "outputId": "2623223d-c760-40a9-e39d-65b254048ac0"
      },
      "execution_count": 15,
      "outputs": [
        {
          "output_type": "stream",
          "name": "stdout",
          "text": [
            "Model: \"sequential\"\n",
            "_________________________________________________________________\n",
            " Layer (type)                Output Shape              Param #   \n",
            "=================================================================\n",
            " conv2d (Conv2D)             (None, 222, 222, 32)      896       \n",
            "                                                                 \n",
            " conv2d_1 (Conv2D)           (None, 220, 220, 32)      9248      \n",
            "                                                                 \n",
            " max_pooling2d (MaxPooling2D  (None, 110, 110, 32)     0         \n",
            " )                                                               \n",
            "                                                                 \n",
            " conv2d_2 (Conv2D)           (None, 108, 108, 32)      9248      \n",
            "                                                                 \n",
            " conv2d_3 (Conv2D)           (None, 106, 106, 32)      9248      \n",
            "                                                                 \n",
            " max_pooling2d_1 (MaxPooling  (None, 53, 53, 32)       0         \n",
            " 2D)                                                             \n",
            "                                                                 \n",
            " flatten_1 (Flatten)         (None, 89888)             0         \n",
            "                                                                 \n",
            " dense (Dense)               (None, 256)               23011584  \n",
            "                                                                 \n",
            " dropout (Dropout)           (None, 256)               0         \n",
            "                                                                 \n",
            " class_label (Dense)         (None, 166)               42662     \n",
            "                                                                 \n",
            "=================================================================\n",
            "Total params: 23,082,886\n",
            "Trainable params: 23,082,886\n",
            "Non-trainable params: 0\n",
            "_________________________________________________________________\n",
            "None\n"
          ]
        }
      ]
    },
    {
      "cell_type": "code",
      "source": [
        "#Dropout of 0.2 2 set\n",
        "H6 = model6.fit(\n",
        "    trainImages, trainTargets,\n",
        "    validation_data=(testImages, testTargets),\n",
        "    batch_size=BATCH_SIZE,\n",
        "    epochs=NUM_EPOCHS,\n",
        "    verbose=1,\n",
        "    )"
      ],
      "metadata": {
        "colab": {
          "base_uri": "https://localhost:8080/"
        },
        "id": "5ENp1y6z4oxD",
        "outputId": "9eb71b55-b89a-4b71-9210-97e1ce7c5854"
      },
      "execution_count": 16,
      "outputs": [
        {
          "output_type": "stream",
          "name": "stdout",
          "text": [
            "Epoch 1/26\n",
            "145/145 [==============================] - 221s 2s/step - loss: 3.5400 - accuracy: 0.4835 - val_loss: 3.4711 - val_accuracy: 0.4966\n",
            "Epoch 2/26\n",
            "145/145 [==============================] - 217s 2s/step - loss: 3.2882 - accuracy: 0.4939 - val_loss: 3.5870 - val_accuracy: 0.4966\n",
            "Epoch 3/26\n",
            "145/145 [==============================] - 214s 1s/step - loss: 3.1208 - accuracy: 0.4939 - val_loss: 3.5344 - val_accuracy: 0.4966\n",
            "Epoch 4/26\n",
            "145/145 [==============================] - 219s 2s/step - loss: 2.8695 - accuracy: 0.4939 - val_loss: 3.7771 - val_accuracy: 0.4966\n",
            "Epoch 5/26\n",
            "145/145 [==============================] - 219s 2s/step - loss: 2.2935 - accuracy: 0.5113 - val_loss: 3.7743 - val_accuracy: 0.4966\n",
            "Epoch 6/26\n",
            "145/145 [==============================] - 219s 2s/step - loss: 1.2651 - accuracy: 0.6672 - val_loss: 4.6148 - val_accuracy: 0.4828\n",
            "Epoch 7/26\n",
            "145/145 [==============================] - 219s 2s/step - loss: 0.4514 - accuracy: 0.8787 - val_loss: 5.1948 - val_accuracy: 0.4483\n",
            "Epoch 8/26\n",
            "145/145 [==============================] - 214s 1s/step - loss: 0.1638 - accuracy: 0.9688 - val_loss: 6.6409 - val_accuracy: 0.4828\n",
            "Epoch 9/26\n",
            "145/145 [==============================] - 219s 2s/step - loss: 0.0596 - accuracy: 0.9879 - val_loss: 7.2911 - val_accuracy: 0.4897\n",
            "Epoch 10/26\n",
            "145/145 [==============================] - 219s 2s/step - loss: 0.0272 - accuracy: 1.0000 - val_loss: 8.9300 - val_accuracy: 0.4897\n",
            "Epoch 11/26\n",
            "145/145 [==============================] - 218s 2s/step - loss: 0.0307 - accuracy: 0.9931 - val_loss: 7.6226 - val_accuracy: 0.4966\n",
            "Epoch 12/26\n",
            "145/145 [==============================] - 214s 1s/step - loss: 0.0204 - accuracy: 0.9983 - val_loss: 8.2200 - val_accuracy: 0.4897\n",
            "Epoch 13/26\n",
            "145/145 [==============================] - 219s 2s/step - loss: 0.0102 - accuracy: 1.0000 - val_loss: 8.9331 - val_accuracy: 0.4828\n",
            "Epoch 14/26\n",
            "145/145 [==============================] - 218s 2s/step - loss: 0.0066 - accuracy: 1.0000 - val_loss: 9.7656 - val_accuracy: 0.4828\n",
            "Epoch 15/26\n",
            "145/145 [==============================] - 217s 2s/step - loss: 0.0054 - accuracy: 1.0000 - val_loss: 10.0847 - val_accuracy: 0.4897\n",
            "Epoch 16/26\n",
            "145/145 [==============================] - 218s 2s/step - loss: 0.0060 - accuracy: 1.0000 - val_loss: 8.1891 - val_accuracy: 0.4759\n",
            "Epoch 17/26\n",
            "145/145 [==============================] - 218s 2s/step - loss: 0.0305 - accuracy: 0.9931 - val_loss: 8.2010 - val_accuracy: 0.4828\n",
            "Epoch 18/26\n",
            "145/145 [==============================] - 216s 1s/step - loss: 0.0117 - accuracy: 1.0000 - val_loss: 10.5671 - val_accuracy: 0.4897\n",
            "Epoch 19/26\n",
            "145/145 [==============================] - 218s 2s/step - loss: 0.0069 - accuracy: 1.0000 - val_loss: 8.8504 - val_accuracy: 0.4759\n",
            "Epoch 20/26\n",
            "145/145 [==============================] - 215s 1s/step - loss: 0.0060 - accuracy: 1.0000 - val_loss: 9.7917 - val_accuracy: 0.4759\n",
            "Epoch 21/26\n",
            "145/145 [==============================] - 218s 2s/step - loss: 0.0056 - accuracy: 1.0000 - val_loss: 9.6210 - val_accuracy: 0.4759\n",
            "Epoch 22/26\n",
            "145/145 [==============================] - 218s 2s/step - loss: 0.0018 - accuracy: 1.0000 - val_loss: 10.7419 - val_accuracy: 0.4759\n",
            "Epoch 23/26\n",
            "145/145 [==============================] - 217s 2s/step - loss: 0.0011 - accuracy: 1.0000 - val_loss: 10.8144 - val_accuracy: 0.4759\n",
            "Epoch 24/26\n",
            "145/145 [==============================] - 214s 1s/step - loss: 0.0022 - accuracy: 1.0000 - val_loss: 9.6598 - val_accuracy: 0.4621\n",
            "Epoch 25/26\n",
            "145/145 [==============================] - 217s 1s/step - loss: 0.0416 - accuracy: 0.9896 - val_loss: 9.1475 - val_accuracy: 0.4828\n",
            "Epoch 26/26\n",
            "145/145 [==============================] - 217s 1s/step - loss: 0.0186 - accuracy: 0.9983 - val_loss: 9.6173 - val_accuracy: 0.4759\n"
          ]
        }
      ]
    },
    {
      "cell_type": "code",
      "source": [
        "score = model6.evaluate(trainImages, trainTargets, verbose = 1) \n",
        "\n",
        "print('Train loss:', score[0]) \n",
        "print('Train accuracy:', score[1])\n",
        "\n",
        "score = model6.evaluate(testImages, testTargets, verbose = 1) \n",
        "\n",
        "print('Test loss:', score[0]) \n",
        "print('Test accuracy:', score[1])"
      ],
      "metadata": {
        "colab": {
          "base_uri": "https://localhost:8080/"
        },
        "id": "GXhrDo3eRWIQ",
        "outputId": "8c039d93-7a52-42e7-a145-0660177d0ca0"
      },
      "execution_count": 17,
      "outputs": [
        {
          "output_type": "stream",
          "name": "stdout",
          "text": [
            "19/19 [==============================] - 29s 1s/step - loss: 4.6025e-04 - accuracy: 1.0000\n",
            "Train loss: 0.00046024733455851674\n",
            "Train accuracy: 1.0\n",
            "5/5 [==============================] - 9s 2s/step - loss: 9.6173 - accuracy: 0.4759\n",
            "Test loss: 9.61732006072998\n",
            "Test accuracy: 0.475862056016922\n"
          ]
        }
      ]
    },
    {
      "cell_type": "code",
      "source": [
        "model7 = keras.Sequential()\n",
        "\n",
        "model7.add(Conv2D(32, kernel_size=(3, 3), activation='relu', input_shape=(224, 224, 3)))\n",
        "model7.add(Conv2D(filters=32, kernel_size=3, activation='relu'))\n",
        "input_tensor=tf.reshape(input_tensor, [n_images, 224, 224, 3])\n",
        "model7.add(tf.keras.layers.MaxPooling2D(pool_size=(2, 2), input_shape=(input_tensor)))\n",
        "\n",
        "model7.add(Conv2D(32, kernel_size=(3, 3), activation='relu', input_shape=(224, 224, 3)))\n",
        "model7.add(Conv2D(filters=32, kernel_size=3, activation='relu'))\n",
        "model7.add(tf.keras.layers.MaxPooling2D(pool_size=(2, 2), input_shape=(input_tensor)))\n",
        "\n",
        "model7.add(Conv2D(32, kernel_size=(3, 3), activation='relu', input_shape=(224, 224, 3)))\n",
        "model7.add(Conv2D(filters=32, kernel_size=3, activation='relu'))\n",
        "model7.add(tf.keras.layers.MaxPooling2D(pool_size=(2, 2), input_shape=(input_tensor)))\n",
        "\n",
        "\n",
        "model7.add(Flatten())\n",
        "model7.add(Dense(256, activation='relu'))\n",
        "model7.add(Dropout(dropnum))\n",
        "\n",
        "model7.add(Dense(166, activation='softmax', name = \"class_label\"))"
      ],
      "metadata": {
        "id": "UCrB7UEWQTzZ"
      },
      "execution_count": 15,
      "outputs": []
    },
    {
      "cell_type": "code",
      "source": [
        "opt = Adam(INIT_LR)\n",
        "\n",
        "model7.compile(loss=losses, \n",
        "              optimizer=opt, \n",
        "              metrics=[\"accuracy\"], \n",
        "              loss_weights=lossWeights)\n",
        "\n",
        "print(model7.summary())"
      ],
      "metadata": {
        "colab": {
          "base_uri": "https://localhost:8080/"
        },
        "id": "Lrq9NxwLQTpv",
        "outputId": "a0792ed0-4fc5-49ea-a403-9d1bcda4266d"
      },
      "execution_count": 16,
      "outputs": [
        {
          "output_type": "stream",
          "name": "stdout",
          "text": [
            "Model: \"sequential\"\n",
            "_________________________________________________________________\n",
            " Layer (type)                Output Shape              Param #   \n",
            "=================================================================\n",
            " conv2d (Conv2D)             (None, 222, 222, 32)      896       \n",
            "                                                                 \n",
            " conv2d_1 (Conv2D)           (None, 220, 220, 32)      9248      \n",
            "                                                                 \n",
            " max_pooling2d (MaxPooling2D  (None, 110, 110, 32)     0         \n",
            " )                                                               \n",
            "                                                                 \n",
            " conv2d_2 (Conv2D)           (None, 108, 108, 32)      9248      \n",
            "                                                                 \n",
            " conv2d_3 (Conv2D)           (None, 106, 106, 32)      9248      \n",
            "                                                                 \n",
            " max_pooling2d_1 (MaxPooling  (None, 53, 53, 32)       0         \n",
            " 2D)                                                             \n",
            "                                                                 \n",
            " conv2d_4 (Conv2D)           (None, 51, 51, 32)        9248      \n",
            "                                                                 \n",
            " conv2d_5 (Conv2D)           (None, 49, 49, 32)        9248      \n",
            "                                                                 \n",
            " max_pooling2d_2 (MaxPooling  (None, 24, 24, 32)       0         \n",
            " 2D)                                                             \n",
            "                                                                 \n",
            " flatten_1 (Flatten)         (None, 18432)             0         \n",
            "                                                                 \n",
            " dense (Dense)               (None, 256)               4718848   \n",
            "                                                                 \n",
            " dropout (Dropout)           (None, 256)               0         \n",
            "                                                                 \n",
            " class_label (Dense)         (None, 166)               42662     \n",
            "                                                                 \n",
            "=================================================================\n",
            "Total params: 4,808,646\n",
            "Trainable params: 4,808,646\n",
            "Non-trainable params: 0\n",
            "_________________________________________________________________\n",
            "None\n"
          ]
        }
      ]
    },
    {
      "cell_type": "code",
      "source": [
        "#Dropout of 0.2 3 set\n",
        "H7 = model7.fit(\n",
        "    trainImages, trainTargets,\n",
        "    validation_data=(testImages, testTargets),\n",
        "    batch_size=BATCH_SIZE,\n",
        "    epochs=NUM_EPOCHS,\n",
        "    verbose=1,\n",
        "    )"
      ],
      "metadata": {
        "colab": {
          "base_uri": "https://localhost:8080/"
        },
        "id": "Y2wAolOjQTgy",
        "outputId": "0204e0f3-9606-4097-9721-f57458b69cd2"
      },
      "execution_count": 17,
      "outputs": [
        {
          "output_type": "stream",
          "name": "stdout",
          "text": [
            "Epoch 1/26\n",
            "145/145 [==============================] - 145s 991ms/step - loss: 3.5843 - accuracy: 0.4887 - val_loss: 3.4145 - val_accuracy: 0.4966\n",
            "Epoch 2/26\n",
            "145/145 [==============================] - 141s 977ms/step - loss: 3.3376 - accuracy: 0.4939 - val_loss: 3.4786 - val_accuracy: 0.4966\n",
            "Epoch 3/26\n",
            "145/145 [==============================] - 138s 949ms/step - loss: 3.2564 - accuracy: 0.4939 - val_loss: 3.5208 - val_accuracy: 0.4966\n",
            "Epoch 4/26\n",
            "145/145 [==============================] - 142s 982ms/step - loss: 3.2056 - accuracy: 0.4939 - val_loss: 3.5381 - val_accuracy: 0.4966\n",
            "Epoch 5/26\n",
            "145/145 [==============================] - 138s 950ms/step - loss: 3.1865 - accuracy: 0.4939 - val_loss: 3.5620 - val_accuracy: 0.4966\n",
            "Epoch 6/26\n",
            "145/145 [==============================] - 140s 969ms/step - loss: 3.0830 - accuracy: 0.4939 - val_loss: 3.6322 - val_accuracy: 0.4966\n",
            "Epoch 7/26\n",
            "145/145 [==============================] - 135s 931ms/step - loss: 2.9710 - accuracy: 0.4939 - val_loss: 3.9134 - val_accuracy: 0.4966\n",
            "Epoch 8/26\n",
            "145/145 [==============================] - 139s 959ms/step - loss: 2.7613 - accuracy: 0.4939 - val_loss: 4.1679 - val_accuracy: 0.4966\n",
            "Epoch 9/26\n",
            "145/145 [==============================] - 140s 961ms/step - loss: 2.2334 - accuracy: 0.5130 - val_loss: 4.2613 - val_accuracy: 0.4828\n",
            "Epoch 10/26\n",
            "145/145 [==============================] - ETA: 0s - loss: 1.4734 - accuracy: 0.6239Epoch 11/26\n",
            "145/145 [==============================] - 135s 932ms/step - loss: 0.6706 - accuracy: 0.8371 - val_loss: 6.3804 - val_accuracy: 0.4690\n",
            "Epoch 12/26\n",
            "145/145 [==============================] - 143s 987ms/step - loss: 0.2760 - accuracy: 0.9203 - val_loss: 9.6707 - val_accuracy: 0.4414\n",
            "Epoch 13/26\n",
            "145/145 [==============================] - 138s 955ms/step - loss: 0.1277 - accuracy: 0.9619 - val_loss: 9.8002 - val_accuracy: 0.4345\n",
            "Epoch 14/26\n",
            "145/145 [==============================] - 140s 967ms/step - loss: 0.0613 - accuracy: 0.9896 - val_loss: 11.4345 - val_accuracy: 0.4138\n",
            "Epoch 15/26\n",
            "145/145 [==============================] - 135s 930ms/step - loss: 0.0511 - accuracy: 0.9844 - val_loss: 12.4616 - val_accuracy: 0.4483\n",
            "Epoch 16/26\n",
            "145/145 [==============================] - 142s 979ms/step - loss: 0.0373 - accuracy: 0.9879 - val_loss: 13.1219 - val_accuracy: 0.4276\n",
            "Epoch 17/26\n",
            "145/145 [==============================] - 142s 981ms/step - loss: 0.0189 - accuracy: 0.9965 - val_loss: 13.8878 - val_accuracy: 0.4000\n",
            "Epoch 18/26\n",
            "145/145 [==============================] - 141s 971ms/step - loss: 0.0306 - accuracy: 0.9931 - val_loss: 13.5389 - val_accuracy: 0.4138\n",
            "Epoch 19/26\n",
            "145/145 [==============================] - 140s 967ms/step - loss: 0.0430 - accuracy: 0.9844 - val_loss: 13.2795 - val_accuracy: 0.4276\n",
            "Epoch 20/26\n",
            "145/145 [==============================] - 135s 935ms/step - loss: 0.0411 - accuracy: 0.9896 - val_loss: 11.5938 - val_accuracy: 0.3448\n",
            "Epoch 21/26\n",
            "145/145 [==============================] - 138s 952ms/step - loss: 0.0378 - accuracy: 0.9844 - val_loss: 14.6995 - val_accuracy: 0.4690\n",
            "Epoch 22/26\n",
            "145/145 [==============================] - 141s 969ms/step - loss: 0.0319 - accuracy: 0.9965 - val_loss: 13.7213 - val_accuracy: 0.4621\n",
            "Epoch 23/26\n",
            "145/145 [==============================] - 143s 986ms/step - loss: 0.0212 - accuracy: 0.9948 - val_loss: 12.2867 - val_accuracy: 0.4000\n",
            "Epoch 24/26\n",
            "145/145 [==============================] - 136s 940ms/step - loss: 0.0076 - accuracy: 1.0000 - val_loss: 14.5041 - val_accuracy: 0.4414\n",
            "Epoch 25/26\n",
            "145/145 [==============================] - 141s 972ms/step - loss: 0.0139 - accuracy: 0.9983 - val_loss: 14.7360 - val_accuracy: 0.4621\n",
            "Epoch 26/26\n",
            "145/145 [==============================] - 136s 941ms/step - loss: 0.0294 - accuracy: 0.9931 - val_loss: 13.2425 - val_accuracy: 0.4414\n"
          ]
        }
      ]
    },
    {
      "cell_type": "code",
      "source": [
        "score = model7.evaluate(trainImages, trainTargets, verbose = 1) \n",
        "\n",
        "print('Train loss:', score[0]) \n",
        "print('Train accuracy:', score[1])\n",
        "\n",
        "score = model7.evaluate(testImages, testTargets, verbose = 1) \n",
        "\n",
        "print('Test loss:', score[0]) \n",
        "print('Test accuracy:', score[1])"
      ],
      "metadata": {
        "colab": {
          "base_uri": "https://localhost:8080/"
        },
        "id": "TKnP2BWMRYvI",
        "outputId": "aca6ce7a-c752-4add-ae04-df07447d5bac"
      },
      "execution_count": 18,
      "outputs": [
        {
          "output_type": "stream",
          "name": "stdout",
          "text": [
            "19/19 [==============================] - 27s 1s/step - loss: 0.0118 - accuracy: 0.9983\n",
            "Train loss: 0.011771704070270061\n",
            "Train accuracy: 0.998266875743866\n",
            "5/5 [==============================] - 6s 1s/step - loss: 13.2425 - accuracy: 0.4414\n",
            "Test loss: 13.242542266845703\n",
            "Test accuracy: 0.4413793087005615\n"
          ]
        }
      ]
    },
    {
      "cell_type": "code",
      "source": [
        "model8 = keras.Sequential()\n",
        "\n",
        "model8.add(Conv2D(32, kernel_size=(3, 3), activation='relu', input_shape=(224, 224, 3)))\n",
        "model8.add(Conv2D(filters=32, kernel_size=3, activation='relu'))\n",
        "input_tensor=tf.reshape(input_tensor, [n_images, 224, 224, 3])\n",
        "model8.add(tf.keras.layers.MaxPooling2D(pool_size=(2, 2), input_shape=(input_tensor)))\n",
        "\n",
        "model8.add(Conv2D(32, kernel_size=(3, 3), activation='relu', input_shape=(224, 224, 3)))\n",
        "model8.add(Conv2D(filters=32, kernel_size=3, activation='relu'))\n",
        "model8.add(tf.keras.layers.MaxPooling2D(pool_size=(2, 2), input_shape=(input_tensor)))\n",
        "\n",
        "model8.add(Conv2D(32, kernel_size=(3, 3), activation='relu', input_shape=(224, 224, 3)))\n",
        "model8.add(Conv2D(filters=32, kernel_size=3, activation='relu'))\n",
        "model8.add(tf.keras.layers.MaxPooling2D(pool_size=(2, 2), input_shape=(input_tensor)))\n",
        "\n",
        "model8.add(Conv2D(32, kernel_size=(3, 3), activation='relu', input_shape=(224, 224, 3)))\n",
        "model8.add(Conv2D(filters=32, kernel_size=3, activation='relu'))\n",
        "model8.add(tf.keras.layers.MaxPooling2D(pool_size=(2, 2), input_shape=(input_tensor)))\n",
        "\n",
        "\n",
        "model8.add(Flatten())\n",
        "model8.add(Dense(256, activation='relu'))\n",
        "model8.add(Dropout(dropnum))\n",
        "\n",
        "model8.add(Dense(166, activation='softmax', name = \"class_label\"))"
      ],
      "metadata": {
        "id": "6SzkRTzMQTW3"
      },
      "execution_count": 19,
      "outputs": []
    },
    {
      "cell_type": "code",
      "source": [
        "opt = Adam(INIT_LR)\n",
        "\n",
        "model8.compile(loss=losses, \n",
        "              optimizer=opt, \n",
        "              metrics=[\"accuracy\"], \n",
        "              loss_weights=lossWeights)\n",
        "\n",
        "print(model8.summary())"
      ],
      "metadata": {
        "colab": {
          "base_uri": "https://localhost:8080/"
        },
        "id": "jDmr3R6tQTNh",
        "outputId": "5f163dc3-90ab-43bc-beb7-bdafcf600ff8"
      },
      "execution_count": 20,
      "outputs": [
        {
          "output_type": "stream",
          "name": "stdout",
          "text": [
            "Model: \"sequential_1\"\n",
            "_________________________________________________________________\n",
            " Layer (type)                Output Shape              Param #   \n",
            "=================================================================\n",
            " conv2d_6 (Conv2D)           (None, 222, 222, 32)      896       \n",
            "                                                                 \n",
            " conv2d_7 (Conv2D)           (None, 220, 220, 32)      9248      \n",
            "                                                                 \n",
            " max_pooling2d_3 (MaxPooling  (None, 110, 110, 32)     0         \n",
            " 2D)                                                             \n",
            "                                                                 \n",
            " conv2d_8 (Conv2D)           (None, 108, 108, 32)      9248      \n",
            "                                                                 \n",
            " conv2d_9 (Conv2D)           (None, 106, 106, 32)      9248      \n",
            "                                                                 \n",
            " max_pooling2d_4 (MaxPooling  (None, 53, 53, 32)       0         \n",
            " 2D)                                                             \n",
            "                                                                 \n",
            " conv2d_10 (Conv2D)          (None, 51, 51, 32)        9248      \n",
            "                                                                 \n",
            " conv2d_11 (Conv2D)          (None, 49, 49, 32)        9248      \n",
            "                                                                 \n",
            " max_pooling2d_5 (MaxPooling  (None, 24, 24, 32)       0         \n",
            " 2D)                                                             \n",
            "                                                                 \n",
            " conv2d_12 (Conv2D)          (None, 22, 22, 32)        9248      \n",
            "                                                                 \n",
            " conv2d_13 (Conv2D)          (None, 20, 20, 32)        9248      \n",
            "                                                                 \n",
            " max_pooling2d_6 (MaxPooling  (None, 10, 10, 32)       0         \n",
            " 2D)                                                             \n",
            "                                                                 \n",
            " flatten_2 (Flatten)         (None, 3200)              0         \n",
            "                                                                 \n",
            " dense_1 (Dense)             (None, 256)               819456    \n",
            "                                                                 \n",
            " dropout_1 (Dropout)         (None, 256)               0         \n",
            "                                                                 \n",
            " class_label (Dense)         (None, 166)               42662     \n",
            "                                                                 \n",
            "=================================================================\n",
            "Total params: 927,750\n",
            "Trainable params: 927,750\n",
            "Non-trainable params: 0\n",
            "_________________________________________________________________\n",
            "None\n"
          ]
        }
      ]
    },
    {
      "cell_type": "code",
      "source": [
        "#Dropout of 0.2 4 set\n",
        "H8 = model8.fit(\n",
        "    trainImages, trainTargets,\n",
        "    validation_data=(testImages, testTargets),\n",
        "    batch_size=BATCH_SIZE,\n",
        "    epochs=NUM_EPOCHS,\n",
        "    verbose=1,\n",
        "    )"
      ],
      "metadata": {
        "colab": {
          "base_uri": "https://localhost:8080/"
        },
        "id": "69nLthKBQTDH",
        "outputId": "6fe2b003-3712-46de-ac4c-dcca42c89321"
      },
      "execution_count": 21,
      "outputs": [
        {
          "output_type": "stream",
          "name": "stdout",
          "text": [
            "Epoch 1/26\n",
            "145/145 [==============================] - 132s 900ms/step - loss: 3.6420 - accuracy: 0.4818 - val_loss: 3.4085 - val_accuracy: 0.4966\n",
            "Epoch 2/26\n",
            "145/145 [==============================] - 125s 862ms/step - loss: 3.2762 - accuracy: 0.4939 - val_loss: 3.4135 - val_accuracy: 0.4966\n",
            "Epoch 3/26\n",
            "145/145 [==============================] - 127s 874ms/step - loss: 3.2263 - accuracy: 0.4939 - val_loss: 3.4831 - val_accuracy: 0.4966\n",
            "Epoch 4/26\n",
            "145/145 [==============================] - 127s 878ms/step - loss: 3.2256 - accuracy: 0.4939 - val_loss: 3.5818 - val_accuracy: 0.4966\n",
            "Epoch 5/26\n",
            "145/145 [==============================] - 126s 867ms/step - loss: 3.2111 - accuracy: 0.4939 - val_loss: 3.6492 - val_accuracy: 0.4966\n",
            "Epoch 6/26\n",
            "145/145 [==============================] - 129s 888ms/step - loss: 3.1908 - accuracy: 0.4939 - val_loss: 3.6121 - val_accuracy: 0.4966\n",
            "Epoch 7/26\n",
            "145/145 [==============================] - 128s 887ms/step - loss: 3.1716 - accuracy: 0.4939 - val_loss: 3.6510 - val_accuracy: 0.4966\n",
            "Epoch 8/26\n",
            "145/145 [==============================] - 126s 871ms/step - loss: 3.1737 - accuracy: 0.4939 - val_loss: 3.6592 - val_accuracy: 0.4966\n",
            "Epoch 9/26\n",
            "145/145 [==============================] - 128s 883ms/step - loss: 3.1496 - accuracy: 0.4939 - val_loss: 3.6869 - val_accuracy: 0.4966\n",
            "Epoch 10/26\n",
            "145/145 [==============================] - 129s 890ms/step - loss: 3.1172 - accuracy: 0.4939 - val_loss: 3.9268 - val_accuracy: 0.4966\n",
            "Epoch 11/26\n",
            "145/145 [==============================] - 131s 908ms/step - loss: 3.0728 - accuracy: 0.4939 - val_loss: 3.7293 - val_accuracy: 0.4966\n",
            "Epoch 12/26\n",
            "145/145 [==============================] - 132s 910ms/step - loss: 3.0343 - accuracy: 0.4939 - val_loss: 3.8429 - val_accuracy: 0.4966\n",
            "Epoch 13/26\n",
            "145/145 [==============================] - 132s 909ms/step - loss: 2.8892 - accuracy: 0.4939 - val_loss: 4.2433 - val_accuracy: 0.4966\n",
            "Epoch 14/26\n",
            "145/145 [==============================] - 132s 913ms/step - loss: 2.7415 - accuracy: 0.4922 - val_loss: 4.5308 - val_accuracy: 0.4966\n",
            "Epoch 15/26\n",
            "145/145 [==============================] - 131s 907ms/step - loss: 2.4712 - accuracy: 0.4922 - val_loss: 4.3375 - val_accuracy: 0.4828\n",
            "Epoch 16/26\n",
            "145/145 [==============================] - 131s 908ms/step - loss: 2.1384 - accuracy: 0.5269 - val_loss: 5.3738 - val_accuracy: 0.4759\n",
            "Epoch 17/26\n",
            "145/145 [==============================] - 129s 890ms/step - loss: 1.6417 - accuracy: 0.5893 - val_loss: 6.3107 - val_accuracy: 0.4621\n",
            "Epoch 18/26\n",
            "145/145 [==============================] - 126s 873ms/step - loss: 1.1716 - accuracy: 0.7019 - val_loss: 7.4408 - val_accuracy: 0.4345\n",
            "Epoch 19/26\n",
            "145/145 [==============================] - 129s 887ms/step - loss: 0.8047 - accuracy: 0.7695 - val_loss: 10.4816 - val_accuracy: 0.4552\n",
            "Epoch 20/26\n",
            "145/145 [==============================] - 129s 891ms/step - loss: 0.4433 - accuracy: 0.8700 - val_loss: 9.7772 - val_accuracy: 0.4414\n",
            "Epoch 21/26\n",
            "145/145 [==============================] - 132s 911ms/step - loss: 0.3860 - accuracy: 0.8787 - val_loss: 9.3419 - val_accuracy: 0.4483\n",
            "Epoch 22/26\n",
            "145/145 [==============================] - 132s 912ms/step - loss: 0.2793 - accuracy: 0.9220 - val_loss: 12.8743 - val_accuracy: 0.4483\n",
            "Epoch 23/26\n",
            "145/145 [==============================] - 132s 910ms/step - loss: 0.1307 - accuracy: 0.9584 - val_loss: 16.3969 - val_accuracy: 0.4621\n",
            "Epoch 24/26\n",
            "145/145 [==============================] - 132s 912ms/step - loss: 0.1007 - accuracy: 0.9740 - val_loss: 14.4295 - val_accuracy: 0.4552\n",
            "Epoch 25/26\n",
            "145/145 [==============================] - 132s 911ms/step - loss: 0.1213 - accuracy: 0.9636 - val_loss: 17.1182 - val_accuracy: 0.4759\n",
            "Epoch 26/26\n",
            "145/145 [==============================] - 132s 911ms/step - loss: 0.0843 - accuracy: 0.9809 - val_loss: 16.6168 - val_accuracy: 0.4414\n"
          ]
        }
      ]
    },
    {
      "cell_type": "code",
      "source": [
        "score = model8.evaluate(trainImages, trainTargets, verbose = 1) \n",
        "\n",
        "print('Train loss:', score[0]) \n",
        "print('Train accuracy:', score[1])\n",
        "\n",
        "score = model8.evaluate(testImages, testTargets, verbose = 1) \n",
        "\n",
        "print('Test loss:', score[0]) \n",
        "print('Test accuracy:', score[1])"
      ],
      "metadata": {
        "colab": {
          "base_uri": "https://localhost:8080/"
        },
        "id": "h6kLAspMRbcl",
        "outputId": "af61aed9-deea-4e8a-e0f5-663803f606a8"
      },
      "execution_count": 22,
      "outputs": [
        {
          "output_type": "stream",
          "name": "stdout",
          "text": [
            "19/19 [==============================] - 28s 1s/step - loss: 0.0062 - accuracy: 1.0000\n",
            "Train loss: 0.00618231063708663\n",
            "Train accuracy: 1.0\n",
            "5/5 [==============================] - 6s 1s/step - loss: 16.6168 - accuracy: 0.4414\n",
            "Test loss: 16.61675453186035\n",
            "Test accuracy: 0.4413793087005615\n"
          ]
        }
      ]
    },
    {
      "cell_type": "code",
      "source": [
        "# All of this is extra numbers \\/"
      ],
      "metadata": {
        "id": "nEBf9FFaIMM2"
      },
      "execution_count": null,
      "outputs": []
    },
    {
      "cell_type": "code",
      "execution_count": null,
      "metadata": {
        "colab": {
          "base_uri": "https://localhost:8080/"
        },
        "id": "qLCNbwltwMMc",
        "outputId": "5e8f8d04-deb8-4edd-fe22-0c4303301bcd"
      },
      "outputs": [
        {
          "name": "stdout",
          "output_type": "stream",
          "text": [
            "Epoch 1/10\n",
            "19/19 [==============================] - 195s 10s/step - loss: 0.1666 - accuracy: 0.9601 - val_loss: 6.6156 - val_accuracy: 0.4759\n",
            "Epoch 2/10\n",
            "19/19 [==============================] - 209s 11s/step - loss: 0.0882 - accuracy: 0.9861 - val_loss: 6.9014 - val_accuracy: 0.4828\n",
            "Epoch 3/10\n",
            "19/19 [==============================] - 194s 10s/step - loss: 0.0512 - accuracy: 0.9931 - val_loss: 6.9766 - val_accuracy: 0.4759\n",
            "Epoch 4/10\n",
            "19/19 [==============================] - 203s 11s/step - loss: 0.0367 - accuracy: 0.9948 - val_loss: 7.5728 - val_accuracy: 0.4897\n",
            "Epoch 5/10\n",
            "19/19 [==============================] - 196s 10s/step - loss: 0.0447 - accuracy: 0.9965 - val_loss: 8.2119 - val_accuracy: 0.4897\n",
            "Epoch 6/10\n",
            "19/19 [==============================] - 193s 10s/step - loss: 0.0370 - accuracy: 0.9879 - val_loss: 7.6159 - val_accuracy: 0.4897\n",
            "Epoch 7/10\n",
            "19/19 [==============================] - 203s 11s/step - loss: 0.0348 - accuracy: 0.9931 - val_loss: 6.6688 - val_accuracy: 0.4759\n",
            "Epoch 8/10\n",
            "19/19 [==============================] - 201s 11s/step - loss: 0.0219 - accuracy: 0.9965 - val_loss: 7.7818 - val_accuracy: 0.4759\n",
            "Epoch 9/10\n",
            "19/19 [==============================] - 202s 11s/step - loss: 0.0120 - accuracy: 1.0000 - val_loss: 8.3213 - val_accuracy: 0.4828\n",
            "Epoch 10/10\n",
            "19/19 [==============================] - 195s 10s/step - loss: 0.0047 - accuracy: 1.0000 - val_loss: 9.4340 - val_accuracy: 0.4828\n"
          ]
        }
      ],
      "source": [
        "#Dropout of 0.2\n",
        "H1 = model.fit(\n",
        "    trainImages, trainTargets,\n",
        "    validation_data=(testImages, testTargets),\n",
        "    batch_size=BATCH_SIZE,\n",
        "    epochs=NUM_EPOCHS,\n",
        "    verbose=1,\n",
        "    )"
      ]
    },
    {
      "cell_type": "code",
      "execution_count": null,
      "metadata": {
        "colab": {
          "base_uri": "https://localhost:8080/"
        },
        "id": "GEKZ6ACsdh0v",
        "outputId": "120faab5-2ec1-4159-c8d8-4c8d26e43f43"
      },
      "outputs": [
        {
          "name": "stdout",
          "output_type": "stream",
          "text": [
            "5/5 [==============================] - 10s 2s/step - loss: 5.6453 - accuracy: 0.4897\n",
            "Test loss: 5.645301342010498\n",
            "Test accuracy: 0.48965516686439514\n"
          ]
        }
      ],
      "source": [
        "score = model.evaluate(testImages, testTargets, verbose = 1) \n",
        "\n",
        "print('Test loss:', score[0]) \n",
        "print('Test accuracy:', score[1])"
      ]
    },
    {
      "cell_type": "code",
      "execution_count": null,
      "metadata": {
        "colab": {
          "base_uri": "https://localhost:8080/"
        },
        "id": "b0Db_8D5u4Ti",
        "outputId": "02fbc224-bf9f-4ecb-8069-1cc76dfc8e68"
      },
      "outputs": [
        {
          "name": "stdout",
          "output_type": "stream",
          "text": [
            "Epoch 1/10\n",
            "73/73 [==============================] - 244s 3s/step - loss: 0.0443 - accuracy: 0.9896 - val_loss: 6.9010 - val_accuracy: 0.4690\n",
            "Epoch 2/10\n",
            "73/73 [==============================] - 234s 3s/step - loss: 0.0838 - accuracy: 0.9913 - val_loss: 8.5207 - val_accuracy: 0.4828\n",
            "Epoch 3/10\n",
            "73/73 [==============================] - 233s 3s/step - loss: 0.0480 - accuracy: 0.9896 - val_loss: 8.5172 - val_accuracy: 0.4759\n",
            "Epoch 4/10\n",
            "73/73 [==============================] - 242s 3s/step - loss: 0.0137 - accuracy: 0.9983 - val_loss: 8.8188 - val_accuracy: 0.4138\n",
            "Epoch 5/10\n",
            "73/73 [==============================] - 239s 3s/step - loss: 0.0134 - accuracy: 0.9983 - val_loss: 9.5510 - val_accuracy: 0.4759\n",
            "Epoch 6/10\n",
            "73/73 [==============================] - 242s 3s/step - loss: 0.0122 - accuracy: 0.9983 - val_loss: 9.7093 - val_accuracy: 0.4897\n",
            "Epoch 7/10\n",
            "73/73 [==============================] - 240s 3s/step - loss: 0.0319 - accuracy: 0.9948 - val_loss: 8.9842 - val_accuracy: 0.4966\n",
            "Epoch 8/10\n",
            "73/73 [==============================] - 232s 3s/step - loss: 0.0102 - accuracy: 0.9965 - val_loss: 10.8784 - val_accuracy: 0.4828\n",
            "Epoch 9/10\n",
            "73/73 [==============================] - 231s 3s/step - loss: 0.0119 - accuracy: 0.9965 - val_loss: 10.5303 - val_accuracy: 0.4828\n",
            "Epoch 10/10\n",
            "73/73 [==============================] - 243s 3s/step - loss: 0.0036 - accuracy: 1.0000 - val_loss: 10.8182 - val_accuracy: 0.4828\n"
          ]
        }
      ],
      "source": [
        "#Dropout of 0.2 testing different batch size\n",
        "H1 = model.fit(\n",
        "    trainImages, trainTargets,\n",
        "    validation_data=(testImages, testTargets),\n",
        "    batch_size=8,\n",
        "    epochs=NUM_EPOCHS,\n",
        "    verbose=1,\n",
        "    )"
      ]
    },
    {
      "cell_type": "code",
      "execution_count": null,
      "metadata": {
        "colab": {
          "base_uri": "https://localhost:8080/"
        },
        "id": "RB1fV8JHu8as",
        "outputId": "7eee9ccb-d7a2-4782-d7cb-8d6847d7edd8"
      },
      "outputs": [
        {
          "name": "stdout",
          "output_type": "stream",
          "text": [
            "5/5 [==============================] - 11s 2s/step - loss: 10.8182 - accuracy: 0.4828\n",
            "Test loss: 10.818187713623047\n",
            "Test accuracy: 0.48275861144065857\n"
          ]
        }
      ],
      "source": [
        "score = model.evaluate(testImages, testTargets, verbose = 1) \n",
        "\n",
        "print('Test loss:', score[0]) \n",
        "print('Test accuracy:', score[1])"
      ]
    },
    {
      "cell_type": "code",
      "execution_count": null,
      "metadata": {
        "colab": {
          "base_uri": "https://localhost:8080/"
        },
        "id": "OVHRdXGuu8U_",
        "outputId": "eb04f6ca-8e0a-4b6e-aa70-b079b830f3d4"
      },
      "outputs": [
        {
          "output_type": "stream",
          "name": "stdout",
          "text": [
            "Epoch 1/10\n",
            "577/577 [==============================] - 602s 1s/step - loss: 3.5650 - accuracy: 0.4922 - val_loss: 3.4868 - val_accuracy: 0.4966\n",
            "Epoch 2/10\n",
            "577/577 [==============================] - 581s 1s/step - loss: 3.2831 - accuracy: 0.4939 - val_loss: 3.5555 - val_accuracy: 0.4966\n",
            "Epoch 3/10\n",
            "577/577 [==============================] - 586s 1s/step - loss: 3.1174 - accuracy: 0.4939 - val_loss: 3.9256 - val_accuracy: 0.4966\n",
            "Epoch 4/10\n",
            "577/577 [==============================] - 585s 1s/step - loss: 2.6958 - accuracy: 0.4939 - val_loss: 4.7144 - val_accuracy: 0.4966\n",
            "Epoch 5/10\n",
            "577/577 [==============================] - 576s 998ms/step - loss: 1.7642 - accuracy: 0.5615 - val_loss: 5.0830 - val_accuracy: 0.4897\n",
            "Epoch 6/10\n",
            "577/577 [==============================] - 600s 1s/step - loss: 0.6625 - accuracy: 0.8146 - val_loss: 5.8778 - val_accuracy: 0.3931\n",
            "Epoch 7/10\n",
            "577/577 [==============================] - 610s 1s/step - loss: 0.2503 - accuracy: 0.9237 - val_loss: 9.1119 - val_accuracy: 0.4897\n",
            "Epoch 8/10\n",
            "577/577 [==============================] - 585s 1s/step - loss: 0.1031 - accuracy: 0.9619 - val_loss: 9.8689 - val_accuracy: 0.4621\n",
            "Epoch 9/10\n",
            "577/577 [==============================] - 581s 1s/step - loss: 0.0587 - accuracy: 0.9809 - val_loss: 10.2470 - val_accuracy: 0.4759\n",
            "Epoch 10/10\n",
            "577/577 [==============================] - 577s 1000ms/step - loss: 0.0327 - accuracy: 0.9913 - val_loss: 9.7773 - val_accuracy: 0.4414\n"
          ]
        }
      ],
      "source": [
        "#Dropout of 0.2 testing different low batch size\n",
        "H1 = model.fit(\n",
        "    trainImages, trainTargets,\n",
        "    validation_data=(testImages, testTargets),\n",
        "    batch_size=1,\n",
        "    epochs=NUM_EPOCHS,\n",
        "    verbose=1,\n",
        "    )"
      ]
    },
    {
      "cell_type": "code",
      "source": [
        "#Dropout of 0.2 testing no batch size inputed\n",
        "H21 = model.fit(\n",
        "    trainImages, trainTargets,\n",
        "    validation_data=(testImages, testTargets),\n",
        "    epochs=NUM_EPOCHS,\n",
        "    verbose=1,\n",
        "    )"
      ],
      "metadata": {
        "colab": {
          "base_uri": "https://localhost:8080/"
        },
        "id": "AmeypzBFhboL",
        "outputId": "261233be-ae0b-4b46-f879-d91e7e441635"
      },
      "execution_count": null,
      "outputs": [
        {
          "output_type": "stream",
          "name": "stdout",
          "text": [
            "Epoch 1/10\n",
            "19/19 [==============================] - 174s 9s/step - loss: 0.0319 - accuracy: 0.9948 - val_loss: 10.0424 - val_accuracy: 0.4552\n",
            "Epoch 2/10\n",
            "19/19 [==============================] - 180s 9s/step - loss: 0.0195 - accuracy: 0.9983 - val_loss: 10.3947 - val_accuracy: 0.4690\n",
            "Epoch 3/10\n",
            "19/19 [==============================] - 168s 9s/step - loss: 0.0245 - accuracy: 0.9983 - val_loss: 10.8998 - val_accuracy: 0.4759\n",
            "Epoch 4/10\n",
            "19/19 [==============================] - 169s 9s/step - loss: 0.0228 - accuracy: 0.9948 - val_loss: 11.0422 - val_accuracy: 0.4759\n",
            "Epoch 5/10\n",
            "19/19 [==============================] - 171s 9s/step - loss: 0.0182 - accuracy: 0.9983 - val_loss: 11.1500 - val_accuracy: 0.4828\n",
            "Epoch 6/10\n",
            "19/19 [==============================] - 171s 9s/step - loss: 0.0144 - accuracy: 0.9983 - val_loss: 11.4155 - val_accuracy: 0.4759\n",
            "Epoch 7/10\n",
            "19/19 [==============================] - 170s 9s/step - loss: 0.0134 - accuracy: 0.9965 - val_loss: 11.6347 - val_accuracy: 0.4759\n",
            "Epoch 8/10\n",
            "19/19 [==============================] - 169s 9s/step - loss: 0.0139 - accuracy: 0.9948 - val_loss: 11.8920 - val_accuracy: 0.4759\n",
            "Epoch 9/10\n",
            "19/19 [==============================] - 170s 9s/step - loss: 0.0110 - accuracy: 0.9983 - val_loss: 12.1312 - val_accuracy: 0.4759\n",
            "Epoch 10/10\n",
            "19/19 [==============================] - 171s 9s/step - loss: 0.0104 - accuracy: 0.9983 - val_loss: 12.1593 - val_accuracy: 0.4759\n"
          ]
        }
      ]
    },
    {
      "cell_type": "code",
      "execution_count": null,
      "metadata": {
        "id": "L982cVAXeFWa"
      },
      "outputs": [],
      "source": [
        "#Dropout of 0.5\n",
        "H = model.fit(\n",
        "    trainImages, trainTargets,\n",
        "    validation_data=(testImages, testTargets),\n",
        "    batch_size=BATCH_SIZE,\n",
        "    epochs=NUM_EPOCHS,\n",
        "    verbose=1,\n",
        "    )"
      ]
    },
    {
      "cell_type": "code",
      "execution_count": null,
      "metadata": {
        "id": "lgkXpxw-Ni3P"
      },
      "outputs": [],
      "source": []
    },
    {
      "cell_type": "code",
      "execution_count": null,
      "metadata": {
        "colab": {
          "base_uri": "https://localhost:8080/"
        },
        "id": "KijE79OEky_Y",
        "outputId": "f252b9b7-56e0-45cc-9301-e316c56cc1e4"
      },
      "outputs": [
        {
          "name": "stdout",
          "output_type": "stream",
          "text": [
            "(52453, 224, 224, 3)\n"
          ]
        }
      ],
      "source": [
        "#removed 2nd conv2d layer\n",
        "model2 = keras.Sequential()\n",
        "model2.add(Conv2D(32, kernel_size=(3, 3), activation='relu', input_shape=(224, 224, 3)))\n",
        "# model.add(Conv2D(filters=32, kernel_size=3, activation='relu'))\n",
        "\n",
        "input_tensor=tf.reshape(input_tensor, [n_images, 224, 224, 3])\n",
        "model2.add(tf.keras.layers.MaxPooling2D(pool_size=(2, 2), input_shape=(input_tensor)))\n",
        "\n",
        "model2.add(Conv2D(filters=64, kernel_size=3, activation='relu'))\n",
        "model2.add(Conv2D(filters=64, kernel_size=3, activation='relu'))\n",
        "model2.add(tf.keras.layers.MaxPooling2D(pool_size=(2, 2), input_shape=(input_tensor)))\n",
        "\n",
        "\n",
        "model2.add(Flatten())\n",
        "model2.add(Dense(256, activation='relu'))\n",
        "model2.add(Dropout(0.5))\n",
        "\n",
        "model2.add(Dense(166, activation='softmax', name = \"class_label\"))\n",
        "\n"
      ]
    },
    {
      "cell_type": "code",
      "execution_count": null,
      "metadata": {
        "colab": {
          "base_uri": "https://localhost:8080/"
        },
        "id": "178Lc5TIHMPi",
        "outputId": "7fb65bd3-d7b0-423d-e4bd-2477af39a1af"
      },
      "outputs": [
        {
          "name": "stdout",
          "output_type": "stream",
          "text": [
            "Model: \"sequential_1\"\n",
            "_________________________________________________________________\n",
            " Layer (type)                Output Shape              Param #   \n",
            "=================================================================\n",
            " conv2d_4 (Conv2D)           (None, 222, 222, 32)      896       \n",
            "                                                                 \n",
            " max_pooling2d_2 (MaxPooling  (None, 111, 111, 32)     0         \n",
            " 2D)                                                             \n",
            "                                                                 \n",
            " conv2d_5 (Conv2D)           (None, 109, 109, 64)      18496     \n",
            "                                                                 \n",
            " conv2d_6 (Conv2D)           (None, 107, 107, 64)      36928     \n",
            "                                                                 \n",
            " max_pooling2d_3 (MaxPooling  (None, 53, 53, 64)       0         \n",
            " 2D)                                                             \n",
            "                                                                 \n",
            " flatten_2 (Flatten)         (None, 179776)            0         \n",
            "                                                                 \n",
            " dense_4 (Dense)             (None, 256)               46022912  \n",
            "                                                                 \n",
            " dropout_1 (Dropout)         (None, 256)               0         \n",
            "                                                                 \n",
            " class_label (Dense)         (None, 166)               42662     \n",
            "                                                                 \n",
            "=================================================================\n",
            "Total params: 46,121,894\n",
            "Trainable params: 46,121,894\n",
            "Non-trainable params: 0\n",
            "_________________________________________________________________\n",
            "None\n"
          ]
        }
      ],
      "source": [
        "opt = Adam(INIT_LR)\n",
        "\n",
        "model2.compile(loss=losses, \n",
        "              optimizer=opt, \n",
        "              metrics=[\"accuracy\"], \n",
        "              loss_weights=lossWeights)\n",
        "\n",
        "print(model2.summary())"
      ]
    },
    {
      "cell_type": "code",
      "execution_count": null,
      "metadata": {
        "colab": {
          "base_uri": "https://localhost:8080/"
        },
        "id": "02t4nDacHOaa",
        "outputId": "5300fa39-6eac-44e2-e0e4-d68ff88983ac"
      },
      "outputs": [
        {
          "name": "stdout",
          "output_type": "stream",
          "text": [
            "Epoch 1/10\n",
            "37/37 [==============================] - 149s 4s/step - loss: 3.6588 - accuracy: 0.4835 - val_loss: 3.3987 - val_accuracy: 0.4966\n",
            "Epoch 2/10\n",
            "37/37 [==============================] - 129s 3s/step - loss: 3.4369 - accuracy: 0.4939 - val_loss: 3.3427 - val_accuracy: 0.4966\n",
            "Epoch 3/10\n",
            "37/37 [==============================] - 133s 4s/step - loss: 3.2988 - accuracy: 0.4939 - val_loss: 3.3738 - val_accuracy: 0.4966\n",
            "Epoch 4/10\n",
            "37/37 [==============================] - 132s 4s/step - loss: 3.1808 - accuracy: 0.4939 - val_loss: 3.3462 - val_accuracy: 0.4966\n",
            "Epoch 5/10\n",
            "37/37 [==============================] - 133s 4s/step - loss: 2.8852 - accuracy: 0.4939 - val_loss: 3.4496 - val_accuracy: 0.4966\n",
            "Epoch 6/10\n",
            "37/37 [==============================] - 126s 3s/step - loss: 2.6368 - accuracy: 0.4957 - val_loss: 3.5267 - val_accuracy: 0.4966\n",
            "Epoch 7/10\n",
            "37/37 [==============================] - 125s 3s/step - loss: 2.1906 - accuracy: 0.5165 - val_loss: 3.6406 - val_accuracy: 0.4966\n",
            "Epoch 8/10\n",
            "37/37 [==============================] - 129s 3s/step - loss: 1.8414 - accuracy: 0.5598 - val_loss: 3.6408 - val_accuracy: 0.4966\n",
            "Epoch 9/10\n",
            "37/37 [==============================] - 130s 4s/step - loss: 1.4165 - accuracy: 0.6274 - val_loss: 4.6147 - val_accuracy: 0.4966\n",
            "Epoch 10/10\n",
            "37/37 [==============================] - 132s 4s/step - loss: 1.0249 - accuracy: 0.7192 - val_loss: 4.1549 - val_accuracy: 0.4966\n"
          ]
        }
      ],
      "source": [
        "H2 = model2.fit(\n",
        "    trainImages, trainTargets,\n",
        "    validation_data=(testImages, testTargets),\n",
        "    batch_size=BATCH_SIZE,\n",
        "    epochs=NUM_EPOCHS,\n",
        "    verbose=1,\n",
        "    )"
      ]
    },
    {
      "cell_type": "code",
      "execution_count": null,
      "metadata": {
        "id": "rKSiYrqqYOtO"
      },
      "outputs": [],
      "source": [
        "# #removed 3rd layer (max pooling)\n",
        "# model3 = keras.Sequential()\n",
        "# model3.add(Conv2D(32, kernel_size=(3, 3), activation='relu', input_shape=(224, 224, 3)))\n",
        "# model.add(Conv2D(filters=32, kernel_size=3, activation='relu'))\n",
        "# input_tensor=tf.reshape(input_tensor, [n_images, 224, 224, 3])\n",
        "# # model2.add(tf.keras.layers.MaxPooling2D(pool_size=(2, 2), input_shape=(input_tensor)))\n",
        "\n",
        "# model3.add(Conv2D(filters=64, kernel_size=3, activation='relu'))\n",
        "# model3.add(Conv2D(filters=64, kernel_size=3, activation='relu'))\n",
        "# model3.add(tf.keras.layers.MaxPooling2D(pool_size=(2, 2), input_shape=(input_tensor)))\n",
        "\n",
        "\n",
        "# model3.add(Flatten())\n",
        "# model3.add(Dense(256, activation='relu'))\n",
        "# model3.add(Dropout(0.5))\n",
        "\n",
        "# model3.add(Dense(166, activation='softmax', name = \"class_label\"))\n",
        "\n",
        "\n",
        "\n",
        "#Model 3 failed"
      ]
    },
    {
      "cell_type": "code",
      "execution_count": null,
      "metadata": {
        "id": "KQKCaQQslMpt"
      },
      "outputs": [],
      "source": [
        "# opt = Adam(INIT_LR)\n",
        "\n",
        "# model3.compile(loss=losses, \n",
        "#               optimizer=opt, \n",
        "#               metrics=[\"accuracy\"], \n",
        "#               loss_weights=lossWeights)\n",
        "\n",
        "# print(model3.summary())"
      ]
    },
    {
      "cell_type": "code",
      "execution_count": null,
      "metadata": {
        "id": "hJMGfIsXlZZ-"
      },
      "outputs": [],
      "source": [
        "# H3 = model3.fit(\n",
        "#     trainImages, trainTargets,\n",
        "#     validation_data=(testImages, testTargets),\n",
        "#     batch_size=BATCH_SIZE,\n",
        "#     epochs=NUM_EPOCHS,\n",
        "#     verbose=1,\n",
        "#     )"
      ]
    },
    {
      "cell_type": "code",
      "execution_count": null,
      "metadata": {
        "id": "rWnmP6HNlzVs"
      },
      "outputs": [],
      "source": [
        "#removed 4th layer (Cov2d)\n",
        "model4 = keras.Sequential()\n",
        "model4.add(Conv2D(32, kernel_size=(3, 3), activation='relu', input_shape=(224, 224, 3)))\n",
        "model4.add(Conv2D(filters=32, kernel_size=3, activation='relu'))\n",
        "input_tensor=tf.reshape(input_tensor, [n_images, 224, 224, 3])\n",
        "model4.add(tf.keras.layers.MaxPooling2D(pool_size=(2, 2), input_shape=(input_tensor)))\n",
        "\n",
        "# model2.add(Conv2D(filters=64, kernel_size=3, activation='relu'))\n",
        "model4.add(Conv2D(filters=64, kernel_size=3, activation='relu'))\n",
        "model4.add(tf.keras.layers.MaxPooling2D(pool_size=(2, 2), input_shape=(input_tensor)))\n",
        "\n",
        "\n",
        "model4.add(Flatten())\n",
        "model4.add(Dense(256, activation='relu'))\n",
        "model4.add(Dropout(0.5))\n",
        "\n",
        "model4.add(Dense(166, activation='softmax', name = \"class_label\"))\n"
      ]
    },
    {
      "cell_type": "code",
      "execution_count": null,
      "metadata": {
        "colab": {
          "base_uri": "https://localhost:8080/"
        },
        "id": "RMSM3w_roP0A",
        "outputId": "2d511d01-b23f-4218-fb35-e4f19b0d5b6d"
      },
      "outputs": [
        {
          "name": "stdout",
          "output_type": "stream",
          "text": [
            "Model: \"sequential_3\"\n",
            "_________________________________________________________________\n",
            " Layer (type)                Output Shape              Param #   \n",
            "=================================================================\n",
            " conv2d_9 (Conv2D)           (None, 222, 222, 32)      896       \n",
            "                                                                 \n",
            " conv2d_10 (Conv2D)          (None, 220, 220, 32)      9248      \n",
            "                                                                 \n",
            " max_pooling2d_4 (MaxPooling  (None, 110, 110, 32)     0         \n",
            " 2D)                                                             \n",
            "                                                                 \n",
            " conv2d_11 (Conv2D)          (None, 108, 108, 64)      18496     \n",
            "                                                                 \n",
            " max_pooling2d_5 (MaxPooling  (None, 54, 54, 64)       0         \n",
            " 2D)                                                             \n",
            "                                                                 \n",
            " flatten_3 (Flatten)         (None, 186624)            0         \n",
            "                                                                 \n",
            " dense_5 (Dense)             (None, 256)               47776000  \n",
            "                                                                 \n",
            " dropout_2 (Dropout)         (None, 256)               0         \n",
            "                                                                 \n",
            " class_label (Dense)         (None, 166)               42662     \n",
            "                                                                 \n",
            "=================================================================\n",
            "Total params: 47,847,302\n",
            "Trainable params: 47,847,302\n",
            "Non-trainable params: 0\n",
            "_________________________________________________________________\n",
            "None\n"
          ]
        }
      ],
      "source": [
        "opt = Adam(INIT_LR)\n",
        "\n",
        "model4.compile(loss=losses, \n",
        "              optimizer=opt, \n",
        "              metrics=[\"accuracy\"], \n",
        "              loss_weights=lossWeights)\n",
        "\n",
        "print(model4.summary())"
      ]
    },
    {
      "cell_type": "code",
      "execution_count": null,
      "metadata": {
        "colab": {
          "base_uri": "https://localhost:8080/"
        },
        "id": "nG74Uy2woS29",
        "outputId": "5672abac-760b-4640-d46c-67c8403c2e4e"
      },
      "outputs": [
        {
          "name": "stdout",
          "output_type": "stream",
          "text": [
            "Epoch 1/10\n",
            "37/37 [==============================] - 196s 5s/step - loss: 1.3736 - accuracy: 0.6308 - val_loss: 3.8716 - val_accuracy: 0.4897\n",
            "Epoch 2/10\n",
            "37/37 [==============================] - 162s 4s/step - loss: 1.2052 - accuracy: 0.6846 - val_loss: 4.4292 - val_accuracy: 0.4966\n",
            "Epoch 3/10\n",
            "37/37 [==============================] - 160s 4s/step - loss: 0.9161 - accuracy: 0.7470 - val_loss: 4.1793 - val_accuracy: 0.4966\n",
            "Epoch 4/10\n",
            "37/37 [==============================] - 158s 4s/step - loss: 0.7237 - accuracy: 0.8042 - val_loss: 4.3635 - val_accuracy: 0.4966\n",
            "Epoch 5/10\n",
            "37/37 [==============================] - 158s 4s/step - loss: 0.5691 - accuracy: 0.8475 - val_loss: 4.7936 - val_accuracy: 0.4966\n",
            "Epoch 6/10\n",
            "37/37 [==============================] - 160s 4s/step - loss: 0.3827 - accuracy: 0.8960 - val_loss: 5.4054 - val_accuracy: 0.4966\n",
            "Epoch 7/10\n",
            "37/37 [==============================] - 158s 4s/step - loss: 0.3272 - accuracy: 0.9133 - val_loss: 5.6681 - val_accuracy: 0.4966\n",
            "Epoch 8/10\n",
            "37/37 [==============================] - 154s 4s/step - loss: 0.3740 - accuracy: 0.9099 - val_loss: 5.5768 - val_accuracy: 0.4966\n",
            "Epoch 9/10\n",
            "37/37 [==============================] - 158s 4s/step - loss: 0.2105 - accuracy: 0.9515 - val_loss: 5.9099 - val_accuracy: 0.4966\n",
            "Epoch 10/10\n",
            "37/37 [==============================] - 159s 4s/step - loss: 0.2050 - accuracy: 0.9480 - val_loss: 5.8426 - val_accuracy: 0.4966\n"
          ]
        }
      ],
      "source": [
        "H4 = model4.fit(\n",
        "    trainImages, trainTargets,\n",
        "    validation_data=(testImages, testTargets),\n",
        "    batch_size=BATCH_SIZE,\n",
        "    epochs=NUM_EPOCHS,\n",
        "    verbose=1,\n",
        "    )"
      ]
    },
    {
      "cell_type": "code",
      "execution_count": null,
      "metadata": {
        "id": "Dl4RM7ImpvZX"
      },
      "outputs": [],
      "source": [
        "#removed 4th layer and 5th layer (Cov2d)\n",
        "model5 = keras.Sequential()\n",
        "model5.add(Conv2D(32, kernel_size=(3, 3), activation='relu', input_shape=(224, 224, 3)))\n",
        "model5.add(Conv2D(filters=32, kernel_size=3, activation='relu'))\n",
        "input_tensor=tf.reshape(input_tensor, [n_images, 224, 224, 3])\n",
        "model5.add(tf.keras.layers.MaxPooling2D(pool_size=(2, 2), input_shape=(input_tensor)))\n",
        "\n",
        "# model5.add(Conv2D(filters=64, kernel_size=3, activation='relu'))\n",
        "# model5.add(Conv2D(filters=64, kernel_size=3, activation='relu'))\n",
        "model5.add(tf.keras.layers.MaxPooling2D(pool_size=(2, 2), input_shape=(input_tensor)))\n",
        "\n",
        "\n",
        "model5.add(Flatten())\n",
        "model5.add(Dense(256, activation='relu'))\n",
        "model5.add(Dropout(0.5))\n",
        "\n",
        "model5.add(Dense(166, activation='softmax', name = \"class_label\"))\n"
      ]
    },
    {
      "cell_type": "code",
      "execution_count": null,
      "metadata": {
        "colab": {
          "base_uri": "https://localhost:8080/"
        },
        "id": "vOjUo4ZpFT_n",
        "outputId": "e6e28f63-ce52-4d3d-c42e-2b4769168f99"
      },
      "outputs": [
        {
          "name": "stdout",
          "output_type": "stream",
          "text": [
            "Model: \"sequential_2\"\n",
            "_________________________________________________________________\n",
            " Layer (type)                Output Shape              Param #   \n",
            "=================================================================\n",
            " conv2d_8 (Conv2D)           (None, 222, 222, 32)      896       \n",
            "                                                                 \n",
            " conv2d_9 (Conv2D)           (None, 220, 220, 32)      9248      \n",
            "                                                                 \n",
            " max_pooling2d_3 (MaxPooling  (None, 110, 110, 32)     0         \n",
            " 2D)                                                             \n",
            "                                                                 \n",
            " max_pooling2d_4 (MaxPooling  (None, 55, 55, 32)       0         \n",
            " 2D)                                                             \n",
            "                                                                 \n",
            " flatten_3 (Flatten)         (None, 96800)             0         \n",
            "                                                                 \n",
            " dense_5 (Dense)             (None, 256)               24781056  \n",
            "                                                                 \n",
            " dropout_2 (Dropout)         (None, 256)               0         \n",
            "                                                                 \n",
            " class_label (Dense)         (None, 166)               42662     \n",
            "                                                                 \n",
            "=================================================================\n",
            "Total params: 24,833,862\n",
            "Trainable params: 24,833,862\n",
            "Non-trainable params: 0\n",
            "_________________________________________________________________\n",
            "None\n"
          ]
        }
      ],
      "source": [
        "opt = Adam(INIT_LR)\n",
        "\n",
        "model5.compile(loss=losses, \n",
        "              optimizer=opt, \n",
        "              metrics=[\"accuracy\"], \n",
        "              loss_weights=lossWeights)\n",
        "\n",
        "print(model5.summary())"
      ]
    },
    {
      "cell_type": "code",
      "execution_count": null,
      "metadata": {
        "colab": {
          "base_uri": "https://localhost:8080/"
        },
        "id": "HFr3gko0FXVe",
        "outputId": "cd3d7f40-1890-4045-88ba-b4127c209a63"
      },
      "outputs": [
        {
          "name": "stdout",
          "output_type": "stream",
          "text": [
            "Epoch 1/10\n",
            "37/37 [==============================] - 103s 3s/step - loss: 3.7293 - accuracy: 0.4766 - val_loss: 3.4117 - val_accuracy: 0.4966\n",
            "Epoch 2/10\n",
            "37/37 [==============================] - 100s 3s/step - loss: 3.5283 - accuracy: 0.4939 - val_loss: 3.4019 - val_accuracy: 0.4966\n",
            "Epoch 3/10\n",
            "37/37 [==============================] - 104s 3s/step - loss: 3.4235 - accuracy: 0.4939 - val_loss: 3.4054 - val_accuracy: 0.4966\n",
            "Epoch 4/10\n",
            "37/37 [==============================] - 101s 3s/step - loss: 3.2816 - accuracy: 0.4939 - val_loss: 3.4111 - val_accuracy: 0.4966\n",
            "Epoch 5/10\n",
            "37/37 [==============================] - 104s 3s/step - loss: 3.2695 - accuracy: 0.4939 - val_loss: 3.4938 - val_accuracy: 0.4966\n",
            "Epoch 6/10\n",
            "37/37 [==============================] - 100s 3s/step - loss: 3.1619 - accuracy: 0.4939 - val_loss: 3.4356 - val_accuracy: 0.4966\n",
            "Epoch 7/10\n",
            "37/37 [==============================] - 101s 3s/step - loss: 2.9767 - accuracy: 0.4939 - val_loss: 3.4706 - val_accuracy: 0.4966\n",
            "Epoch 8/10\n",
            "37/37 [==============================] - 100s 3s/step - loss: 2.8514 - accuracy: 0.4957 - val_loss: 3.5116 - val_accuracy: 0.4966\n",
            "Epoch 9/10\n",
            "37/37 [==============================] - 99s 3s/step - loss: 2.7684 - accuracy: 0.4957 - val_loss: 3.5480 - val_accuracy: 0.4966\n",
            "Epoch 10/10\n",
            "37/37 [==============================] - 105s 3s/step - loss: 2.5636 - accuracy: 0.4991 - val_loss: 3.6192 - val_accuracy: 0.4966\n"
          ]
        }
      ],
      "source": [
        "H5 = model5.fit(\n",
        "    trainImages, trainTargets,\n",
        "    validation_data=(testImages, testTargets),\n",
        "    batch_size=BATCH_SIZE,\n",
        "    epochs=NUM_EPOCHS,\n",
        "    verbose=1,\n",
        "    )"
      ]
    },
    {
      "cell_type": "code",
      "execution_count": null,
      "metadata": {
        "id": "igSd5JtuFaBO"
      },
      "outputs": [],
      "source": [
        "#removed bottom max pooling layer\n",
        "model6 = keras.Sequential()\n",
        "model6.add(Conv2D(32, kernel_size=(3, 3), activation='relu', input_shape=(224, 224, 3)))\n",
        "model6.add(Conv2D(filters=32, kernel_size=3, activation='relu'))\n",
        "input_tensor=tf.reshape(input_tensor, [n_images, 224, 224, 3])\n",
        "model6.add(tf.keras.layers.MaxPooling2D(pool_size=(2, 2), input_shape=(input_tensor)))\n",
        "\n",
        "model6.add(Conv2D(filters=64, kernel_size=3, activation='relu'))\n",
        "model6.add(Conv2D(filters=64, kernel_size=3, activation='relu'))\n",
        "# model6.add(tf.keras.layers.MaxPooling2D(pool_size=(2, 2), input_shape=(input_tensor)))\n",
        "\n",
        "\n",
        "model6.add(Flatten())\n",
        "model6.add(Dense(256, activation='relu'))\n",
        "model6.add(Dropout(0.5))\n",
        "\n",
        "model6.add(Dense(166, activation='softmax', name = \"class_label\"))\n"
      ]
    },
    {
      "cell_type": "code",
      "execution_count": null,
      "metadata": {
        "colab": {
          "base_uri": "https://localhost:8080/"
        },
        "id": "pbml5ZH8Fwi-",
        "outputId": "64324425-7bf3-4b28-fe8c-7130a936f188"
      },
      "outputs": [
        {
          "name": "stdout",
          "output_type": "stream",
          "text": [
            "Model: \"sequential_1\"\n",
            "_________________________________________________________________\n",
            " Layer (type)                Output Shape              Param #   \n",
            "=================================================================\n",
            " conv2d_4 (Conv2D)           (None, 222, 222, 32)      896       \n",
            "                                                                 \n",
            " conv2d_5 (Conv2D)           (None, 220, 220, 32)      9248      \n",
            "                                                                 \n",
            " max_pooling2d_2 (MaxPooling  (None, 110, 110, 32)     0         \n",
            " 2D)                                                             \n",
            "                                                                 \n",
            " conv2d_6 (Conv2D)           (None, 108, 108, 64)      18496     \n",
            "                                                                 \n",
            " conv2d_7 (Conv2D)           (None, 106, 106, 64)      36928     \n",
            "                                                                 \n",
            " flatten_2 (Flatten)         (None, 719104)            0         \n",
            "                                                                 \n",
            " dense_1 (Dense)             (None, 256)               184090880 \n",
            "                                                                 \n",
            " dropout_1 (Dropout)         (None, 256)               0         \n",
            "                                                                 \n",
            " class_label (Dense)         (None, 166)               42662     \n",
            "                                                                 \n",
            "=================================================================\n",
            "Total params: 184,199,110\n",
            "Trainable params: 184,199,110\n",
            "Non-trainable params: 0\n",
            "_________________________________________________________________\n",
            "None\n"
          ]
        }
      ],
      "source": [
        "opt = Adam(INIT_LR)\n",
        "\n",
        "model6.compile(loss=losses, \n",
        "              optimizer=opt, \n",
        "              metrics=[\"accuracy\"], \n",
        "              loss_weights=lossWeights)\n",
        "\n",
        "print(model6.summary())"
      ]
    },
    {
      "cell_type": "code",
      "execution_count": null,
      "metadata": {
        "colab": {
          "base_uri": "https://localhost:8080/"
        },
        "id": "oua2UWSmFwZz",
        "outputId": "fa431d80-2e9e-4967-ad13-1544130cebdc"
      },
      "outputs": [
        {
          "name": "stdout",
          "output_type": "stream",
          "text": [
            "Epoch 1/10\n",
            "37/37 [==============================] - 273s 7s/step - loss: 3.7990 - accuracy: 0.4593 - val_loss: 3.4112 - val_accuracy: 0.4966\n",
            "Epoch 2/10\n",
            "37/37 [==============================] - 271s 7s/step - loss: 3.4542 - accuracy: 0.4939 - val_loss: 3.4665 - val_accuracy: 0.4966\n",
            "Epoch 3/10\n",
            "37/37 [==============================] - 279s 8s/step - loss: 3.3434 - accuracy: 0.4939 - val_loss: 3.4438 - val_accuracy: 0.4966\n",
            "Epoch 4/10\n",
            "37/37 [==============================] - 272s 7s/step - loss: 3.0213 - accuracy: 0.4939 - val_loss: 3.4079 - val_accuracy: 0.4966\n",
            "Epoch 5/10\n",
            "37/37 [==============================] - 273s 7s/step - loss: 2.5447 - accuracy: 0.4974 - val_loss: 3.4478 - val_accuracy: 0.4966\n",
            "Epoch 6/10\n",
            "37/37 [==============================] - 270s 7s/step - loss: 2.0988 - accuracy: 0.5147 - val_loss: 3.5202 - val_accuracy: 0.4966\n",
            "Epoch 7/10\n",
            "37/37 [==============================] - 263s 7s/step - loss: 1.5891 - accuracy: 0.5858 - val_loss: 3.7486 - val_accuracy: 0.4966\n",
            "Epoch 8/10\n",
            "37/37 [==============================] - 278s 8s/step - loss: 1.2005 - accuracy: 0.6707 - val_loss: 4.2668 - val_accuracy: 0.4966\n",
            "Epoch 9/10\n",
            "37/37 [==============================] - 273s 7s/step - loss: 0.7280 - accuracy: 0.7712 - val_loss: 4.6987 - val_accuracy: 0.4966\n",
            "Epoch 10/10\n",
            "37/37 [==============================] - 274s 7s/step - loss: 0.5054 - accuracy: 0.8406 - val_loss: 4.6363 - val_accuracy: 0.4897\n"
          ]
        }
      ],
      "source": [
        "H6 = model6.fit(\n",
        "    trainImages, trainTargets,\n",
        "    validation_data=(testImages, testTargets),\n",
        "    batch_size=BATCH_SIZE,\n",
        "    epochs=NUM_EPOCHS,\n",
        "    verbose=1,\n",
        "    )"
      ]
    },
    {
      "cell_type": "code",
      "execution_count": null,
      "metadata": {
        "id": "ncAXMxbdF6WJ"
      },
      "outputs": [],
      "source": [
        "# #removed flatten layer\n",
        "# #This one doesn't work\n",
        "# model7 = keras.Sequential()\n",
        "# model7.add(Conv2D(32, kernel_size=(3, 3), activation='relu', input_shape=(224, 224, 3)))\n",
        "# model7.add(Conv2D(filters=32, kernel_size=3, activation='relu'))\n",
        "# input_tensor=tf.reshape(input_tensor, [n_images, 224, 224, 3])\n",
        "# model7.add(tf.keras.layers.MaxPooling2D(pool_size=(2, 2), input_shape=(input_tensor)))\n",
        "\n",
        "# model7.add(Conv2D(filters=64, kernel_size=3, activation='relu'))\n",
        "# model7.add(Conv2D(filters=64, kernel_size=3, activation='relu'))\n",
        "# model7.add(tf.keras.layers.MaxPooling2D(pool_size=(2, 2), input_shape=(input_tensor)))\n",
        "\n",
        "\n",
        "# # model7.add(Flatten())\n",
        "# model7.add(Dense(256, activation='relu'))\n",
        "# model7.add(Dropout(0.5))\n",
        "\n",
        "# model7.add(Dense(166, activation='softmax', name = \"class_label\"))\n"
      ]
    },
    {
      "cell_type": "code",
      "execution_count": null,
      "metadata": {
        "colab": {
          "base_uri": "https://localhost:8080/"
        },
        "id": "OL9E_0yPGEJl",
        "outputId": "49daa763-1879-430b-c392-9038bdb77a6b"
      },
      "outputs": [
        {
          "name": "stdout",
          "output_type": "stream",
          "text": [
            "Model: \"sequential_3\"\n",
            "_________________________________________________________________\n",
            " Layer (type)                Output Shape              Param #   \n",
            "=================================================================\n",
            " conv2d_10 (Conv2D)          (None, 222, 222, 32)      896       \n",
            "                                                                 \n",
            " conv2d_11 (Conv2D)          (None, 220, 220, 32)      9248      \n",
            "                                                                 \n",
            " max_pooling2d_5 (MaxPooling  (None, 110, 110, 32)     0         \n",
            " 2D)                                                             \n",
            "                                                                 \n",
            " conv2d_12 (Conv2D)          (None, 108, 108, 64)      18496     \n",
            "                                                                 \n",
            " conv2d_13 (Conv2D)          (None, 106, 106, 64)      36928     \n",
            "                                                                 \n",
            " max_pooling2d_6 (MaxPooling  (None, 53, 53, 64)       0         \n",
            " 2D)                                                             \n",
            "                                                                 \n",
            " dense_6 (Dense)             (None, 53, 53, 256)       16640     \n",
            "                                                                 \n",
            " dropout_3 (Dropout)         (None, 53, 53, 256)       0         \n",
            "                                                                 \n",
            " class_label (Dense)         (None, 53, 53, 166)       42662     \n",
            "                                                                 \n",
            "=================================================================\n",
            "Total params: 124,870\n",
            "Trainable params: 124,870\n",
            "Non-trainable params: 0\n",
            "_________________________________________________________________\n",
            "None\n"
          ]
        }
      ],
      "source": [
        "# opt = Adam(INIT_LR)\n",
        "\n",
        "# model7.compile(loss=losses, \n",
        "#               optimizer=opt, \n",
        "#               metrics=[\"accuracy\"], \n",
        "#               loss_weights=lossWeights)\n",
        "\n",
        "# print(model7.summary())"
      ]
    },
    {
      "cell_type": "code",
      "execution_count": null,
      "metadata": {
        "id": "PU0XfPE8GH8U"
      },
      "outputs": [],
      "source": [
        "# H7 = model7.fit(\n",
        "#     trainImages, trainTargets,\n",
        "#     validation_data=(testImages, testTargets),\n",
        "#     batch_size=BATCH_SIZE,\n",
        "#     epochs=NUM_EPOCHS,\n",
        "#     verbose=1,\n",
        "#     )"
      ]
    },
    {
      "cell_type": "code",
      "execution_count": null,
      "metadata": {
        "id": "0VENFWsZGTtc"
      },
      "outputs": [],
      "source": [
        "#removed Dense layer (3rd to last layer)\n",
        "model8 = keras.Sequential()\n",
        "model8.add(Conv2D(32, kernel_size=(3, 3), activation='relu', input_shape=(224, 224, 3)))\n",
        "model8.add(Conv2D(filters=32, kernel_size=3, activation='relu'))\n",
        "input_tensor=tf.reshape(input_tensor, [n_images, 224, 224, 3])\n",
        "model8.add(tf.keras.layers.MaxPooling2D(pool_size=(2, 2), input_shape=(input_tensor)))\n",
        "\n",
        "model8.add(Conv2D(filters=64, kernel_size=3, activation='relu'))\n",
        "model8.add(Conv2D(filters=64, kernel_size=3, activation='relu'))\n",
        "model8.add(tf.keras.layers.MaxPooling2D(pool_size=(2, 2), input_shape=(input_tensor)))\n",
        "\n",
        "\n",
        "model8.add(Flatten())\n",
        "# model8.add(Dense(256, activation='relu'))\n",
        "model8.add(Dropout(0.5))\n",
        "\n",
        "model8.add(Dense(166, activation='softmax', name = \"class_label\"))\n"
      ]
    },
    {
      "cell_type": "code",
      "execution_count": null,
      "metadata": {
        "colab": {
          "base_uri": "https://localhost:8080/"
        },
        "id": "IkAsk9OZGUnR",
        "outputId": "46945b11-d484-48a7-8411-d7073daa50d9"
      },
      "outputs": [
        {
          "name": "stdout",
          "output_type": "stream",
          "text": [
            "Model: \"sequential_4\"\n",
            "_________________________________________________________________\n",
            " Layer (type)                Output Shape              Param #   \n",
            "=================================================================\n",
            " conv2d_14 (Conv2D)          (None, 222, 222, 32)      896       \n",
            "                                                                 \n",
            " conv2d_15 (Conv2D)          (None, 220, 220, 32)      9248      \n",
            "                                                                 \n",
            " max_pooling2d_7 (MaxPooling  (None, 110, 110, 32)     0         \n",
            " 2D)                                                             \n",
            "                                                                 \n",
            " conv2d_16 (Conv2D)          (None, 108, 108, 64)      18496     \n",
            "                                                                 \n",
            " conv2d_17 (Conv2D)          (None, 106, 106, 64)      36928     \n",
            "                                                                 \n",
            " max_pooling2d_8 (MaxPooling  (None, 53, 53, 64)       0         \n",
            " 2D)                                                             \n",
            "                                                                 \n",
            " flatten_4 (Flatten)         (None, 179776)            0         \n",
            "                                                                 \n",
            " dropout_4 (Dropout)         (None, 179776)            0         \n",
            "                                                                 \n",
            " class_label (Dense)         (None, 166)               29842982  \n",
            "                                                                 \n",
            "=================================================================\n",
            "Total params: 29,908,550\n",
            "Trainable params: 29,908,550\n",
            "Non-trainable params: 0\n",
            "_________________________________________________________________\n",
            "None\n"
          ]
        }
      ],
      "source": [
        "opt = Adam(INIT_LR)\n",
        "\n",
        "model8.compile(loss=losses, \n",
        "              optimizer=opt, \n",
        "              metrics=[\"accuracy\"], \n",
        "              loss_weights=lossWeights)\n",
        "\n",
        "print(model8.summary())"
      ]
    },
    {
      "cell_type": "code",
      "execution_count": null,
      "metadata": {
        "colab": {
          "base_uri": "https://localhost:8080/"
        },
        "id": "8CFkm-DCGrWW",
        "outputId": "b8a03950-31b3-4aa5-b961-7bf3f1de2bbd"
      },
      "outputs": [
        {
          "name": "stdout",
          "output_type": "stream",
          "text": [
            "Epoch 1/10\n",
            "37/37 [==============================] - 172s 5s/step - loss: 3.6441 - accuracy: 0.4801 - val_loss: 3.4704 - val_accuracy: 0.4966\n",
            "Epoch 2/10\n",
            "37/37 [==============================] - 170s 5s/step - loss: 3.1439 - accuracy: 0.4939 - val_loss: 3.5360 - val_accuracy: 0.4966\n",
            "Epoch 3/10\n",
            "37/37 [==============================] - 168s 5s/step - loss: 2.9884 - accuracy: 0.4939 - val_loss: 3.5929 - val_accuracy: 0.4966\n",
            "Epoch 4/10\n",
            "37/37 [==============================] - 169s 5s/step - loss: 2.6743 - accuracy: 0.4939 - val_loss: 3.6071 - val_accuracy: 0.4966\n",
            "Epoch 5/10\n",
            "37/37 [==============================] - 171s 5s/step - loss: 2.2084 - accuracy: 0.4939 - val_loss: 3.9411 - val_accuracy: 0.4966\n",
            "Epoch 6/10\n",
            "37/37 [==============================] - 169s 5s/step - loss: 1.3812 - accuracy: 0.5754 - val_loss: 5.1907 - val_accuracy: 0.4966\n",
            "Epoch 7/10\n",
            "37/37 [==============================] - 171s 5s/step - loss: 0.4589 - accuracy: 0.8440 - val_loss: 6.7146 - val_accuracy: 0.4966\n",
            "Epoch 8/10\n",
            "37/37 [==============================] - 170s 5s/step - loss: 0.1290 - accuracy: 0.9705 - val_loss: 7.7333 - val_accuracy: 0.4828\n",
            "Epoch 9/10\n",
            "37/37 [==============================] - 171s 5s/step - loss: 0.0544 - accuracy: 0.9948 - val_loss: 9.0413 - val_accuracy: 0.4897\n",
            "Epoch 10/10\n",
            "37/37 [==============================] - 170s 5s/step - loss: 0.0355 - accuracy: 0.9983 - val_loss: 9.9206 - val_accuracy: 0.4897\n"
          ]
        }
      ],
      "source": [
        "H8 = model8.fit(\n",
        "    trainImages, trainTargets,\n",
        "    validation_data=(testImages, testTargets),\n",
        "    batch_size=BATCH_SIZE,\n",
        "    epochs=NUM_EPOCHS,\n",
        "    verbose=1,\n",
        "    )"
      ]
    },
    {
      "cell_type": "code",
      "execution_count": null,
      "metadata": {
        "id": "WHR5jv2WGvvx"
      },
      "outputs": [],
      "source": [
        "#removed Dropout\n",
        "model9 = keras.Sequential()\n",
        "model9.add(Conv2D(32, kernel_size=(3, 3), activation='relu', input_shape=(224, 224, 3)))\n",
        "model9.add(Conv2D(filters=32, kernel_size=3, activation='relu'))\n",
        "input_tensor=tf.reshape(input_tensor, [n_images, 224, 224, 3])\n",
        "model9.add(tf.keras.layers.MaxPooling2D(pool_size=(2, 2), input_shape=(input_tensor)))\n",
        "\n",
        "model9.add(Conv2D(filters=64, kernel_size=3, activation='relu'))\n",
        "model9.add(Conv2D(filters=64, kernel_size=3, activation='relu'))\n",
        "model9.add(tf.keras.layers.MaxPooling2D(pool_size=(2, 2), input_shape=(input_tensor)))\n",
        "\n",
        "\n",
        "model9.add(Flatten())\n",
        "model9.add(Dense(256, activation='relu'))\n",
        "# model9.add(Dropout(0.5))\n",
        "\n",
        "model9.add(Dense(166, activation='softmax', name = \"class_label\"))\n"
      ]
    },
    {
      "cell_type": "code",
      "execution_count": null,
      "metadata": {
        "colab": {
          "base_uri": "https://localhost:8080/"
        },
        "id": "_jibHdk-GvoT",
        "outputId": "fb3c95ce-8cdd-4c76-9e3b-9cf6f5347a79"
      },
      "outputs": [
        {
          "name": "stdout",
          "output_type": "stream",
          "text": [
            "Model: \"sequential\"\n",
            "_________________________________________________________________\n",
            " Layer (type)                Output Shape              Param #   \n",
            "=================================================================\n",
            " conv2d (Conv2D)             (None, 222, 222, 32)      896       \n",
            "                                                                 \n",
            " conv2d_1 (Conv2D)           (None, 220, 220, 32)      9248      \n",
            "                                                                 \n",
            " max_pooling2d (MaxPooling2D  (None, 110, 110, 32)     0         \n",
            " )                                                               \n",
            "                                                                 \n",
            " conv2d_2 (Conv2D)           (None, 108, 108, 64)      18496     \n",
            "                                                                 \n",
            " conv2d_3 (Conv2D)           (None, 106, 106, 64)      36928     \n",
            "                                                                 \n",
            " max_pooling2d_1 (MaxPooling  (None, 53, 53, 64)       0         \n",
            " 2D)                                                             \n",
            "                                                                 \n",
            " flatten_1 (Flatten)         (None, 179776)            0         \n",
            "                                                                 \n",
            " dense_3 (Dense)             (None, 256)               46022912  \n",
            "                                                                 \n",
            " class_label (Dense)         (None, 166)               42662     \n",
            "                                                                 \n",
            "=================================================================\n",
            "Total params: 46,131,142\n",
            "Trainable params: 46,131,142\n",
            "Non-trainable params: 0\n",
            "_________________________________________________________________\n",
            "None\n"
          ]
        }
      ],
      "source": [
        "opt = Adam(INIT_LR)\n",
        "\n",
        "model9.compile(loss=losses, \n",
        "              optimizer=opt, \n",
        "              metrics=[\"accuracy\"], \n",
        "              loss_weights=lossWeights)\n",
        "\n",
        "print(model9.summary())"
      ]
    },
    {
      "cell_type": "code",
      "execution_count": null,
      "metadata": {
        "colab": {
          "base_uri": "https://localhost:8080/"
        },
        "id": "TB0xtcQ4GvgP",
        "outputId": "32dddadc-3b5e-4ad1-9884-00eb67a8aeba"
      },
      "outputs": [
        {
          "name": "stdout",
          "output_type": "stream",
          "text": [
            "Epoch 1/10\n",
            "37/37 [==============================] - 195s 5s/step - loss: 3.5577 - accuracy: 0.4801 - val_loss: 3.4213 - val_accuracy: 0.4966\n",
            "Epoch 2/10\n",
            "37/37 [==============================] - 208s 6s/step - loss: 3.2822 - accuracy: 0.4939 - val_loss: 3.4777 - val_accuracy: 0.4966\n",
            "Epoch 3/10\n",
            "37/37 [==============================] - 193s 5s/step - loss: 3.1355 - accuracy: 0.4939 - val_loss: 3.6653 - val_accuracy: 0.4966\n",
            "Epoch 4/10\n",
            "37/37 [==============================] - 204s 5s/step - loss: 2.8827 - accuracy: 0.4939 - val_loss: 3.6216 - val_accuracy: 0.4966\n",
            "Epoch 5/10\n",
            "37/37 [==============================] - 201s 5s/step - loss: 2.3362 - accuracy: 0.5078 - val_loss: 3.7710 - val_accuracy: 0.4966\n",
            "Epoch 6/10\n",
            "37/37 [==============================] - 205s 6s/step - loss: 1.6269 - accuracy: 0.5962 - val_loss: 4.1318 - val_accuracy: 0.4759\n",
            "Epoch 7/10\n",
            "37/37 [==============================] - 206s 6s/step - loss: 0.7678 - accuracy: 0.8111 - val_loss: 5.1170 - val_accuracy: 0.4276\n",
            "Epoch 8/10\n",
            "37/37 [==============================] - 197s 5s/step - loss: 0.3078 - accuracy: 0.9237 - val_loss: 5.7116 - val_accuracy: 0.4690\n",
            "Epoch 9/10\n",
            "37/37 [==============================] - 194s 5s/step - loss: 0.1103 - accuracy: 0.9740 - val_loss: 7.6029 - val_accuracy: 0.4897\n",
            "Epoch 10/10\n",
            "37/37 [==============================] - 193s 5s/step - loss: 0.0951 - accuracy: 0.9896 - val_loss: 5.8278 - val_accuracy: 0.3103\n"
          ]
        }
      ],
      "source": [
        "H9 = model9.fit(\n",
        "    trainImages, trainTargets,\n",
        "    validation_data=(testImages, testTargets),\n",
        "    batch_size=BATCH_SIZE,\n",
        "    epochs=NUM_EPOCHS,\n",
        "    verbose=1,\n",
        "    )"
      ]
    },
    {
      "cell_type": "code",
      "execution_count": null,
      "metadata": {
        "id": "Ttb8AMaqGvTE"
      },
      "outputs": [],
      "source": [
        "# #removed final dense\n",
        "#This one fails\n",
        "# model10 = keras.Sequential()\n",
        "# model10.add(Conv2D(32, kernel_size=(3, 3), activation='relu', input_shape=(224, 224, 3)))\n",
        "# model10.add(Conv2D(filters=32, kernel_size=3, activation='relu'))\n",
        "# input_tensor=tf.reshape(input_tensor, [n_images, 224, 224, 3])\n",
        "# model10.add(tf.keras.layers.MaxPooling2D(pool_size=(2, 2), input_shape=(input_tensor)))\n",
        "\n",
        "# model10.add(Conv2D(filters=64, kernel_size=3, activation='relu'))\n",
        "# model10.add(Conv2D(filters=64, kernel_size=3, activation='relu'))\n",
        "# model10.add(tf.keras.layers.MaxPooling2D(pool_size=(2, 2), input_shape=(input_tensor)))\n",
        "\n",
        "\n",
        "# model10.add(Flatten())\n",
        "# model10.add(Dense(256, activation='relu'))\n",
        "# model10.add(Dropout(0.5))\n",
        "\n",
        "# # model10.add(Dense(166, activation='softmax', name = \"class_label\"))\n"
      ]
    },
    {
      "cell_type": "code",
      "execution_count": null,
      "metadata": {
        "colab": {
          "base_uri": "https://localhost:8080/"
        },
        "id": "c8mLvu8ZGvJ6",
        "outputId": "da781949-6e84-4551-9bfe-a7dec9c6fcdc"
      },
      "outputs": [
        {
          "name": "stdout",
          "output_type": "stream",
          "text": [
            "Model: \"sequential_1\"\n",
            "_________________________________________________________________\n",
            " Layer (type)                Output Shape              Param #   \n",
            "=================================================================\n",
            " conv2d_4 (Conv2D)           (None, 222, 222, 32)      896       \n",
            "                                                                 \n",
            " conv2d_5 (Conv2D)           (None, 220, 220, 32)      9248      \n",
            "                                                                 \n",
            " max_pooling2d_2 (MaxPooling  (None, 110, 110, 32)     0         \n",
            " 2D)                                                             \n",
            "                                                                 \n",
            " conv2d_6 (Conv2D)           (None, 108, 108, 64)      18496     \n",
            "                                                                 \n",
            " conv2d_7 (Conv2D)           (None, 106, 106, 64)      36928     \n",
            "                                                                 \n",
            " max_pooling2d_3 (MaxPooling  (None, 53, 53, 64)       0         \n",
            " 2D)                                                             \n",
            "                                                                 \n",
            " flatten_2 (Flatten)         (None, 179776)            0         \n",
            "                                                                 \n",
            " dense_4 (Dense)             (None, 256)               46022912  \n",
            "                                                                 \n",
            " dropout (Dropout)           (None, 256)               0         \n",
            "                                                                 \n",
            "=================================================================\n",
            "Total params: 46,088,480\n",
            "Trainable params: 46,088,480\n",
            "Non-trainable params: 0\n",
            "_________________________________________________________________\n",
            "None\n"
          ]
        }
      ],
      "source": [
        "opt = Adam(INIT_LR)\n",
        "\n",
        "model10.compile(loss=losses, \n",
        "              optimizer=opt, \n",
        "              metrics=[\"accuracy\"], \n",
        "              loss_weights=lossWeights)\n",
        "\n",
        "print(model10.summary())"
      ]
    },
    {
      "cell_type": "code",
      "execution_count": null,
      "metadata": {
        "id": "H9zK0ZXQGu4x"
      },
      "outputs": [],
      "source": [
        "# H10 = model10.fit(\n",
        "#     trainImages, trainTargets,\n",
        "#     validation_data=(testImages, testTargets),\n",
        "#     batch_size=BATCH_SIZE,\n",
        "#     epochs=NUM_EPOCHS,\n",
        "#     verbose=1,\n",
        "#     )"
      ]
    },
    {
      "cell_type": "code",
      "execution_count": null,
      "metadata": {
        "id": "tgGS_XRlZUtk"
      },
      "outputs": [],
      "source": [
        "# lossNames = [\"loss\", \n",
        "#              \"class_label_loss\", \n",
        "#              \"bounding_box_loss\"]\n",
        "\n",
        "# N = np.arange(0, NUM_EPOCHS)\n",
        "# plt.style.use(\"ggplot\")\n",
        "# (fig, ax) = plt.subplots(3, 1, figsize=(17, 25))\n",
        "\n",
        "# # plotting the loss for training and validation data\n",
        "\n",
        "# for (i, l) in enumerate(lossNames):\n",
        "#     title = \"Loss for {}\".format(l) if l != \"loss\" else \"Total loss\"\n",
        "#     ax[i].set_title(title)\n",
        "#     ax[i].set_xlabel(\"Epoch #\")\n",
        "#     ax[i].set_ylabel(\"Loss\")\n",
        "#     ax[i].plot(N, H.history[l], label=l)\n",
        "#     ax[i].plot(N, H.history[\"val_\" + l], label=\"val_\" + l)\n",
        "#     ax[i].legend()"
      ]
    },
    {
      "cell_type": "code",
      "execution_count": null,
      "metadata": {
        "id": "eKdfbLsKFpgo"
      },
      "outputs": [],
      "source": [
        "# from sklearn.ensemble import AdaBoostClassifier\n",
        "# from sklearn import datasets\n",
        "# from sklearn.model_selection import train_test_split\n",
        "# from sklearn import metrics\n",
        "# from sklearn import preprocessing"
      ]
    },
    {
      "cell_type": "code",
      "execution_count": null,
      "metadata": {
        "id": "VqQ-63MEGIAe"
      },
      "outputs": [],
      "source": [
        "ada = AdaBoostClassifier(n_estimators=50,\n",
        "                         learning_rate=1)"
      ]
    },
    {
      "cell_type": "code",
      "execution_count": null,
      "metadata": {
        "colab": {
          "base_uri": "https://localhost:8080/",
          "height": 225
        },
        "id": "BunxvF1FN3bb",
        "outputId": "73a95968-82ce-4921-d69e-a9cfd1e465f6"
      },
      "outputs": [
        {
          "ename": "ValueError",
          "evalue": "ignored",
          "output_type": "error",
          "traceback": [
            "\u001b[0;31m---------------------------------------------------------------------------\u001b[0m",
            "\u001b[0;31mValueError\u001b[0m                                Traceback (most recent call last)",
            "\u001b[0;32m<ipython-input-24-ef3f43038456>\u001b[0m in \u001b[0;36m<module>\u001b[0;34m\u001b[0m\n\u001b[0;32m----> 1\u001b[0;31m \u001b[0mx_train\u001b[0m\u001b[0;34m,\u001b[0m \u001b[0mx_test\u001b[0m\u001b[0;34m,\u001b[0m \u001b[0my_train\u001b[0m\u001b[0;34m,\u001b[0m \u001b[0my_test\u001b[0m \u001b[0;34m=\u001b[0m \u001b[0mimage\u001b[0m\u001b[0;34m\u001b[0m\u001b[0;34m\u001b[0m\u001b[0m\n\u001b[0m\u001b[1;32m      2\u001b[0m     \u001b[0;31m# model.fit(x_train, y_train)\u001b[0m\u001b[0;34m\u001b[0m\u001b[0;34m\u001b[0m\u001b[0;34m\u001b[0m\u001b[0m\n\u001b[1;32m      3\u001b[0m     \u001b[0;31m# pred = model.predict(x_test)\u001b[0m\u001b[0;34m\u001b[0m\u001b[0;34m\u001b[0m\u001b[0;34m\u001b[0m\u001b[0m\n\u001b[1;32m      4\u001b[0m     \u001b[0;31m# return accuracy_score(pred, y_test)\u001b[0m\u001b[0;34m\u001b[0m\u001b[0;34m\u001b[0m\u001b[0;34m\u001b[0m\u001b[0m\n",
            "\u001b[0;31mValueError\u001b[0m: too many values to unpack (expected 4)"
          ]
        }
      ],
      "source": [
        "x_train, x_test, y_train, y_test = image\n",
        "    # model.fit(x_train, y_train)\n",
        "    # pred = model.predict(x_test)\n",
        "    # return accuracy_score(pred, y_test)"
      ]
    },
    {
      "cell_type": "code",
      "execution_count": null,
      "metadata": {
        "colab": {
          "base_uri": "https://localhost:8080/",
          "height": 280
        },
        "id": "hwV6Km-I_zMr",
        "outputId": "066e361e-a6d9-4e03-9cca-54841be314bd"
      },
      "outputs": [
        {
          "name": "stdout",
          "output_type": "stream",
          "text": [
            "(577, 224, 224, 3)\n",
            "(577, 224, 224, 3)\n",
            "(145, 224, 224, 3)\n"
          ]
        },
        {
          "ename": "ValueError",
          "evalue": "ignored",
          "output_type": "error",
          "traceback": [
            "\u001b[0;31m---------------------------------------------------------------------------\u001b[0m",
            "\u001b[0;31mValueError\u001b[0m                                Traceback (most recent call last)",
            "\u001b[0;32m<ipython-input-23-d7060002e599>\u001b[0m in \u001b[0;36m<module>\u001b[0;34m\u001b[0m\n\u001b[1;32m      4\u001b[0m \u001b[0mprint\u001b[0m \u001b[0;34m(\u001b[0m\u001b[0mtrainImages\u001b[0m\u001b[0;34m.\u001b[0m\u001b[0mshape\u001b[0m\u001b[0;34m)\u001b[0m\u001b[0;34m\u001b[0m\u001b[0;34m\u001b[0m\u001b[0m\n\u001b[1;32m      5\u001b[0m \u001b[0mprint\u001b[0m \u001b[0;34m(\u001b[0m\u001b[0mtestImages\u001b[0m\u001b[0;34m.\u001b[0m\u001b[0mshape\u001b[0m\u001b[0;34m)\u001b[0m\u001b[0;34m\u001b[0m\u001b[0;34m\u001b[0m\u001b[0m\n\u001b[0;32m----> 6\u001b[0;31m \u001b[0mx_train\u001b[0m\u001b[0;34m,\u001b[0m \u001b[0mx_test\u001b[0m\u001b[0;34m,\u001b[0m \u001b[0my_train\u001b[0m\u001b[0;34m,\u001b[0m \u001b[0my_test\u001b[0m \u001b[0;34m=\u001b[0m \u001b[0mtrain_test_split\u001b[0m\u001b[0;34m(\u001b[0m\u001b[0mX\u001b[0m\u001b[0;34m,\u001b[0m \u001b[0mtest_size\u001b[0m\u001b[0;34m=\u001b[0m\u001b[0;36m0.2\u001b[0m\u001b[0;34m)\u001b[0m\u001b[0;34m\u001b[0m\u001b[0;34m\u001b[0m\u001b[0m\n\u001b[0m\u001b[1;32m      7\u001b[0m \u001b[0mprint\u001b[0m \u001b[0;34m(\u001b[0m\u001b[0my_train\u001b[0m\u001b[0;34m.\u001b[0m\u001b[0mshape\u001b[0m\u001b[0;34m)\u001b[0m\u001b[0;34m\u001b[0m\u001b[0;34m\u001b[0m\u001b[0m\n",
            "\u001b[0;31mValueError\u001b[0m: not enough values to unpack (expected 4, got 2)"
          ]
        }
      ],
      "source": [
        "print (trainImages.shape)\n",
        "X = trainImages\n",
        "Y = testImages\n",
        "print (trainImages.shape)\n",
        "print (testImages.shape)\n",
        "x_train, x_test, y_train, y_test = train_test_split(X, test_size=0.2)\n",
        "print (y_train.shape)"
      ]
    },
    {
      "cell_type": "code",
      "execution_count": null,
      "metadata": {
        "colab": {
          "base_uri": "https://localhost:8080/",
          "height": 794
        },
        "id": "xPxRzosSO-z1",
        "outputId": "223159a7-719d-47de-d03c-00c61893f4be"
      },
      "outputs": [
        {
          "name": "stdout",
          "output_type": "stream",
          "text": [
            "(224, 224, 3)\n",
            "(224, 672)\n",
            "(224,)\n",
            "(672,)\n",
            "(224, 672)\n",
            "(672, 1)\n",
            "(224, 672)\n",
            "(224, 672)\n"
          ]
        },
        {
          "ename": "TypeError",
          "evalue": "ignored",
          "output_type": "error",
          "traceback": [
            "\u001b[0;31m---------------------------------------------------------------------------\u001b[0m",
            "\u001b[0;31mTypeError\u001b[0m                                 Traceback (most recent call last)",
            "\u001b[0;32m<ipython-input-42-82026cfcaeb8>\u001b[0m in \u001b[0;36m<module>\u001b[0;34m\u001b[0m\n\u001b[1;32m     25\u001b[0m \u001b[0;34m\u001b[0m\u001b[0m\n\u001b[1;32m     26\u001b[0m \u001b[0;34m\u001b[0m\u001b[0m\n\u001b[0;32m---> 27\u001b[0;31m \u001b[0mx_train\u001b[0m\u001b[0;34m,\u001b[0m \u001b[0mx_test\u001b[0m\u001b[0;34m,\u001b[0m \u001b[0my_train\u001b[0m\u001b[0;34m,\u001b[0m \u001b[0my_test\u001b[0m \u001b[0;34m=\u001b[0m \u001b[0mtrain_test_split\u001b[0m\u001b[0;34m(\u001b[0m\u001b[0mpics\u001b[0m\u001b[0;34m,\u001b[0m \u001b[0my\u001b[0m\u001b[0;34m,\u001b[0m \u001b[0mtest_size\u001b[0m\u001b[0;34m=\u001b[0m\u001b[0;36m0.2\u001b[0m\u001b[0;34m)\u001b[0m\u001b[0;34m\u001b[0m\u001b[0;34m\u001b[0m\u001b[0m\n\u001b[0m\u001b[1;32m     28\u001b[0m \u001b[0;31m# (X_train, y_train) = trainImages[:2]\u001b[0m\u001b[0;34m\u001b[0m\u001b[0;34m\u001b[0m\u001b[0;34m\u001b[0m\u001b[0m\n\u001b[1;32m     29\u001b[0m \u001b[0;31m# print (X_train.shape)\u001b[0m\u001b[0;34m\u001b[0m\u001b[0;34m\u001b[0m\u001b[0;34m\u001b[0m\u001b[0m\n",
            "\u001b[0;32m/usr/local/lib/python3.8/dist-packages/sklearn/model_selection/_split.py\u001b[0m in \u001b[0;36mtrain_test_split\u001b[0;34m(test_size, train_size, random_state, shuffle, stratify, *arrays)\u001b[0m\n\u001b[1;32m   2583\u001b[0m         \u001b[0mtrain\u001b[0m\u001b[0;34m,\u001b[0m \u001b[0mtest\u001b[0m \u001b[0;34m=\u001b[0m \u001b[0mnext\u001b[0m\u001b[0;34m(\u001b[0m\u001b[0mcv\u001b[0m\u001b[0;34m.\u001b[0m\u001b[0msplit\u001b[0m\u001b[0;34m(\u001b[0m\u001b[0mX\u001b[0m\u001b[0;34m=\u001b[0m\u001b[0marrays\u001b[0m\u001b[0;34m[\u001b[0m\u001b[0;36m0\u001b[0m\u001b[0;34m]\u001b[0m\u001b[0;34m,\u001b[0m \u001b[0my\u001b[0m\u001b[0;34m=\u001b[0m\u001b[0mstratify\u001b[0m\u001b[0;34m)\u001b[0m\u001b[0;34m)\u001b[0m\u001b[0;34m\u001b[0m\u001b[0;34m\u001b[0m\u001b[0m\n\u001b[1;32m   2584\u001b[0m \u001b[0;34m\u001b[0m\u001b[0m\n\u001b[0;32m-> 2585\u001b[0;31m     return list(\n\u001b[0m\u001b[1;32m   2586\u001b[0m         chain.from_iterable(\n\u001b[1;32m   2587\u001b[0m             \u001b[0;34m(\u001b[0m\u001b[0m_safe_indexing\u001b[0m\u001b[0;34m(\u001b[0m\u001b[0ma\u001b[0m\u001b[0;34m,\u001b[0m \u001b[0mtrain\u001b[0m\u001b[0;34m)\u001b[0m\u001b[0;34m,\u001b[0m \u001b[0m_safe_indexing\u001b[0m\u001b[0;34m(\u001b[0m\u001b[0ma\u001b[0m\u001b[0;34m,\u001b[0m \u001b[0mtest\u001b[0m\u001b[0;34m)\u001b[0m\u001b[0;34m)\u001b[0m \u001b[0;32mfor\u001b[0m \u001b[0ma\u001b[0m \u001b[0;32min\u001b[0m \u001b[0marrays\u001b[0m\u001b[0;34m\u001b[0m\u001b[0;34m\u001b[0m\u001b[0m\n",
            "\u001b[0;32m/usr/local/lib/python3.8/dist-packages/sklearn/model_selection/_split.py\u001b[0m in \u001b[0;36m<genexpr>\u001b[0;34m(.0)\u001b[0m\n\u001b[1;32m   2585\u001b[0m     return list(\n\u001b[1;32m   2586\u001b[0m         chain.from_iterable(\n\u001b[0;32m-> 2587\u001b[0;31m             \u001b[0;34m(\u001b[0m\u001b[0m_safe_indexing\u001b[0m\u001b[0;34m(\u001b[0m\u001b[0ma\u001b[0m\u001b[0;34m,\u001b[0m \u001b[0mtrain\u001b[0m\u001b[0;34m)\u001b[0m\u001b[0;34m,\u001b[0m \u001b[0m_safe_indexing\u001b[0m\u001b[0;34m(\u001b[0m\u001b[0ma\u001b[0m\u001b[0;34m,\u001b[0m \u001b[0mtest\u001b[0m\u001b[0;34m)\u001b[0m\u001b[0;34m)\u001b[0m \u001b[0;32mfor\u001b[0m \u001b[0ma\u001b[0m \u001b[0;32min\u001b[0m \u001b[0marrays\u001b[0m\u001b[0;34m\u001b[0m\u001b[0;34m\u001b[0m\u001b[0m\n\u001b[0m\u001b[1;32m   2588\u001b[0m         )\n\u001b[1;32m   2589\u001b[0m     )\n",
            "\u001b[0;32m/usr/local/lib/python3.8/dist-packages/sklearn/utils/__init__.py\u001b[0m in \u001b[0;36m_safe_indexing\u001b[0;34m(X, indices, axis)\u001b[0m\n\u001b[1;32m    354\u001b[0m         \u001b[0;32mreturn\u001b[0m \u001b[0m_pandas_indexing\u001b[0m\u001b[0;34m(\u001b[0m\u001b[0mX\u001b[0m\u001b[0;34m,\u001b[0m \u001b[0mindices\u001b[0m\u001b[0;34m,\u001b[0m \u001b[0mindices_dtype\u001b[0m\u001b[0;34m,\u001b[0m \u001b[0maxis\u001b[0m\u001b[0;34m=\u001b[0m\u001b[0maxis\u001b[0m\u001b[0;34m)\u001b[0m\u001b[0;34m\u001b[0m\u001b[0;34m\u001b[0m\u001b[0m\n\u001b[1;32m    355\u001b[0m     \u001b[0;32melif\u001b[0m \u001b[0mhasattr\u001b[0m\u001b[0;34m(\u001b[0m\u001b[0mX\u001b[0m\u001b[0;34m,\u001b[0m \u001b[0;34m\"shape\"\u001b[0m\u001b[0;34m)\u001b[0m\u001b[0;34m:\u001b[0m\u001b[0;34m\u001b[0m\u001b[0;34m\u001b[0m\u001b[0m\n\u001b[0;32m--> 356\u001b[0;31m         \u001b[0;32mreturn\u001b[0m \u001b[0m_array_indexing\u001b[0m\u001b[0;34m(\u001b[0m\u001b[0mX\u001b[0m\u001b[0;34m,\u001b[0m \u001b[0mindices\u001b[0m\u001b[0;34m,\u001b[0m \u001b[0mindices_dtype\u001b[0m\u001b[0;34m,\u001b[0m \u001b[0maxis\u001b[0m\u001b[0;34m=\u001b[0m\u001b[0maxis\u001b[0m\u001b[0;34m)\u001b[0m\u001b[0;34m\u001b[0m\u001b[0;34m\u001b[0m\u001b[0m\n\u001b[0m\u001b[1;32m    357\u001b[0m     \u001b[0;32melse\u001b[0m\u001b[0;34m:\u001b[0m\u001b[0;34m\u001b[0m\u001b[0;34m\u001b[0m\u001b[0m\n\u001b[1;32m    358\u001b[0m         \u001b[0;32mreturn\u001b[0m \u001b[0m_list_indexing\u001b[0m\u001b[0;34m(\u001b[0m\u001b[0mX\u001b[0m\u001b[0;34m,\u001b[0m \u001b[0mindices\u001b[0m\u001b[0;34m,\u001b[0m \u001b[0mindices_dtype\u001b[0m\u001b[0;34m)\u001b[0m\u001b[0;34m\u001b[0m\u001b[0;34m\u001b[0m\u001b[0m\n",
            "\u001b[0;32m/usr/local/lib/python3.8/dist-packages/sklearn/utils/__init__.py\u001b[0m in \u001b[0;36m_array_indexing\u001b[0;34m(array, key, key_dtype, axis)\u001b[0m\n\u001b[1;32m    183\u001b[0m     \u001b[0;32mif\u001b[0m \u001b[0misinstance\u001b[0m\u001b[0;34m(\u001b[0m\u001b[0mkey\u001b[0m\u001b[0;34m,\u001b[0m \u001b[0mtuple\u001b[0m\u001b[0;34m)\u001b[0m\u001b[0;34m:\u001b[0m\u001b[0;34m\u001b[0m\u001b[0;34m\u001b[0m\u001b[0m\n\u001b[1;32m    184\u001b[0m         \u001b[0mkey\u001b[0m \u001b[0;34m=\u001b[0m \u001b[0mlist\u001b[0m\u001b[0;34m(\u001b[0m\u001b[0mkey\u001b[0m\u001b[0;34m)\u001b[0m\u001b[0;34m\u001b[0m\u001b[0;34m\u001b[0m\u001b[0m\n\u001b[0;32m--> 185\u001b[0;31m     \u001b[0;32mreturn\u001b[0m \u001b[0marray\u001b[0m\u001b[0;34m[\u001b[0m\u001b[0mkey\u001b[0m\u001b[0;34m]\u001b[0m \u001b[0;32mif\u001b[0m \u001b[0maxis\u001b[0m \u001b[0;34m==\u001b[0m \u001b[0;36m0\u001b[0m \u001b[0;32melse\u001b[0m \u001b[0marray\u001b[0m\u001b[0;34m[\u001b[0m\u001b[0;34m:\u001b[0m\u001b[0;34m,\u001b[0m \u001b[0mkey\u001b[0m\u001b[0;34m]\u001b[0m\u001b[0;34m\u001b[0m\u001b[0;34m\u001b[0m\u001b[0m\n\u001b[0m\u001b[1;32m    186\u001b[0m \u001b[0;34m\u001b[0m\u001b[0m\n\u001b[1;32m    187\u001b[0m \u001b[0;34m\u001b[0m\u001b[0m\n",
            "\u001b[0;32m/usr/local/lib/python3.8/dist-packages/tensorflow/python/util/traceback_utils.py\u001b[0m in \u001b[0;36merror_handler\u001b[0;34m(*args, **kwargs)\u001b[0m\n\u001b[1;32m    151\u001b[0m     \u001b[0;32mexcept\u001b[0m \u001b[0mException\u001b[0m \u001b[0;32mas\u001b[0m \u001b[0me\u001b[0m\u001b[0;34m:\u001b[0m\u001b[0;34m\u001b[0m\u001b[0;34m\u001b[0m\u001b[0m\n\u001b[1;32m    152\u001b[0m       \u001b[0mfiltered_tb\u001b[0m \u001b[0;34m=\u001b[0m \u001b[0m_process_traceback_frames\u001b[0m\u001b[0;34m(\u001b[0m\u001b[0me\u001b[0m\u001b[0;34m.\u001b[0m\u001b[0m__traceback__\u001b[0m\u001b[0;34m)\u001b[0m\u001b[0;34m\u001b[0m\u001b[0;34m\u001b[0m\u001b[0m\n\u001b[0;32m--> 153\u001b[0;31m       \u001b[0;32mraise\u001b[0m \u001b[0me\u001b[0m\u001b[0;34m.\u001b[0m\u001b[0mwith_traceback\u001b[0m\u001b[0;34m(\u001b[0m\u001b[0mfiltered_tb\u001b[0m\u001b[0;34m)\u001b[0m \u001b[0;32mfrom\u001b[0m \u001b[0;32mNone\u001b[0m\u001b[0;34m\u001b[0m\u001b[0;34m\u001b[0m\u001b[0m\n\u001b[0m\u001b[1;32m    154\u001b[0m     \u001b[0;32mfinally\u001b[0m\u001b[0;34m:\u001b[0m\u001b[0;34m\u001b[0m\u001b[0;34m\u001b[0m\u001b[0m\n\u001b[1;32m    155\u001b[0m       \u001b[0;32mdel\u001b[0m \u001b[0mfiltered_tb\u001b[0m\u001b[0;34m\u001b[0m\u001b[0;34m\u001b[0m\u001b[0m\n",
            "\u001b[0;32m/usr/local/lib/python3.8/dist-packages/tensorflow/python/ops/array_ops.py\u001b[0m in \u001b[0;36m_check_index\u001b[0;34m(idx)\u001b[0m\n\u001b[1;32m    904\u001b[0m     \u001b[0;31m# TODO(slebedev): IndexError seems more appropriate here, but it\u001b[0m\u001b[0;34m\u001b[0m\u001b[0;34m\u001b[0m\u001b[0;34m\u001b[0m\u001b[0m\n\u001b[1;32m    905\u001b[0m     \u001b[0;31m# will break `_slice_helper` contract.\u001b[0m\u001b[0;34m\u001b[0m\u001b[0;34m\u001b[0m\u001b[0;34m\u001b[0m\u001b[0m\n\u001b[0;32m--> 906\u001b[0;31m     \u001b[0;32mraise\u001b[0m \u001b[0mTypeError\u001b[0m\u001b[0;34m(\u001b[0m\u001b[0m_SLICE_TYPE_ERROR\u001b[0m \u001b[0;34m+\u001b[0m \u001b[0;34m\", got {!r}\"\u001b[0m\u001b[0;34m.\u001b[0m\u001b[0mformat\u001b[0m\u001b[0;34m(\u001b[0m\u001b[0midx\u001b[0m\u001b[0;34m)\u001b[0m\u001b[0;34m)\u001b[0m\u001b[0;34m\u001b[0m\u001b[0;34m\u001b[0m\u001b[0m\n\u001b[0m\u001b[1;32m    907\u001b[0m \u001b[0;34m\u001b[0m\u001b[0m\n\u001b[1;32m    908\u001b[0m \u001b[0;34m\u001b[0m\u001b[0m\n",
            "\u001b[0;31mTypeError\u001b[0m: Only integers, slices (`:`), ellipsis (`...`), tf.newaxis (`None`) and scalar tf.int32/tf.int64 tensors are valid indices, got array([ 95, 200,  27, 126,  24,  71,  52, 111, 195, 192,  31, 169, 222,\n        43, 129,  61, 205, 118,   4, 104, 153, 136,   0, 149,  46, 127,\n        87,  65, 208,  36, 203, 189,   2, 165, 167, 130,  68,  62,   1,\n       108, 125, 106, 178, 175, 193,  12,  19, 219,  53,  23, 180, 163,\n       186, 201,  28,  38, 187, 135,  37, 109, 146, 105,  32, 191, 128,\n       107, 147,  85,  40,  26,  84, 196, 100, 120, 213, 143, 181,  20,\n       112, 121, 179, 173, 122, 155, 158, 134,  76,  44,  30,  97, 152,\n       190, 101,  80,  94, 131, 141,  13, 177, 182,   7,  11, 174,  82,\n        34,  58,  78,  86, 145, 220, 144, 151, 170, 137,  59, 114,  17,\n       123, 172,  92,  29,  33, 183, 211, 204,  60,  74,  10, 138,  47,\n        66, 176,  55,  48,  73, 115,  81,  91, 140, 199, 154, 156, 148,\n       166,  56,  45, 197, 188,  88,  15,   5,   8, 132,  35,  25, 113,\n       139, 142,  93,  99,  67,  49,  69, 214, 215, 133,  57, 184, 164,\n        21,  83,  75,  18, 198, 116,  39, 202, 124,  63])"
          ]
        }
      ],
      "source": [
        "print(image.shape)\n",
        "pics = flatten_layer(image)\n",
        "pics3 = flatten_layer(image)\n",
        "print(pics.shape)\n",
        "pics2 = pics[1]\n",
        "y = tf.Variable(tf.random.uniform([224], minval=0, maxval=224, dtype=tf.int32))\n",
        "print(y.shape)\n",
        "\n",
        "lab_enc = preprocessing.LabelEncoder()\n",
        "encoded = lab_enc.fit_transform(y)\n",
        "# test = tf.reshape(pics, [224])\n",
        "# print(pics[0:1])\n",
        "# pics3 = pics[0]\n",
        "print (pics2.shape)\n",
        "print (pics3.shape)\n",
        "(X_train, y_train, X_test, y_test) = pics[:4] \n",
        "\n",
        "X_train = tf.reshape(X_train, [-1,1])\n",
        "print (X_train.shape)\n",
        "\n",
        "# pics4 = np.expand_dims(pics, axis = -1)\n",
        "pics4 = np.reshape(pics, (pics.shape[0], -1))\n",
        "print (pics.shape)\n",
        "print (pics4.shape)\n",
        "\n",
        "\n",
        "x_train, x_test, y_train, y_test = train_test_split(pics, y, test_size=0.2)\n",
        "# (X_train, y_train) = trainImages[:2]\n",
        "# print (X_train.shape)\n",
        "# print (y_train.shape)"
      ]
    },
    {
      "cell_type": "code",
      "execution_count": null,
      "metadata": {
        "id": "ggu6gjDQJIsu"
      },
      "outputs": [],
      "source": [
        "model2 = ada.fit(pics, y)"
      ]
    },
    {
      "cell_type": "code",
      "execution_count": null,
      "metadata": {
        "id": "_clDbUD1eFQz"
      },
      "outputs": [],
      "source": [
        "model.save(\"model_bbox_regression_and_classification\", save_format=\"h5\")"
      ]
    }
  ],
  "metadata": {
    "colab": {
      "provenance": [],
      "authorship_tag": "ABX9TyOAYWE1H/KdYGFMprbKTeXF",
      "include_colab_link": true
    },
    "kernelspec": {
      "display_name": "Python 3",
      "name": "python3"
    },
    "language_info": {
      "name": "python"
    }
  },
  "nbformat": 4,
  "nbformat_minor": 0
}