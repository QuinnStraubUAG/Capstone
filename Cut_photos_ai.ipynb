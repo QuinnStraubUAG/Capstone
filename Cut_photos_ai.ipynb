{
  "nbformat": 4,
  "nbformat_minor": 0,
  "metadata": {
    "colab": {
      "provenance": [],
      "authorship_tag": "ABX9TyNYSSdCAzuROarUb26HlON9",
      "include_colab_link": true
    },
    "kernelspec": {
      "name": "python3",
      "display_name": "Python 3"
    },
    "language_info": {
      "name": "python"
    },
    "gpuClass": "standard"
  },
  "cells": [
    {
      "cell_type": "markdown",
      "metadata": {
        "id": "view-in-github",
        "colab_type": "text"
      },
      "source": [
        "<a href=\"https://colab.research.google.com/github/QuinnStraubUAG/Capstone/blob/main/Cut_photos_ai.ipynb\" target=\"_parent\"><img src=\"https://colab.research.google.com/assets/colab-badge.svg\" alt=\"Open In Colab\"/></a>"
      ]
    },
    {
      "cell_type": "code",
      "source": [
        "\t# !pip list -v"
      ],
      "metadata": {
        "id": "a0y4bxhRYEJ7"
      },
      "execution_count": null,
      "outputs": []
    },
    {
      "cell_type": "code",
      "execution_count": 1,
      "metadata": {
        "id": "yreEPUoRfEmn"
      },
      "outputs": [],
      "source": [
        "import sys\n",
        "import os\n",
        "import cv2\n",
        "import datetime\n",
        "import numpy as np\n",
        "from pathlib import Path\n",
        "import random\n",
        "import xml.etree.ElementTree as ET\n",
        "\n",
        "import matplotlib.pyplot as plt\n",
        "from sklearn.model_selection import train_test_split\n",
        "\n",
        "from tensorflow.keras.layers import Flatten\n",
        "from tensorflow.keras.layers import Dense\n",
        "from tensorflow.keras.layers import Input\n",
        "from tensorflow.keras.models import Model\n",
        "from tensorflow.keras.optimizers import Adam\n",
        "from tensorflow.keras.preprocessing.image import img_to_array\n",
        "from tensorflow.keras.preprocessing.image import load_img\n",
        "from tensorflow.keras.models import load_model\n",
        "from tensorflow.keras.applications import VGG16\n",
        "from tensorflow.keras.layers import Dropout\n",
        "from tensorflow.keras.utils import to_categorical\n",
        "from sklearn.preprocessing import LabelBinarizer\n",
        "\n",
        "import pickle\n",
        "\n",
        "from keras.layers.convolutional import Conv2D\n",
        "from tensorflow.keras.layers import MaxPooling2D\n",
        "import tensorflow as tf\n",
        "from keras.models import Sequential\n",
        "import keras\n",
        "import keras.utils\n",
        "from tensorflow.keras import layers\n",
        "\n",
        "import json\n",
        "\n",
        "from sklearn.ensemble import AdaBoostClassifier\n",
        "from sklearn import datasets\n",
        "from sklearn.model_selection import train_test_split\n",
        "from sklearn import metrics\n",
        "from sklearn import preprocessing"
      ]
    },
    {
      "cell_type": "code",
      "source": [
        "data = []\n",
        "labels = []\n",
        "bboxes = []\n",
        "imagePaths = []"
      ],
      "metadata": {
        "id": "V8UNmtH8fH0P"
      },
      "execution_count": 2,
      "outputs": []
    },
    {
      "cell_type": "code",
      "source": [
        "from google.colab import drive\n",
        "drive.mount('/content/gdrive')\n",
        "annot_dir  = \"/content/gdrive/MyDrive/Mapillary/1st mtsd_fully_annotated_annotation (First Download)/mtsd_fully_annotated_annotation (First Download)/mtsd_v2_fully_annotated/annotations\"\n",
        "images_dir  = \"/content/gdrive/MyDrive/Mapillary/All Mapillary signs\""
      ],
      "metadata": {
        "colab": {
          "base_uri": "https://localhost:8080/"
        },
        "id": "BfsnpDuVfLvS",
        "outputId": "57e2d676-407f-4261-ac87-5b297ddb0e3a"
      },
      "execution_count": 3,
      "outputs": [
        {
          "output_type": "stream",
          "name": "stdout",
          "text": [
            "Mounted at /content/gdrive\n"
          ]
        }
      ]
    },
    {
      "cell_type": "code",
      "source": [
        "for filename in os.listdir(annot_dir):\n",
        "    if filename != \"-1jlHQxDe6kqJHcH4zxU0g.json\" and filename != \"-OJtL1fk-X49pmhJcPNNfQ.json\" and filename != \"-03mKqdJT02HQU1LVQiAbLQ.json\"and filename != \"03mKqdJT02HQU1LVQiAbLQ.json\":\n",
        "\n",
        "      new_annot_dir = os.path.join(annot_dir, filename)\n",
        "      with open(new_annot_dir, \"r\") as fid:\n",
        "        anno = json.load(fid)\n",
        "        width = anno['width']\n",
        "        height = anno['height']\n",
        "        xmin = anno['objects'][0]['bbox']['xmin']\n",
        "        ymin = anno['objects'][0]['bbox']['ymin']\n",
        "        xmax = anno['objects'][0]['bbox']['xmax']\n",
        "        ymax = anno['objects'][0]['bbox']['ymax']\n",
        "\n",
        "        box = (xmin, ymin, xmax, ymax)\n",
        "\n",
        "        xmin = xmin / width\n",
        "        xmax = xmax / width\n",
        "        ymin = ymin / height\n",
        "        ymax = ymax / height\n",
        "\n",
        "        label = anno['objects'][0]['label']\n",
        "        imname = filename\n",
        "        imname = imname.replace('.json', '.jpg')\n",
        "        impath = os.path.join(images_dir, imname)\n",
        "        image = load_img(impath)\n",
        "        image = image.crop(box)\n",
        "        image = image.resize((224, 224))\n",
        "        image = img_to_array(image)\n",
        "        data.append(image)\n",
        "        labels.append(label)\n",
        "        bboxes.append((xmin,ymin,xmax,ymax))\n",
        "        imagePaths.append(impath)\n",
        "    "
      ],
      "metadata": {
        "id": "3GT_jtJzfOEY"
      },
      "execution_count": 6,
      "outputs": []
    },
    {
      "cell_type": "code",
      "source": [
        "imgplot = plt.imshow(image.astype('uint8'))\n",
        "print(labels[-1])\n",
        "print(bboxes[-1])\n",
        "print(imagePaths[-1])\n",
        "plt.show()"
      ],
      "metadata": {
        "colab": {
          "base_uri": "https://localhost:8080/",
          "height": 488
        },
        "id": "uh6XyFFCgRNx",
        "outputId": "59ee3e14-e57d-4b98-dc53-b327e97f5962"
      },
      "execution_count": 7,
      "outputs": [
        {
          "output_type": "stream",
          "name": "stdout",
          "text": [
            "other-sign\n",
            "(0.67822265625, 0.650634765625, 0.687255859375, 0.6591796875)\n",
            "/content/gdrive/MyDrive/Mapillary/All Mapillary signs/03UNAWKy3_9stC992aT-zg.jpg\n"
          ]
        },
        {
          "output_type": "display_data",
          "data": {
            "text/plain": [
              "<Figure size 640x480 with 1 Axes>"
            ],
            "image/png": "[encoded data removed]"
          },
          "metadata": {}
        }
      ]
    },
    {
      "cell_type": "code",
      "source": [
        "# normalize -> from [0-255] to [0-1]\n",
        "data = np.array(data, dtype=\"float32\") / 255.0\n",
        "\n",
        "# convert to np arrays\n",
        "labels = np.array(labels)\n",
        "bboxes = np.array(bboxes, dtype=\"float32\")\n",
        "imagePaths = np.array(imagePaths)\n",
        "\n",
        "# one-hot encoding\n",
        "lb = LabelBinarizer()\n",
        "labels = lb.fit_transform(labels)\n",
        "print(labels[-1])"
      ],
      "metadata": {
        "colab": {
          "base_uri": "https://localhost:8080/"
        },
        "id": "3lwgOBAhjpp1",
        "outputId": "273928f6-8d56-46b0-e32e-e72133462c00"
      },
      "execution_count": 8,
      "outputs": [
        {
          "output_type": "stream",
          "name": "stdout",
          "text": [
            "[0 0 0 0 0 0 0 0 0 0 0 0 0 0 0 0 0 0 0 0 0 0 0 0 0 0 0 0 0 0 0 1 0 0 0 0 0\n",
            " 0 0 0 0 0 0 0 0 0 0 0 0 0 0 0 0 0 0 0 0 0 0 0 0 0 0 0 0 0 0 0 0 0 0 0 0 0\n",
            " 0 0 0 0 0 0 0 0 0 0 0 0 0 0 0 0 0 0 0 0 0 0 0 0 0 0 0 0 0 0 0 0 0 0 0 0 0\n",
            " 0 0 0 0 0 0 0 0 0 0 0 0 0 0 0 0 0 0 0 0 0 0 0 0 0 0 0 0 0 0 0 0 0 0 0 0 0\n",
            " 0 0 0 0 0 0 0 0 0 0 0 0 0 0 0 0 0 0]\n"
          ]
        }
      ]
    },
    {
      "cell_type": "code",
      "source": [
        "# test-train split 20%,80%\n",
        "\n",
        "split = train_test_split(data,\n",
        "                         labels,\n",
        "                         bboxes,\n",
        "                         imagePaths,\n",
        "                         test_size=0.20,\n",
        "                         random_state=12)"
      ],
      "metadata": {
        "id": "LqbZTSs4nxWX"
      },
      "execution_count": 9,
      "outputs": []
    },
    {
      "cell_type": "code",
      "source": [
        "(trainImages, testImages) = split[:2]\n",
        "(trainLabels, testLabels) = split[2:4]"
      ],
      "metadata": {
        "id": "18XNoOVhnzHG"
      },
      "execution_count": 10,
      "outputs": []
    },
    {
      "cell_type": "code",
      "source": [
        "n_images = 52453\n",
        "input_tensor=Input(shape=(n_images, 224, 224, 3))\n",
        "print (input_tensor.shape)\n",
        "flatten_layer = Flatten()\n",
        "print (input_tensor.shape)\n",
        "flatten = flatten_layer(input_tensor) \n",
        "print (input_tensor.shape)\n",
        "input_tensor=tf.reshape(input_tensor, [n_images, 224, 224, 3])\n",
        "flatten = flatten_layer(input_tensor) \n",
        "flatten = flatten_layer(flatten) \n",
        "print (input_tensor.shape)\n",
        "print (flatten.shape)"
      ],
      "metadata": {
        "colab": {
          "base_uri": "https://localhost:8080/"
        },
        "id": "Mzk5QKRtn4ob",
        "outputId": "a15bd982-07c5-4a81-9404-309c5fd0415b"
      },
      "execution_count": 11,
      "outputs": [
        {
          "output_type": "stream",
          "name": "stdout",
          "text": [
            "(None, 52453, 224, 224, 3)\n",
            "(None, 52453, 224, 224, 3)\n",
            "(None, 52453, 224, 224, 3)\n",
            "(52453, 224, 224, 3)\n",
            "(52453, 150528)\n"
          ]
        }
      ]
    },
    {
      "cell_type": "code",
      "source": [
        "dropnum = 0.5"
      ],
      "metadata": {
        "id": "nxILut4k2N5v"
      },
      "execution_count": 12,
      "outputs": []
    },
    {
      "cell_type": "code",
      "source": [
        "model = keras.Sequential()\n",
        "print(input_tensor.shape)\n",
        "print(input_tensor.shape)\n",
        "model.add(Conv2D(32, kernel_size=(3, 3), activation='relu', input_shape=(224, 224, 3)))\n",
        "model.add(Conv2D(filters=32, kernel_size=3, activation='relu'))\n",
        "input_tensor=tf.reshape(input_tensor, [n_images, 224, 224, 3])\n",
        "model.add(tf.keras.layers.MaxPooling2D(pool_size=(2, 2), input_shape=(input_tensor)))\n",
        "print (input_tensor.shape)\n",
        "\n",
        "model.add(Conv2D(filters=64, kernel_size=3, activation='relu'))\n",
        "model.add(Conv2D(filters=64, kernel_size=3, activation='relu'))\n",
        "model.add(tf.keras.layers.MaxPooling2D(pool_size=(2, 2), input_shape=(input_tensor)))\n",
        "\n",
        "\n",
        "model.add(Flatten())\n",
        "model.add(Dense(256, activation='relu'))\n",
        "model.add(Dropout(dropnum))\n",
        "\n",
        "model.add(Dense(166, activation='softmax', name = \"class_label\"))"
      ],
      "metadata": {
        "colab": {
          "base_uri": "https://localhost:8080/"
        },
        "id": "GKLgWzben9DN",
        "outputId": "ba864ada-dfff-4d1d-e2ec-97508e134dfd"
      },
      "execution_count": 14,
      "outputs": [
        {
          "output_type": "stream",
          "name": "stdout",
          "text": [
            "(52453, 224, 224, 3)\n",
            "(52453, 224, 224, 3)\n",
            "(52453, 224, 224, 3)\n"
          ]
        }
      ]
    },
    {
      "cell_type": "code",
      "source": [
        "INIT_LR = 1e-4\n",
        "NUM_EPOCHS = 26\n",
        "BATCH_SIZE = 4"
      ],
      "metadata": {
        "id": "xwr-qOjSoCTX"
      },
      "execution_count": 15,
      "outputs": []
    },
    {
      "cell_type": "code",
      "source": [
        "losses = {\n",
        "    \"class_label\": \"categorical_crossentropy\",\n",
        "    # \"bounding_box\": \"mean_squared_error\",\n",
        "}\n",
        "\n",
        "lossWeights = {\n",
        "    \"class_label\": 1.0,\n",
        "    # \"bounding_box\": 1.0\n",
        "}\n",
        "trainTargets = {\n",
        "    \"class_label\": trainLabels,\n",
        "    # \"bounding_box\": trainBBoxes\n",
        "}\n",
        "\n",
        "testTargets = {\n",
        "    \"class_label\": testLabels,\n",
        "    # \"bounding_box\": testBBoxes\n",
        "}"
      ],
      "metadata": {
        "id": "RZpHnPujoESI"
      },
      "execution_count": 16,
      "outputs": []
    },
    {
      "cell_type": "code",
      "source": [
        "opt = Adam(INIT_LR)\n",
        "\n",
        "model.compile(loss=losses, \n",
        "              optimizer=opt,\n",
        "              metrics=[\"accuracy\"], \n",
        "              loss_weights=lossWeights)\n",
        "\n",
        "print(model.summary())"
      ],
      "metadata": {
        "colab": {
          "base_uri": "https://localhost:8080/"
        },
        "id": "QZM_edavoGUd",
        "outputId": "5bc974ae-07e3-4ead-c433-3a693591a9c2"
      },
      "execution_count": 26,
      "outputs": [
        {
          "output_type": "stream",
          "name": "stdout",
          "text": [
            "Model: \"sequential\"\n",
            "_________________________________________________________________\n",
            " Layer (type)                Output Shape              Param #   \n",
            "=================================================================\n",
            " conv2d (Conv2D)             (None, 222, 222, 32)      896       \n",
            "                                                                 \n",
            " conv2d_1 (Conv2D)           (None, 220, 220, 32)      9248      \n",
            "                                                                 \n",
            " max_pooling2d (MaxPooling2D  (None, 110, 110, 32)     0         \n",
            " )                                                               \n",
            "                                                                 \n",
            " conv2d_2 (Conv2D)           (None, 108, 108, 64)      18496     \n",
            "                                                                 \n",
            " conv2d_3 (Conv2D)           (None, 106, 106, 64)      36928     \n",
            "                                                                 \n",
            " max_pooling2d_1 (MaxPooling  (None, 53, 53, 64)       0         \n",
            " 2D)                                                             \n",
            "                                                                 \n",
            " flatten_1 (Flatten)         (None, 179776)            0         \n",
            "                                                                 \n",
            " dense (Dense)               (None, 256)               46022912  \n",
            "                                                                 \n",
            " dropout (Dropout)           (None, 256)               0         \n",
            "                                                                 \n",
            " class_label (Dense)         (None, 166)               42662     \n",
            "                                                                 \n",
            "=================================================================\n",
            "Total params: 46,131,142\n",
            "Trainable params: 46,131,142\n",
            "Non-trainable params: 0\n",
            "_________________________________________________________________\n",
            "None\n"
          ]
        }
      ]
    },
    {
      "cell_type": "code",
      "source": [
        "#Dropout of 0.5 2 set\n",
        "H1 = model.fit(\n",
        "    trainImages, trainTargets,\n",
        "    validation_data=(testImages, testTargets),\n",
        "    batch_size=BATCH_SIZE,\n",
        "    epochs=NUM_EPOCHS,\n",
        "    verbose=1,\n",
        "    )"
      ],
      "metadata": {
        "colab": {
          "base_uri": "https://localhost:8080/"
        },
        "id": "JghMBYuC2Vyy",
        "outputId": "193a5224-d4ef-4171-eeb0-ddd16b3bfa85"
      },
      "execution_count": 27,
      "outputs": [
        {
          "output_type": "stream",
          "name": "stdout",
          "text": [
            "Epoch 1/26\n",
            "145/145 [==============================] - 353s 2s/step - loss: 3.8908 - accuracy: 0.4887 - val_loss: 3.6328 - val_accuracy: 0.4966\n",
            "Epoch 2/26\n",
            "145/145 [==============================] - 357s 2s/step - loss: 3.5186 - accuracy: 0.4939 - val_loss: 3.4577 - val_accuracy: 0.4966\n",
            "Epoch 3/26\n",
            "145/145 [==============================] - 378s 3s/step - loss: 3.3644 - accuracy: 0.4939 - val_loss: 3.4804 - val_accuracy: 0.4966\n",
            "Epoch 4/26\n",
            "145/145 [==============================] - 365s 3s/step - loss: 3.1541 - accuracy: 0.4939 - val_loss: 3.3994 - val_accuracy: 0.4966\n",
            "Epoch 5/26\n",
            "145/145 [==============================] - 366s 3s/step - loss: 3.0734 - accuracy: 0.4957 - val_loss: 3.3765 - val_accuracy: 0.4966\n",
            "Epoch 6/26\n",
            "145/145 [==============================] - 355s 2s/step - loss: 2.6856 - accuracy: 0.5009 - val_loss: 3.4307 - val_accuracy: 0.5103\n",
            "Epoch 7/26\n",
            "145/145 [==============================] - 351s 2s/step - loss: 2.3650 - accuracy: 0.5251 - val_loss: 4.0011 - val_accuracy: 0.5034\n",
            "Epoch 8/26\n",
            "145/145 [==============================] - 351s 2s/step - loss: 1.9530 - accuracy: 0.5685 - val_loss: 3.7011 - val_accuracy: 0.5103\n",
            "Epoch 9/26\n",
            "145/145 [==============================] - 365s 3s/step - loss: 1.5910 - accuracy: 0.6534 - val_loss: 4.0679 - val_accuracy: 0.5103\n",
            "Epoch 10/26\n",
            "145/145 [==============================] - 368s 3s/step - loss: 1.2866 - accuracy: 0.7175 - val_loss: 4.4119 - val_accuracy: 0.5310\n",
            "Epoch 11/26\n",
            "145/145 [==============================] - 361s 2s/step - loss: 0.9749 - accuracy: 0.7539 - val_loss: 4.3299 - val_accuracy: 0.5034\n",
            "Epoch 12/26\n",
            "145/145 [==============================] - 357s 2s/step - loss: 0.7604 - accuracy: 0.8128 - val_loss: 5.1355 - val_accuracy: 0.5034\n",
            "Epoch 13/26\n",
            "145/145 [==============================] - 356s 2s/step - loss: 0.6505 - accuracy: 0.8180 - val_loss: 6.1198 - val_accuracy: 0.5172\n",
            "Epoch 14/26\n",
            "145/145 [==============================] - 354s 2s/step - loss: 0.4851 - accuracy: 0.8821 - val_loss: 5.7884 - val_accuracy: 0.5517\n",
            "Epoch 15/26\n",
            "145/145 [==============================] - 365s 3s/step - loss: 0.4559 - accuracy: 0.8787 - val_loss: 5.8318 - val_accuracy: 0.5310\n",
            "Epoch 16/26\n",
            "145/145 [==============================] - 357s 2s/step - loss: 0.3391 - accuracy: 0.9116 - val_loss: 6.7782 - val_accuracy: 0.5241\n",
            "Epoch 17/26\n",
            "145/145 [==============================] - 355s 2s/step - loss: 0.2561 - accuracy: 0.9272 - val_loss: 7.9993 - val_accuracy: 0.5310\n",
            "Epoch 18/26\n",
            "145/145 [==============================] - 392s 3s/step - loss: 0.2277 - accuracy: 0.9289 - val_loss: 7.5617 - val_accuracy: 0.5241\n",
            "Epoch 19/26\n",
            "145/145 [==============================] - 369s 3s/step - loss: 0.3103 - accuracy: 0.9151 - val_loss: 7.6207 - val_accuracy: 0.5103\n",
            "Epoch 20/26\n",
            "145/145 [==============================] - 367s 3s/step - loss: 0.1749 - accuracy: 0.9515 - val_loss: 9.1281 - val_accuracy: 0.5172\n",
            "Epoch 21/26\n",
            "145/145 [==============================] - 365s 3s/step - loss: 0.2131 - accuracy: 0.9411 - val_loss: 7.5738 - val_accuracy: 0.5103\n",
            "Epoch 22/26\n",
            "145/145 [==============================] - 355s 2s/step - loss: 0.1212 - accuracy: 0.9688 - val_loss: 8.8622 - val_accuracy: 0.5241\n",
            "Epoch 23/26\n",
            "145/145 [==============================] - 364s 3s/step - loss: 0.1912 - accuracy: 0.9445 - val_loss: 8.6860 - val_accuracy: 0.5172\n",
            "Epoch 24/26\n",
            "145/145 [==============================] - 366s 3s/step - loss: 0.2347 - accuracy: 0.9359 - val_loss: 7.3127 - val_accuracy: 0.5172\n",
            "Epoch 25/26\n",
            "145/145 [==============================] - 351s 2s/step - loss: 0.1724 - accuracy: 0.9567 - val_loss: 9.1174 - val_accuracy: 0.5034\n",
            "Epoch 26/26\n",
            "145/145 [==============================] - 361s 2s/step - loss: 0.1016 - accuracy: 0.9705 - val_loss: 8.9913 - val_accuracy: 0.5379\n"
          ]
        }
      ]
    },
    {
      "cell_type": "code",
      "source": [
        "score = model.evaluate(trainImages, trainTargets, verbose = 1) \n",
        "\n",
        "print('Train loss:', score[0]) \n",
        "print('Train accuracy:', score[1])\n",
        "\n",
        "score = model.evaluate(testImages, testTargets, verbose = 1) \n",
        "\n",
        "print('Test loss:', score[0]) \n",
        "print('Test accuracy:', score[1])"
      ],
      "metadata": {
        "colab": {
          "base_uri": "https://localhost:8080/"
        },
        "id": "eJyyLLzv3H6v",
        "outputId": "b68d3184-3821-4d14-d381-2cc2141c9f18"
      },
      "execution_count": 28,
      "outputs": [
        {
          "output_type": "stream",
          "name": "stdout",
          "text": [
            "19/19 [==============================] - 41s 2s/step - loss: 0.0092 - accuracy: 0.9983\n",
            "Train loss: 0.009195491671562195\n",
            "Train accuracy: 0.998266875743866\n",
            "5/5 [==============================] - 11s 2s/step - loss: 8.9913 - accuracy: 0.5379\n",
            "Test loss: 8.99134349822998\n",
            "Test accuracy: 0.5379310250282288\n"
          ]
        }
      ]
    },
    {
      "cell_type": "code",
      "source": [
        "model2 = keras.Sequential()\n",
        "\n",
        "model2.add(Conv2D(32, kernel_size=(3, 3), activation='relu', input_shape=(224, 224, 3)))\n",
        "model2.add(Conv2D(filters=32, kernel_size=3, activation='relu'))\n",
        "input_tensor=tf.reshape(input_tensor, [n_images, 224, 224, 3])\n",
        "model2.add(tf.keras.layers.MaxPooling2D(pool_size=(2, 2), input_shape=(input_tensor)))\n",
        "\n",
        "\n",
        "model2.add(Flatten())\n",
        "model2.add(Dense(256, activation='relu'))\n",
        "model2.add(Dropout(dropnum))\n",
        "\n",
        "model2.add(Dense(166, activation='softmax', name = \"class_label\"))"
      ],
      "metadata": {
        "id": "tkMvoFOE2Yua"
      },
      "execution_count": 29,
      "outputs": []
    },
    {
      "cell_type": "code",
      "source": [
        "opt = Adam(INIT_LR)\n",
        "\n",
        "model2.compile(loss=losses, \n",
        "              optimizer=opt, \n",
        "              metrics=[\"accuracy\"], \n",
        "              loss_weights=lossWeights)\n",
        "\n",
        "print(model2.summary())"
      ],
      "metadata": {
        "colab": {
          "base_uri": "https://localhost:8080/"
        },
        "id": "R5-utFiC2apu",
        "outputId": "92e43694-8858-4093-960b-7d879fbd834b"
      },
      "execution_count": 30,
      "outputs": [
        {
          "output_type": "stream",
          "name": "stdout",
          "text": [
            "Model: \"sequential_1\"\n",
            "_________________________________________________________________\n",
            " Layer (type)                Output Shape              Param #   \n",
            "=================================================================\n",
            " conv2d_4 (Conv2D)           (None, 222, 222, 32)      896       \n",
            "                                                                 \n",
            " conv2d_5 (Conv2D)           (None, 220, 220, 32)      9248      \n",
            "                                                                 \n",
            " max_pooling2d_2 (MaxPooling  (None, 110, 110, 32)     0         \n",
            " 2D)                                                             \n",
            "                                                                 \n",
            " flatten_2 (Flatten)         (None, 387200)            0         \n",
            "                                                                 \n",
            " dense_1 (Dense)             (None, 256)               99123456  \n",
            "                                                                 \n",
            " dropout_1 (Dropout)         (None, 256)               0         \n",
            "                                                                 \n",
            " class_label (Dense)         (None, 166)               42662     \n",
            "                                                                 \n",
            "=================================================================\n",
            "Total params: 99,176,262\n",
            "Trainable params: 99,176,262\n",
            "Non-trainable params: 0\n",
            "_________________________________________________________________\n",
            "None\n"
          ]
        }
      ]
    },
    {
      "cell_type": "code",
      "source": [
        "#Dropout of 0.5 1 set\n",
        "H2 = model2.fit(\n",
        "    trainImages, trainTargets,\n",
        "    validation_data=(testImages, testTargets),\n",
        "    batch_size=BATCH_SIZE,\n",
        "    epochs=NUM_EPOCHS,\n",
        "    verbose=1,\n",
        "    )"
      ],
      "metadata": {
        "colab": {
          "base_uri": "https://localhost:8080/"
        },
        "id": "b1eed0K42dIG",
        "outputId": "c1f03ad7-94df-4597-872b-410350ccd754"
      },
      "execution_count": 31,
      "outputs": [
        {
          "output_type": "stream",
          "name": "stdout",
          "text": [
            "Epoch 1/26\n",
            "145/145 [==============================] - 494s 3s/step - loss: 4.4156 - accuracy: 0.4333 - val_loss: 3.7644 - val_accuracy: 0.4966\n",
            "Epoch 2/26\n",
            "145/145 [==============================] - 484s 3s/step - loss: 3.8046 - accuracy: 0.4905 - val_loss: 3.6516 - val_accuracy: 0.4966\n",
            "Epoch 3/26\n",
            "145/145 [==============================] - 487s 3s/step - loss: 3.5158 - accuracy: 0.4870 - val_loss: 3.6010 - val_accuracy: 0.4966\n",
            "Epoch 4/26\n",
            "145/145 [==============================] - 485s 3s/step - loss: 3.2219 - accuracy: 0.4922 - val_loss: 3.4003 - val_accuracy: 0.4966\n",
            "Epoch 5/26\n",
            "145/145 [==============================] - 488s 3s/step - loss: 3.0196 - accuracy: 0.4939 - val_loss: 3.5135 - val_accuracy: 0.4966\n",
            "Epoch 6/26\n",
            "145/145 [==============================] - 491s 3s/step - loss: 2.7185 - accuracy: 0.4957 - val_loss: 3.7058 - val_accuracy: 0.4966\n",
            "Epoch 7/26\n",
            "145/145 [==============================] - 488s 3s/step - loss: 2.4793 - accuracy: 0.5165 - val_loss: 3.3433 - val_accuracy: 0.5034\n",
            "Epoch 8/26\n",
            "145/145 [==============================] - 485s 3s/step - loss: 2.2567 - accuracy: 0.5442 - val_loss: 3.3870 - val_accuracy: 0.5172\n",
            "Epoch 9/26\n",
            "145/145 [==============================] - 484s 3s/step - loss: 2.0456 - accuracy: 0.5650 - val_loss: 3.7659 - val_accuracy: 0.5103\n",
            "Epoch 10/26\n",
            "145/145 [==============================] - 486s 3s/step - loss: 1.7860 - accuracy: 0.6066 - val_loss: 3.6667 - val_accuracy: 0.5172\n",
            "Epoch 11/26\n",
            "145/145 [==============================] - 486s 3s/step - loss: 1.5935 - accuracy: 0.6430 - val_loss: 3.5082 - val_accuracy: 0.5241\n",
            "Epoch 12/26\n",
            "145/145 [==============================] - 494s 3s/step - loss: 1.3482 - accuracy: 0.6776 - val_loss: 3.7346 - val_accuracy: 0.5034\n",
            "Epoch 13/26\n",
            "145/145 [==============================] - 489s 3s/step - loss: 1.2090 - accuracy: 0.7314 - val_loss: 3.6412 - val_accuracy: 0.5241\n",
            "Epoch 14/26\n",
            "145/145 [==============================] - 486s 3s/step - loss: 1.0923 - accuracy: 0.7262 - val_loss: 4.0409 - val_accuracy: 0.5241\n",
            "Epoch 15/26\n",
            "145/145 [==============================] - 485s 3s/step - loss: 0.8822 - accuracy: 0.7851 - val_loss: 4.0198 - val_accuracy: 0.5310\n",
            "Epoch 16/26\n",
            "145/145 [==============================] - 492s 3s/step - loss: 0.8616 - accuracy: 0.7955 - val_loss: 4.2434 - val_accuracy: 0.5310\n",
            "Epoch 17/26\n",
            "145/145 [==============================] - 493s 3s/step - loss: 0.7790 - accuracy: 0.8094 - val_loss: 4.6696 - val_accuracy: 0.5310\n",
            "Epoch 18/26\n",
            "145/145 [==============================] - 493s 3s/step - loss: 0.6936 - accuracy: 0.8180 - val_loss: 5.0293 - val_accuracy: 0.5310\n",
            "Epoch 19/26\n",
            "145/145 [==============================] - 507s 4s/step - loss: 0.5883 - accuracy: 0.8475 - val_loss: 4.5332 - val_accuracy: 0.5034\n",
            "Epoch 20/26\n",
            "145/145 [==============================] - 491s 3s/step - loss: 0.5114 - accuracy: 0.8683 - val_loss: 4.7009 - val_accuracy: 0.5172\n",
            "Epoch 21/26\n",
            "145/145 [==============================] - 499s 3s/step - loss: 0.4694 - accuracy: 0.8856 - val_loss: 4.7138 - val_accuracy: 0.5310\n",
            "Epoch 22/26\n",
            "145/145 [==============================] - 496s 3s/step - loss: 0.4443 - accuracy: 0.8839 - val_loss: 5.1541 - val_accuracy: 0.5379\n",
            "Epoch 23/26\n",
            "145/145 [==============================] - 493s 3s/step - loss: 0.3973 - accuracy: 0.8891 - val_loss: 5.0368 - val_accuracy: 0.5310\n",
            "Epoch 24/26\n",
            "145/145 [==============================] - 487s 3s/step - loss: 0.3448 - accuracy: 0.9099 - val_loss: 4.5361 - val_accuracy: 0.5379\n",
            "Epoch 25/26\n",
            "145/145 [==============================] - 486s 3s/step - loss: 0.3488 - accuracy: 0.9064 - val_loss: 5.5445 - val_accuracy: 0.5310\n",
            "Epoch 26/26\n",
            "145/145 [==============================] - 484s 3s/step - loss: 0.2928 - accuracy: 0.9237 - val_loss: 5.6830 - val_accuracy: 0.5241\n"
          ]
        }
      ]
    },
    {
      "cell_type": "code",
      "source": [
        "score = model2.evaluate(trainImages, trainTargets, verbose = 1) \n",
        "\n",
        "print('Train loss:', score[0]) \n",
        "print('Train accuracy:', score[1])\n",
        "\n",
        "score = model2.evaluate(testImages, testTargets, verbose = 1) \n",
        "\n",
        "print('Test loss:', score[0]) \n",
        "print('Test accuracy:', score[1])"
      ],
      "metadata": {
        "colab": {
          "base_uri": "https://localhost:8080/"
        },
        "id": "L5LWqasT3F1C",
        "outputId": "23a0190b-e8a6-4b19-fe19-1ea81b320ace"
      },
      "execution_count": 32,
      "outputs": [
        {
          "output_type": "stream",
          "name": "stdout",
          "text": [
            "19/19 [==============================] - 27s 1s/step - loss: 0.0735 - accuracy: 0.9827\n",
            "Train loss: 0.07346180826425552\n",
            "Train accuracy: 0.9826689958572388\n",
            "5/5 [==============================] - 8s 2s/step - loss: 5.6830 - accuracy: 0.5241\n",
            "Test loss: 5.682952880859375\n",
            "Test accuracy: 0.5241379141807556\n"
          ]
        }
      ]
    },
    {
      "cell_type": "code",
      "source": [
        "model3 = keras.Sequential()\n",
        "\n",
        "model3.add(Conv2D(32, kernel_size=(3, 3), activation='relu', input_shape=(224, 224, 3)))\n",
        "model3.add(Conv2D(filters=32, kernel_size=3, activation='relu'))\n",
        "input_tensor=tf.reshape(input_tensor, [n_images, 224, 224, 3])\n",
        "model3.add(tf.keras.layers.MaxPooling2D(pool_size=(2, 2), input_shape=(input_tensor)))\n",
        "\n",
        "model3.add(Conv2D(32, kernel_size=(3, 3), activation='relu', input_shape=(224, 224, 3)))\n",
        "model3.add(Conv2D(filters=32, kernel_size=3, activation='relu'))\n",
        "model3.add(tf.keras.layers.MaxPooling2D(pool_size=(2, 2), input_shape=(input_tensor)))\n",
        "model3.add(Conv2D(32, kernel_size=(3, 3), activation='relu', input_shape=(224, 224, 3)))\n",
        "model3.add(Conv2D(filters=32, kernel_size=3, activation='relu'))\n",
        "model3.add(tf.keras.layers.MaxPooling2D(pool_size=(2, 2), input_shape=(input_tensor)))\n",
        "\n",
        "\n",
        "model3.add(Flatten())\n",
        "model3.add(Dense(256, activation='relu'))\n",
        "model3.add(Dropout(dropnum))\n",
        "\n",
        "model3.add(Dense(166, activation='softmax', name = \"class_label\"))"
      ],
      "metadata": {
        "id": "gZ9COY002fsP"
      },
      "execution_count": 33,
      "outputs": []
    },
    {
      "cell_type": "code",
      "source": [
        "opt = Adam(INIT_LR)\n",
        "\n",
        "model3.compile(loss=losses, \n",
        "              optimizer=opt, \n",
        "              metrics=[\"accuracy\"], \n",
        "              loss_weights=lossWeights)\n",
        "\n",
        "print(model3.summary())"
      ],
      "metadata": {
        "colab": {
          "base_uri": "https://localhost:8080/"
        },
        "id": "WdhtnE-F2h0v",
        "outputId": "69db1aec-f924-4aa4-bd2f-02fd2f759fb4"
      },
      "execution_count": 34,
      "outputs": [
        {
          "output_type": "stream",
          "name": "stdout",
          "text": [
            "Model: \"sequential_2\"\n",
            "_________________________________________________________________\n",
            " Layer (type)                Output Shape              Param #   \n",
            "=================================================================\n",
            " conv2d_6 (Conv2D)           (None, 222, 222, 32)      896       \n",
            "                                                                 \n",
            " conv2d_7 (Conv2D)           (None, 220, 220, 32)      9248      \n",
            "                                                                 \n",
            " max_pooling2d_3 (MaxPooling  (None, 110, 110, 32)     0         \n",
            " 2D)                                                             \n",
            "                                                                 \n",
            " conv2d_8 (Conv2D)           (None, 108, 108, 32)      9248      \n",
            "                                                                 \n",
            " conv2d_9 (Conv2D)           (None, 106, 106, 32)      9248      \n",
            "                                                                 \n",
            " max_pooling2d_4 (MaxPooling  (None, 53, 53, 32)       0         \n",
            " 2D)                                                             \n",
            "                                                                 \n",
            " conv2d_10 (Conv2D)          (None, 51, 51, 32)        9248      \n",
            "                                                                 \n",
            " conv2d_11 (Conv2D)          (None, 49, 49, 32)        9248      \n",
            "                                                                 \n",
            " max_pooling2d_5 (MaxPooling  (None, 24, 24, 32)       0         \n",
            " 2D)                                                             \n",
            "                                                                 \n",
            " flatten_3 (Flatten)         (None, 18432)             0         \n",
            "                                                                 \n",
            " dense_2 (Dense)             (None, 256)               4718848   \n",
            "                                                                 \n",
            " dropout_2 (Dropout)         (None, 256)               0         \n",
            "                                                                 \n",
            " class_label (Dense)         (None, 166)               42662     \n",
            "                                                                 \n",
            "=================================================================\n",
            "Total params: 4,808,646\n",
            "Trainable params: 4,808,646\n",
            "Non-trainable params: 0\n",
            "_________________________________________________________________\n",
            "None\n"
          ]
        }
      ]
    },
    {
      "cell_type": "code",
      "source": [
        "#Dropout of 0.5 3 set\n",
        "H3 = model3.fit(\n",
        "    trainImages, trainTargets,\n",
        "    validation_data=(testImages, testTargets),\n",
        "    batch_size=BATCH_SIZE,\n",
        "    epochs=NUM_EPOCHS,\n",
        "    verbose=1,\n",
        "    )"
      ],
      "metadata": {
        "colab": {
          "base_uri": "https://localhost:8080/"
        },
        "id": "C0Q6Gw742j3l",
        "outputId": "1043d5a2-c18f-4843-e301-d53a4a9de048"
      },
      "execution_count": 35,
      "outputs": [
        {
          "output_type": "stream",
          "name": "stdout",
          "text": [
            "Epoch 1/26\n",
            "145/145 [==============================] - 161s 1s/step - loss: 3.7187 - accuracy: 0.4870 - val_loss: 3.5339 - val_accuracy: 0.4966\n",
            "Epoch 2/26\n",
            "145/145 [==============================] - 152s 1s/step - loss: 3.4865 - accuracy: 0.4939 - val_loss: 3.4382 - val_accuracy: 0.4966\n",
            "Epoch 3/26\n",
            "145/145 [==============================] - 151s 1s/step - loss: 3.3430 - accuracy: 0.4939 - val_loss: 3.5151 - val_accuracy: 0.4966\n",
            "Epoch 4/26\n",
            "145/145 [==============================] - 152s 1s/step - loss: 3.2939 - accuracy: 0.4939 - val_loss: 3.4306 - val_accuracy: 0.4966\n",
            "Epoch 5/26\n",
            "145/145 [==============================] - 152s 1s/step - loss: 3.2822 - accuracy: 0.4939 - val_loss: 3.4454 - val_accuracy: 0.4966\n",
            "Epoch 6/26\n",
            "145/145 [==============================] - 157s 1s/step - loss: 3.2520 - accuracy: 0.4939 - val_loss: 3.4813 - val_accuracy: 0.4966\n",
            "Epoch 7/26\n",
            "145/145 [==============================] - 153s 1s/step - loss: 3.1458 - accuracy: 0.4939 - val_loss: 3.6234 - val_accuracy: 0.4966\n",
            "Epoch 8/26\n",
            "145/145 [==============================] - 157s 1s/step - loss: 3.1546 - accuracy: 0.4939 - val_loss: 3.5072 - val_accuracy: 0.4966\n",
            "Epoch 9/26\n",
            "145/145 [==============================] - 156s 1s/step - loss: 2.9846 - accuracy: 0.4905 - val_loss: 3.5608 - val_accuracy: 0.4966\n",
            "Epoch 10/26\n",
            "145/145 [==============================] - 154s 1s/step - loss: 2.8502 - accuracy: 0.5061 - val_loss: 3.5306 - val_accuracy: 0.5034\n",
            "Epoch 11/26\n",
            "145/145 [==============================] - 155s 1s/step - loss: 2.7873 - accuracy: 0.5078 - val_loss: 3.5502 - val_accuracy: 0.5034\n",
            "Epoch 12/26\n",
            "145/145 [==============================] - 157s 1s/step - loss: 2.6912 - accuracy: 0.5182 - val_loss: 3.5226 - val_accuracy: 0.5103\n",
            "Epoch 13/26\n",
            "145/145 [==============================] - 152s 1s/step - loss: 2.5280 - accuracy: 0.5095 - val_loss: 3.5812 - val_accuracy: 0.5241\n",
            "Epoch 14/26\n",
            "145/145 [==============================] - 152s 1s/step - loss: 2.4871 - accuracy: 0.5234 - val_loss: 3.4812 - val_accuracy: 0.5310\n",
            "Epoch 15/26\n",
            "145/145 [==============================] - 154s 1s/step - loss: 2.2877 - accuracy: 0.5390 - val_loss: 3.5490 - val_accuracy: 0.5034\n",
            "Epoch 16/26\n",
            "145/145 [==============================] - 150s 1s/step - loss: 2.2222 - accuracy: 0.5338 - val_loss: 3.5707 - val_accuracy: 0.5172\n",
            "Epoch 17/26\n",
            "145/145 [==============================] - 155s 1s/step - loss: 2.0644 - accuracy: 0.5615 - val_loss: 3.7823 - val_accuracy: 0.4897\n",
            "Epoch 18/26\n",
            "145/145 [==============================] - 151s 1s/step - loss: 1.9223 - accuracy: 0.5806 - val_loss: 3.9407 - val_accuracy: 0.5310\n",
            "Epoch 19/26\n",
            "145/145 [==============================] - 153s 1s/step - loss: 1.8291 - accuracy: 0.5875 - val_loss: 3.7632 - val_accuracy: 0.4897\n",
            "Epoch 20/26\n",
            "145/145 [==============================] - 154s 1s/step - loss: 1.6555 - accuracy: 0.6326 - val_loss: 4.2783 - val_accuracy: 0.5034\n",
            "Epoch 21/26\n",
            "145/145 [==============================] - 156s 1s/step - loss: 1.4243 - accuracy: 0.6499 - val_loss: 4.0082 - val_accuracy: 0.5034\n",
            "Epoch 22/26\n",
            "145/145 [==============================] - 154s 1s/step - loss: 1.2619 - accuracy: 0.6846 - val_loss: 4.3104 - val_accuracy: 0.5103\n",
            "Epoch 23/26\n",
            "145/145 [==============================] - 155s 1s/step - loss: 1.1438 - accuracy: 0.7054 - val_loss: 4.7260 - val_accuracy: 0.5241\n",
            "Epoch 24/26\n",
            "145/145 [==============================] - 160s 1s/step - loss: 0.9294 - accuracy: 0.7539 - val_loss: 5.2432 - val_accuracy: 0.4897\n",
            "Epoch 25/26\n",
            "145/145 [==============================] - 155s 1s/step - loss: 0.8387 - accuracy: 0.7730 - val_loss: 5.6269 - val_accuracy: 0.5103\n",
            "Epoch 26/26\n",
            "145/145 [==============================] - 157s 1s/step - loss: 0.6979 - accuracy: 0.8076 - val_loss: 5.4203 - val_accuracy: 0.4621\n"
          ]
        }
      ]
    },
    {
      "cell_type": "code",
      "source": [
        "score = model3.evaluate(trainImages, trainTargets, verbose = 1) \n",
        "\n",
        "print('Train loss:', score[0]) \n",
        "print('Train accuracy:', score[1])\n",
        "\n",
        "score = model3.evaluate(testImages, testTargets, verbose = 1) \n",
        "\n",
        "print('Test loss:', score[0]) \n",
        "print('Test accuracy:', score[1])"
      ],
      "metadata": {
        "colab": {
          "base_uri": "https://localhost:8080/"
        },
        "id": "9t4KTtft3D69",
        "outputId": "7aba6dc0-7573-4a75-93aa-698338d27755"
      },
      "execution_count": 36,
      "outputs": [
        {
          "output_type": "stream",
          "name": "stdout",
          "text": [
            "19/19 [==============================] - 31s 2s/step - loss: 0.2905 - accuracy: 0.9168\n",
            "Train loss: 0.29048794507980347\n",
            "Train accuracy: 0.9168111085891724\n",
            "5/5 [==============================] - 8s 1s/step - loss: 5.4203 - accuracy: 0.4621\n",
            "Test loss: 5.420331954956055\n",
            "Test accuracy: 0.46206897497177124\n"
          ]
        }
      ]
    },
    {
      "cell_type": "code",
      "source": [
        "model4 = keras.Sequential()\n",
        "\n",
        "model4.add(Conv2D(32, kernel_size=(3, 3), activation='relu', input_shape=(224, 224, 3)))\n",
        "model4.add(Conv2D(filters=32, kernel_size=3, activation='relu'))\n",
        "input_tensor=tf.reshape(input_tensor, [n_images, 224, 224, 3])\n",
        "model4.add(tf.keras.layers.MaxPooling2D(pool_size=(2, 2), input_shape=(input_tensor)))\n",
        "\n",
        "model4.add(Conv2D(32, kernel_size=(3, 3), activation='relu', input_shape=(224, 224, 3)))\n",
        "model4.add(Conv2D(filters=32, kernel_size=3, activation='relu'))\n",
        "model4.add(tf.keras.layers.MaxPooling2D(pool_size=(2, 2), input_shape=(input_tensor)))\n",
        "model4.add(Conv2D(32, kernel_size=(3, 3), activation='relu', input_shape=(224, 224, 3)))\n",
        "model4.add(Conv2D(filters=32, kernel_size=3, activation='relu'))\n",
        "model4.add(tf.keras.layers.MaxPooling2D(pool_size=(2, 2), input_shape=(input_tensor)))\n",
        "model4.add(Conv2D(32, kernel_size=(3, 3), activation='relu', input_shape=(224, 224, 3)))\n",
        "model4.add(Conv2D(filters=32, kernel_size=3, activation='relu'))\n",
        "model4.add(tf.keras.layers.MaxPooling2D(pool_size=(2, 2), input_shape=(input_tensor)))\n",
        "\n",
        "\n",
        "model4.add(Flatten())\n",
        "model4.add(Dense(256, activation='relu'))\n",
        "model4.add(Dropout(dropnum))\n",
        "\n",
        "model4.add(Dense(166, activation='softmax', name = \"class_label\"))"
      ],
      "metadata": {
        "id": "7VgkWYGy2mFO"
      },
      "execution_count": 37,
      "outputs": []
    },
    {
      "cell_type": "code",
      "source": [
        "opt = Adam(INIT_LR)\n",
        "\n",
        "model4.compile(loss=losses, \n",
        "              optimizer=opt, \n",
        "              metrics=[\"accuracy\"], \n",
        "              loss_weights=lossWeights)\n",
        "\n",
        "print(model4.summary())"
      ],
      "metadata": {
        "colab": {
          "base_uri": "https://localhost:8080/"
        },
        "id": "6-uxAkLV2rhA",
        "outputId": "c2d59434-0858-49e5-c8a6-a58bfd7afaab"
      },
      "execution_count": 38,
      "outputs": [
        {
          "output_type": "stream",
          "name": "stdout",
          "text": [
            "Model: \"sequential_3\"\n",
            "_________________________________________________________________\n",
            " Layer (type)                Output Shape              Param #   \n",
            "=================================================================\n",
            " conv2d_12 (Conv2D)          (None, 222, 222, 32)      896       \n",
            "                                                                 \n",
            " conv2d_13 (Conv2D)          (None, 220, 220, 32)      9248      \n",
            "                                                                 \n",
            " max_pooling2d_6 (MaxPooling  (None, 110, 110, 32)     0         \n",
            " 2D)                                                             \n",
            "                                                                 \n",
            " conv2d_14 (Conv2D)          (None, 108, 108, 32)      9248      \n",
            "                                                                 \n",
            " conv2d_15 (Conv2D)          (None, 106, 106, 32)      9248      \n",
            "                                                                 \n",
            " max_pooling2d_7 (MaxPooling  (None, 53, 53, 32)       0         \n",
            " 2D)                                                             \n",
            "                                                                 \n",
            " conv2d_16 (Conv2D)          (None, 51, 51, 32)        9248      \n",
            "                                                                 \n",
            " conv2d_17 (Conv2D)          (None, 49, 49, 32)        9248      \n",
            "                                                                 \n",
            " max_pooling2d_8 (MaxPooling  (None, 24, 24, 32)       0         \n",
            " 2D)                                                             \n",
            "                                                                 \n",
            " conv2d_18 (Conv2D)          (None, 22, 22, 32)        9248      \n",
            "                                                                 \n",
            " conv2d_19 (Conv2D)          (None, 20, 20, 32)        9248      \n",
            "                                                                 \n",
            " max_pooling2d_9 (MaxPooling  (None, 10, 10, 32)       0         \n",
            " 2D)                                                             \n",
            "                                                                 \n",
            " flatten_4 (Flatten)         (None, 3200)              0         \n",
            "                                                                 \n",
            " dense_3 (Dense)             (None, 256)               819456    \n",
            "                                                                 \n",
            " dropout_3 (Dropout)         (None, 256)               0         \n",
            "                                                                 \n",
            " class_label (Dense)         (None, 166)               42662     \n",
            "                                                                 \n",
            "=================================================================\n",
            "Total params: 927,750\n",
            "Trainable params: 927,750\n",
            "Non-trainable params: 0\n",
            "_________________________________________________________________\n",
            "None\n"
          ]
        }
      ]
    },
    {
      "cell_type": "code",
      "source": [
        "#Dropout of 0.5 4 set\n",
        "H4 = model4.fit(\n",
        "    trainImages, trainTargets,\n",
        "    validation_data=(testImages, testTargets),\n",
        "    batch_size=BATCH_SIZE,\n",
        "    epochs=NUM_EPOCHS,\n",
        "    verbose=1,\n",
        "    )"
      ],
      "metadata": {
        "colab": {
          "base_uri": "https://localhost:8080/"
        },
        "id": "KkTH8NV624ZJ",
        "outputId": "9f30a5cc-afb0-405b-b850-f3fd4e89c492"
      },
      "execution_count": 39,
      "outputs": [
        {
          "output_type": "stream",
          "name": "stdout",
          "text": [
            "Epoch 1/26\n",
            "145/145 [==============================] - 162s 1s/step - loss: 4.0037 - accuracy: 0.4783 - val_loss: 3.5209 - val_accuracy: 0.4966\n",
            "Epoch 2/26\n",
            "145/145 [==============================] - 153s 1s/step - loss: 3.4630 - accuracy: 0.4939 - val_loss: 3.5163 - val_accuracy: 0.4966\n",
            "Epoch 3/26\n",
            "145/145 [==============================] - 151s 1s/step - loss: 3.3695 - accuracy: 0.4939 - val_loss: 3.5200 - val_accuracy: 0.4966\n",
            "Epoch 4/26\n",
            "145/145 [==============================] - 153s 1s/step - loss: 3.2860 - accuracy: 0.4939 - val_loss: 3.5068 - val_accuracy: 0.4966\n",
            "Epoch 5/26\n",
            "145/145 [==============================] - 149s 1s/step - loss: 3.2304 - accuracy: 0.4939 - val_loss: 3.4665 - val_accuracy: 0.4966\n",
            "Epoch 6/26\n",
            "145/145 [==============================] - 151s 1s/step - loss: 3.2345 - accuracy: 0.4939 - val_loss: 3.5265 - val_accuracy: 0.4966\n",
            "Epoch 7/26\n",
            "145/145 [==============================] - 149s 1s/step - loss: 3.2127 - accuracy: 0.4939 - val_loss: 3.6244 - val_accuracy: 0.4966\n",
            "Epoch 8/26\n",
            "145/145 [==============================] - 155s 1s/step - loss: 3.2345 - accuracy: 0.4939 - val_loss: 3.5538 - val_accuracy: 0.4966\n",
            "Epoch 9/26\n",
            "145/145 [==============================] - 156s 1s/step - loss: 3.1791 - accuracy: 0.4939 - val_loss: 3.5511 - val_accuracy: 0.4966\n",
            "Epoch 10/26\n",
            "145/145 [==============================] - 155s 1s/step - loss: 3.1690 - accuracy: 0.4939 - val_loss: 3.5626 - val_accuracy: 0.4966\n",
            "Epoch 11/26\n",
            "145/145 [==============================] - 154s 1s/step - loss: 3.2303 - accuracy: 0.4939 - val_loss: 3.6294 - val_accuracy: 0.4966\n",
            "Epoch 12/26\n",
            "145/145 [==============================] - 156s 1s/step - loss: 3.1726 - accuracy: 0.4939 - val_loss: 3.6154 - val_accuracy: 0.4966\n",
            "Epoch 13/26\n",
            "145/145 [==============================] - 151s 1s/step - loss: 3.1594 - accuracy: 0.4939 - val_loss: 3.6473 - val_accuracy: 0.4966\n",
            "Epoch 14/26\n",
            "145/145 [==============================] - 155s 1s/step - loss: 3.1684 - accuracy: 0.4939 - val_loss: 3.6593 - val_accuracy: 0.4966\n",
            "Epoch 15/26\n",
            "145/145 [==============================] - 153s 1s/step - loss: 3.1360 - accuracy: 0.4939 - val_loss: 3.6743 - val_accuracy: 0.4966\n",
            "Epoch 16/26\n",
            "145/145 [==============================] - 154s 1s/step - loss: 3.1686 - accuracy: 0.4939 - val_loss: 3.6993 - val_accuracy: 0.4966\n",
            "Epoch 17/26\n",
            "145/145 [==============================] - 155s 1s/step - loss: 3.1439 - accuracy: 0.4939 - val_loss: 3.6704 - val_accuracy: 0.4966\n",
            "Epoch 18/26\n",
            "145/145 [==============================] - 155s 1s/step - loss: 3.1509 - accuracy: 0.4939 - val_loss: 3.7506 - val_accuracy: 0.4966\n",
            "Epoch 19/26\n",
            "145/145 [==============================] - 153s 1s/step - loss: 3.1013 - accuracy: 0.4939 - val_loss: 3.7825 - val_accuracy: 0.4966\n",
            "Epoch 20/26\n",
            "145/145 [==============================] - 153s 1s/step - loss: 3.0990 - accuracy: 0.4939 - val_loss: 3.7280 - val_accuracy: 0.4966\n",
            "Epoch 21/26\n",
            "145/145 [==============================] - 153s 1s/step - loss: 3.0798 - accuracy: 0.4939 - val_loss: 3.8369 - val_accuracy: 0.4966\n",
            "Epoch 22/26\n",
            "145/145 [==============================] - 150s 1s/step - loss: 3.0446 - accuracy: 0.4939 - val_loss: 3.9223 - val_accuracy: 0.4966\n",
            "Epoch 23/26\n",
            "145/145 [==============================] - 149s 1s/step - loss: 2.9963 - accuracy: 0.4939 - val_loss: 3.7786 - val_accuracy: 0.4966\n",
            "Epoch 24/26\n",
            "145/145 [==============================] - 155s 1s/step - loss: 2.9995 - accuracy: 0.4939 - val_loss: 3.8140 - val_accuracy: 0.4966\n",
            "Epoch 25/26\n",
            "145/145 [==============================] - 152s 1s/step - loss: 2.9602 - accuracy: 0.4957 - val_loss: 3.8301 - val_accuracy: 0.4966\n",
            "Epoch 26/26\n",
            "145/145 [==============================] - 151s 1s/step - loss: 2.9643 - accuracy: 0.4939 - val_loss: 3.7921 - val_accuracy: 0.4966\n"
          ]
        }
      ]
    },
    {
      "cell_type": "code",
      "source": [
        "score = model4.evaluate(trainImages, trainTargets, verbose = 1) \n",
        "\n",
        "print('Train loss:', score[0]) \n",
        "print('Train accuracy:', score[1])\n",
        "\n",
        "score = model4.evaluate(testImages, testTargets, verbose = 1) \n",
        "\n",
        "print('Test loss:', score[0]) \n",
        "print('Test accuracy:', score[1])"
      ],
      "metadata": {
        "colab": {
          "base_uri": "https://localhost:8080/"
        },
        "id": "AHc8Vs9W3CCQ",
        "outputId": "0b8ca35c-6afe-4544-c32b-c7baf78637fa"
      },
      "execution_count": 40,
      "outputs": [
        {
          "output_type": "stream",
          "name": "stdout",
          "text": [
            "19/19 [==============================] - 32s 2s/step - loss: 2.8611 - accuracy: 0.4957\n",
            "Train loss: 2.861114263534546\n",
            "Train accuracy: 0.4956672489643097\n",
            "5/5 [==============================] - 9s 2s/step - loss: 3.7921 - accuracy: 0.4966\n",
            "Test loss: 3.792146682739258\n",
            "Test accuracy: 0.4965517222881317\n"
          ]
        }
      ]
    },
    {
      "cell_type": "code",
      "source": [
        "dropnum = 0.2"
      ],
      "metadata": {
        "id": "kH3GQQsm2whC"
      },
      "execution_count": 17,
      "outputs": []
    },
    {
      "cell_type": "code",
      "source": [
        "model5 = keras.Sequential()\n",
        "\n",
        "model5.add(Conv2D(32, kernel_size=(3, 3), activation='relu', input_shape=(224, 224, 3)))\n",
        "model5.add(Conv2D(filters=32, kernel_size=3, activation='relu'))\n",
        "input_tensor=tf.reshape(input_tensor, [n_images, 224, 224, 3])\n",
        "model5.add(tf.keras.layers.MaxPooling2D(pool_size=(2, 2), input_shape=(input_tensor)))\n",
        "\n",
        "\n",
        "model5.add(Flatten())\n",
        "model5.add(Dense(256, activation='relu'))\n",
        "model5.add(Dropout(dropnum))\n",
        "\n",
        "model5.add(Dense(166, activation='softmax', name = \"class_label\"))"
      ],
      "metadata": {
        "id": "FKuC3fHJ2wW4"
      },
      "execution_count": 18,
      "outputs": []
    },
    {
      "cell_type": "code",
      "source": [
        "opt = Adam(INIT_LR)\n",
        "\n",
        "model5.compile(loss=losses, \n",
        "              optimizer=opt, \n",
        "              metrics=[\"accuracy\"], \n",
        "              loss_weights=lossWeights)\n",
        "\n",
        "print(model5.summary())"
      ],
      "metadata": {
        "colab": {
          "base_uri": "https://localhost:8080/"
        },
        "id": "ALxrEE-82ts3",
        "outputId": "fe70c82d-381d-466a-bdde-a316bde42171"
      },
      "execution_count": 19,
      "outputs": [
        {
          "output_type": "stream",
          "name": "stdout",
          "text": [
            "Model: \"sequential_2\"\n",
            "_________________________________________________________________\n",
            " Layer (type)                Output Shape              Param #   \n",
            "=================================================================\n",
            " conv2d_6 (Conv2D)           (None, 222, 222, 32)      896       \n",
            "                                                                 \n",
            " conv2d_7 (Conv2D)           (None, 220, 220, 32)      9248      \n",
            "                                                                 \n",
            " max_pooling2d_3 (MaxPooling  (None, 110, 110, 32)     0         \n",
            " 2D)                                                             \n",
            "                                                                 \n",
            " flatten_2 (Flatten)         (None, 387200)            0         \n",
            "                                                                 \n",
            " dense_1 (Dense)             (None, 256)               99123456  \n",
            "                                                                 \n",
            " dropout_1 (Dropout)         (None, 256)               0         \n",
            "                                                                 \n",
            " class_label (Dense)         (None, 166)               42662     \n",
            "                                                                 \n",
            "=================================================================\n",
            "Total params: 99,176,262\n",
            "Trainable params: 99,176,262\n",
            "Non-trainable params: 0\n",
            "_________________________________________________________________\n",
            "None\n"
          ]
        }
      ]
    },
    {
      "cell_type": "code",
      "source": [
        "#Dropout of 0.2 1 set\n",
        "H5 = model5.fit(\n",
        "    trainImages, trainTargets,\n",
        "    validation_data=(testImages, testTargets),\n",
        "    batch_size=BATCH_SIZE,\n",
        "    epochs=NUM_EPOCHS,\n",
        "    verbose=1,\n",
        "    )"
      ],
      "metadata": {
        "colab": {
          "base_uri": "https://localhost:8080/"
        },
        "id": "NXexj9jy29xK",
        "outputId": "1d97985a-7933-404d-bdea-2402ecf8cc40"
      },
      "execution_count": 20,
      "outputs": [
        {
          "output_type": "stream",
          "name": "stdout",
          "text": [
            "Epoch 1/26\n",
            "145/145 [==============================] - 453s 3s/step - loss: 3.9946 - accuracy: 0.4662 - val_loss: 3.6973 - val_accuracy: 0.4966\n",
            "Epoch 2/26\n",
            "145/145 [==============================] - 453s 3s/step - loss: 3.5151 - accuracy: 0.4905 - val_loss: 3.6442 - val_accuracy: 0.4966\n",
            "Epoch 3/26\n",
            "145/145 [==============================] - 453s 3s/step - loss: 3.2086 - accuracy: 0.4939 - val_loss: 3.4422 - val_accuracy: 0.4966\n",
            "Epoch 4/26\n",
            "145/145 [==============================] - 452s 3s/step - loss: 2.9188 - accuracy: 0.4939 - val_loss: 3.5633 - val_accuracy: 0.4966\n",
            "Epoch 5/26\n",
            "145/145 [==============================] - 451s 3s/step - loss: 2.7461 - accuracy: 0.4974 - val_loss: 3.6427 - val_accuracy: 0.4966\n",
            "Epoch 6/26\n",
            "145/145 [==============================] - 446s 3s/step - loss: 2.5234 - accuracy: 0.4991 - val_loss: 3.4978 - val_accuracy: 0.5103\n",
            "Epoch 7/26\n",
            "145/145 [==============================] - 450s 3s/step - loss: 2.2261 - accuracy: 0.5234 - val_loss: 3.5534 - val_accuracy: 0.4966\n",
            "Epoch 8/26\n",
            "145/145 [==============================] - 447s 3s/step - loss: 2.1332 - accuracy: 0.5494 - val_loss: 3.5558 - val_accuracy: 0.5034\n",
            "Epoch 9/26\n",
            "145/145 [==============================] - 451s 3s/step - loss: 1.9064 - accuracy: 0.5719 - val_loss: 3.5777 - val_accuracy: 0.5310\n",
            "Epoch 10/26\n",
            "145/145 [==============================] - 451s 3s/step - loss: 1.6759 - accuracy: 0.6256 - val_loss: 3.5973 - val_accuracy: 0.5379\n",
            "Epoch 11/26\n",
            "145/145 [==============================] - 452s 3s/step - loss: 1.5811 - accuracy: 0.6360 - val_loss: 3.7691 - val_accuracy: 0.5172\n",
            "Epoch 12/26\n",
            "145/145 [==============================] - 454s 3s/step - loss: 1.3554 - accuracy: 0.6742 - val_loss: 4.0046 - val_accuracy: 0.5379\n",
            "Epoch 13/26\n",
            "145/145 [==============================] - 451s 3s/step - loss: 1.1536 - accuracy: 0.7227 - val_loss: 4.0180 - val_accuracy: 0.5517\n",
            "Epoch 14/26\n",
            "145/145 [==============================] - 454s 3s/step - loss: 1.0630 - accuracy: 0.7348 - val_loss: 4.3776 - val_accuracy: 0.5379\n",
            "Epoch 15/26\n",
            "145/145 [==============================] - 449s 3s/step - loss: 0.9039 - accuracy: 0.7782 - val_loss: 4.1906 - val_accuracy: 0.5172\n",
            "Epoch 16/26\n",
            "145/145 [==============================] - 451s 3s/step - loss: 0.8189 - accuracy: 0.7938 - val_loss: 4.4794 - val_accuracy: 0.5310\n",
            "Epoch 17/26\n",
            "145/145 [==============================] - 452s 3s/step - loss: 0.6831 - accuracy: 0.8284 - val_loss: 4.5716 - val_accuracy: 0.5172\n",
            "Epoch 18/26\n",
            "145/145 [==============================] - 451s 3s/step - loss: 0.6649 - accuracy: 0.8354 - val_loss: 4.8881 - val_accuracy: 0.5172\n",
            "Epoch 19/26\n",
            "145/145 [==============================] - 451s 3s/step - loss: 0.6025 - accuracy: 0.8302 - val_loss: 4.7874 - val_accuracy: 0.5310\n",
            "Epoch 20/26\n",
            "145/145 [==============================] - 451s 3s/step - loss: 0.5042 - accuracy: 0.8769 - val_loss: 4.8593 - val_accuracy: 0.5172\n",
            "Epoch 21/26\n",
            "145/145 [==============================] - 460s 3s/step - loss: 0.4405 - accuracy: 0.8821 - val_loss: 4.9346 - val_accuracy: 0.5103\n",
            "Epoch 22/26\n",
            "145/145 [==============================] - 454s 3s/step - loss: 0.3678 - accuracy: 0.9064 - val_loss: 5.1151 - val_accuracy: 0.4966\n",
            "Epoch 23/26\n",
            "145/145 [==============================] - 457s 3s/step - loss: 0.3627 - accuracy: 0.9064 - val_loss: 5.3399 - val_accuracy: 0.5241\n",
            "Epoch 24/26\n",
            "145/145 [==============================] - 452s 3s/step - loss: 0.2920 - accuracy: 0.9289 - val_loss: 5.2700 - val_accuracy: 0.5310\n",
            "Epoch 25/26\n",
            "145/145 [==============================] - 451s 3s/step - loss: 0.3498 - accuracy: 0.9133 - val_loss: 5.2295 - val_accuracy: 0.5103\n",
            "Epoch 26/26\n",
            "145/145 [==============================] - 449s 3s/step - loss: 0.2405 - accuracy: 0.9376 - val_loss: 6.6114 - val_accuracy: 0.5379\n"
          ]
        }
      ]
    },
    {
      "cell_type": "code",
      "source": [
        "score = model5.evaluate(trainImages, trainTargets, verbose = 1) \n",
        "\n",
        "print('Train loss:', score[0]) \n",
        "print('Train accuracy:', score[1])\n",
        "\n",
        "score = model5.evaluate(testImages, testTargets, verbose = 1) \n",
        "\n",
        "print('Test loss:', score[0]) \n",
        "print('Test accuracy:', score[1])"
      ],
      "metadata": {
        "colab": {
          "base_uri": "https://localhost:8080/"
        },
        "id": "rudjcXWb3ACj",
        "outputId": "80bc99b1-db1a-47c1-d1be-43cc0a38859c"
      },
      "execution_count": 21,
      "outputs": [
        {
          "output_type": "stream",
          "name": "stdout",
          "text": [
            "19/19 [==============================] - 24s 1s/step - loss: 0.1324 - accuracy: 0.9671\n",
            "Train loss: 0.13236276805400848\n",
            "Train accuracy: 0.9670710563659668\n",
            "5/5 [==============================] - 8s 2s/step - loss: 6.6114 - accuracy: 0.5379\n",
            "Test loss: 6.611390590667725\n",
            "Test accuracy: 0.5379310250282288\n"
          ]
        }
      ]
    },
    {
      "cell_type": "code",
      "source": [
        "model6 = keras.Sequential()\n",
        "\n",
        "model6.add(Conv2D(32, kernel_size=(3, 3), activation='relu', input_shape=(224, 224, 3)))\n",
        "model6.add(Conv2D(filters=32, kernel_size=3, activation='relu'))\n",
        "input_tensor=tf.reshape(input_tensor, [n_images, 224, 224, 3])\n",
        "model6.add(tf.keras.layers.MaxPooling2D(pool_size=(2, 2), input_shape=(input_tensor)))\n",
        "\n",
        "model6.add(Conv2D(32, kernel_size=(3, 3), activation='relu', input_shape=(224, 224, 3)))\n",
        "model6.add(Conv2D(filters=32, kernel_size=3, activation='relu'))\n",
        "model6.add(tf.keras.layers.MaxPooling2D(pool_size=(2, 2), input_shape=(input_tensor)))\n",
        "\n",
        "\n",
        "model6.add(Flatten())\n",
        "model6.add(Dense(256, activation='relu'))\n",
        "model6.add(Dropout(dropnum))\n",
        "\n",
        "model6.add(Dense(166, activation='softmax', name = \"class_label\"))"
      ],
      "metadata": {
        "id": "PXM21sKJ3LYd"
      },
      "execution_count": 22,
      "outputs": []
    },
    {
      "cell_type": "code",
      "source": [
        "opt = Adam(INIT_LR)\n",
        "\n",
        "model6.compile(loss=losses, \n",
        "              optimizer=opt, \n",
        "              metrics=[\"accuracy\"], \n",
        "              loss_weights=lossWeights)\n",
        "\n",
        "print(model6.summary())"
      ],
      "metadata": {
        "colab": {
          "base_uri": "https://localhost:8080/"
        },
        "id": "-RucXwdr3Oc6",
        "outputId": "056326e9-3fb9-41e5-dbe0-62ec70bd4ab4"
      },
      "execution_count": 23,
      "outputs": [
        {
          "output_type": "stream",
          "name": "stdout",
          "text": [
            "Model: \"sequential_3\"\n",
            "_________________________________________________________________\n",
            " Layer (type)                Output Shape              Param #   \n",
            "=================================================================\n",
            " conv2d_8 (Conv2D)           (None, 222, 222, 32)      896       \n",
            "                                                                 \n",
            " conv2d_9 (Conv2D)           (None, 220, 220, 32)      9248      \n",
            "                                                                 \n",
            " max_pooling2d_4 (MaxPooling  (None, 110, 110, 32)     0         \n",
            " 2D)                                                             \n",
            "                                                                 \n",
            " conv2d_10 (Conv2D)          (None, 108, 108, 32)      9248      \n",
            "                                                                 \n",
            " conv2d_11 (Conv2D)          (None, 106, 106, 32)      9248      \n",
            "                                                                 \n",
            " max_pooling2d_5 (MaxPooling  (None, 53, 53, 32)       0         \n",
            " 2D)                                                             \n",
            "                                                                 \n",
            " flatten_3 (Flatten)         (None, 89888)             0         \n",
            "                                                                 \n",
            " dense_2 (Dense)             (None, 256)               23011584  \n",
            "                                                                 \n",
            " dropout_2 (Dropout)         (None, 256)               0         \n",
            "                                                                 \n",
            " class_label (Dense)         (None, 166)               42662     \n",
            "                                                                 \n",
            "=================================================================\n",
            "Total params: 23,082,886\n",
            "Trainable params: 23,082,886\n",
            "Non-trainable params: 0\n",
            "_________________________________________________________________\n",
            "None\n"
          ]
        }
      ]
    },
    {
      "cell_type": "code",
      "source": [
        "#Dropout of 0.2 2 set\n",
        "H6 = model6.fit(\n",
        "    trainImages, trainTargets,\n",
        "    validation_data=(testImages, testTargets),\n",
        "    batch_size=BATCH_SIZE,\n",
        "    epochs=NUM_EPOCHS,\n",
        "    verbose=1,\n",
        "    )"
      ],
      "metadata": {
        "colab": {
          "base_uri": "https://localhost:8080/"
        },
        "id": "o8Sl8C-l3QS_",
        "outputId": "c544c740-0d5e-4484-b89e-59849b5c9d4c"
      },
      "execution_count": 24,
      "outputs": [
        {
          "output_type": "stream",
          "name": "stdout",
          "text": [
            "Epoch 1/26\n",
            "145/145 [==============================] - 205s 1s/step - loss: 3.7755 - accuracy: 0.4887 - val_loss: 3.6166 - val_accuracy: 0.4966\n",
            "Epoch 2/26\n",
            "145/145 [==============================] - 208s 1s/step - loss: 3.4044 - accuracy: 0.4939 - val_loss: 3.5171 - val_accuracy: 0.4966\n",
            "Epoch 3/26\n",
            "145/145 [==============================] - 202s 1s/step - loss: 3.2720 - accuracy: 0.4939 - val_loss: 3.4649 - val_accuracy: 0.4966\n",
            "Epoch 4/26\n",
            "145/145 [==============================] - 208s 1s/step - loss: 3.0155 - accuracy: 0.4939 - val_loss: 3.4447 - val_accuracy: 0.4966\n",
            "Epoch 5/26\n",
            "145/145 [==============================] - 206s 1s/step - loss: 2.7915 - accuracy: 0.5043 - val_loss: 3.4213 - val_accuracy: 0.5034\n",
            "Epoch 6/26\n",
            "145/145 [==============================] - 204s 1s/step - loss: 2.4882 - accuracy: 0.5147 - val_loss: 3.4844 - val_accuracy: 0.4897\n",
            "Epoch 7/26\n",
            "145/145 [==============================] - 209s 1s/step - loss: 2.0973 - accuracy: 0.5442 - val_loss: 3.5867 - val_accuracy: 0.4897\n",
            "Epoch 8/26\n",
            "145/145 [==============================] - 208s 1s/step - loss: 1.7207 - accuracy: 0.5997 - val_loss: 3.7972 - val_accuracy: 0.5034\n",
            "Epoch 9/26\n",
            "145/145 [==============================] - 207s 1s/step - loss: 1.3128 - accuracy: 0.6828 - val_loss: 4.1667 - val_accuracy: 0.5379\n",
            "Epoch 10/26\n",
            "145/145 [==============================] - 209s 1s/step - loss: 1.0242 - accuracy: 0.7782 - val_loss: 4.2411 - val_accuracy: 0.5310\n",
            "Epoch 11/26\n",
            "145/145 [==============================] - 211s 1s/step - loss: 0.7017 - accuracy: 0.8215 - val_loss: 5.0190 - val_accuracy: 0.4966\n",
            "Epoch 12/26\n",
            "145/145 [==============================] - 209s 1s/step - loss: 0.5222 - accuracy: 0.8562 - val_loss: 5.4312 - val_accuracy: 0.5103\n",
            "Epoch 13/26\n",
            "145/145 [==============================] - 205s 1s/step - loss: 0.4581 - accuracy: 0.8735 - val_loss: 5.5660 - val_accuracy: 0.5172\n",
            "Epoch 14/26\n",
            "145/145 [==============================] - 211s 1s/step - loss: 0.2877 - accuracy: 0.9272 - val_loss: 6.9177 - val_accuracy: 0.5241\n",
            "Epoch 15/26\n",
            "145/145 [==============================] - 205s 1s/step - loss: 0.2299 - accuracy: 0.9428 - val_loss: 7.6003 - val_accuracy: 0.5310\n",
            "Epoch 16/26\n",
            "145/145 [==============================] - 206s 1s/step - loss: 0.1341 - accuracy: 0.9723 - val_loss: 7.7056 - val_accuracy: 0.5310\n",
            "Epoch 17/26\n",
            "145/145 [==============================] - 210s 1s/step - loss: 0.1723 - accuracy: 0.9601 - val_loss: 6.5513 - val_accuracy: 0.5172\n",
            "Epoch 18/26\n",
            "145/145 [==============================] - 207s 1s/step - loss: 0.1081 - accuracy: 0.9688 - val_loss: 7.6041 - val_accuracy: 0.5241\n",
            "Epoch 19/26\n",
            "145/145 [==============================] - 209s 1s/step - loss: 0.0694 - accuracy: 0.9827 - val_loss: 8.8403 - val_accuracy: 0.5103\n",
            "Epoch 20/26\n",
            "145/145 [==============================] - 208s 1s/step - loss: 0.0882 - accuracy: 0.9740 - val_loss: 8.4348 - val_accuracy: 0.5241\n",
            "Epoch 21/26\n",
            "145/145 [==============================] - 208s 1s/step - loss: 0.0937 - accuracy: 0.9827 - val_loss: 8.4363 - val_accuracy: 0.5241\n",
            "Epoch 22/26\n",
            "145/145 [==============================] - 209s 1s/step - loss: 0.1097 - accuracy: 0.9705 - val_loss: 8.2194 - val_accuracy: 0.4966\n",
            "Epoch 23/26\n",
            "145/145 [==============================] - 208s 1s/step - loss: 0.1531 - accuracy: 0.9671 - val_loss: 7.8219 - val_accuracy: 0.5103\n",
            "Epoch 24/26\n",
            "145/145 [==============================] - 207s 1s/step - loss: 0.1022 - accuracy: 0.9723 - val_loss: 10.4465 - val_accuracy: 0.5172\n",
            "Epoch 25/26\n",
            "145/145 [==============================] - 211s 1s/step - loss: 0.1429 - accuracy: 0.9671 - val_loss: 8.1219 - val_accuracy: 0.5379\n",
            "Epoch 26/26\n",
            "145/145 [==============================] - 209s 1s/step - loss: 0.0299 - accuracy: 0.9948 - val_loss: 9.4352 - val_accuracy: 0.5379\n"
          ]
        }
      ]
    },
    {
      "cell_type": "code",
      "source": [
        "score = model6.evaluate(trainImages, trainTargets, verbose = 1) \n",
        "\n",
        "print('Train loss:', score[0]) \n",
        "print('Train accuracy:', score[1])\n",
        "\n",
        "score = model6.evaluate(testImages, testTargets, verbose = 1) \n",
        "\n",
        "print('Test loss:', score[0]) \n",
        "print('Test accuracy:', score[1])"
      ],
      "metadata": {
        "colab": {
          "base_uri": "https://localhost:8080/"
        },
        "id": "Z1gUAmI13SYQ",
        "outputId": "7794795f-0546-460b-d321-d05ccd013267"
      },
      "execution_count": 25,
      "outputs": [
        {
          "output_type": "stream",
          "name": "stdout",
          "text": [
            "19/19 [==============================] - 27s 1s/step - loss: 0.0031 - accuracy: 1.0000\n",
            "Train loss: 0.0030881015118211508\n",
            "Train accuracy: 1.0\n",
            "5/5 [==============================] - 8s 2s/step - loss: 9.4352 - accuracy: 0.5379\n",
            "Test loss: 9.435182571411133\n",
            "Test accuracy: 0.5379310250282288\n"
          ]
        }
      ]
    },
    {
      "cell_type": "code",
      "source": [
        "model7 = keras.Sequential()\n",
        "\n",
        "model7.add(Conv2D(32, kernel_size=(3, 3), activation='relu', input_shape=(224, 224, 3)))\n",
        "model7.add(Conv2D(filters=32, kernel_size=3, activation='relu'))\n",
        "input_tensor=tf.reshape(input_tensor, [n_images, 224, 224, 3])\n",
        "model7.add(tf.keras.layers.MaxPooling2D(pool_size=(2, 2), input_shape=(input_tensor)))\n",
        "\n",
        "model7.add(Conv2D(32, kernel_size=(3, 3), activation='relu', input_shape=(224, 224, 3)))\n",
        "model7.add(Conv2D(filters=32, kernel_size=3, activation='relu'))\n",
        "model7.add(tf.keras.layers.MaxPooling2D(pool_size=(2, 2), input_shape=(input_tensor)))\n",
        "\n",
        "model7.add(Conv2D(32, kernel_size=(3, 3), activation='relu', input_shape=(224, 224, 3)))\n",
        "model7.add(Conv2D(filters=32, kernel_size=3, activation='relu'))\n",
        "model7.add(tf.keras.layers.MaxPooling2D(pool_size=(2, 2), input_shape=(input_tensor)))\n",
        "\n",
        "\n",
        "model7.add(Flatten())\n",
        "model7.add(Dense(256, activation='relu'))\n",
        "model7.add(Dropout(dropnum))\n",
        "\n",
        "model7.add(Dense(166, activation='softmax', name = \"class_label\"))"
      ],
      "metadata": {
        "id": "1oZv2CyN3USz"
      },
      "execution_count": 26,
      "outputs": []
    },
    {
      "cell_type": "code",
      "source": [
        "opt = Adam(INIT_LR)\n",
        "\n",
        "model7.compile(loss=losses, \n",
        "              optimizer=opt, \n",
        "              metrics=[\"accuracy\"], \n",
        "              loss_weights=lossWeights)\n",
        "\n",
        "print(model7.summary())"
      ],
      "metadata": {
        "colab": {
          "base_uri": "https://localhost:8080/"
        },
        "id": "AWL3nG9u3WBV",
        "outputId": "e09542fa-f43f-4011-8e81-ddf699d7af8d"
      },
      "execution_count": 27,
      "outputs": [
        {
          "output_type": "stream",
          "name": "stdout",
          "text": [
            "Model: \"sequential_4\"\n",
            "_________________________________________________________________\n",
            " Layer (type)                Output Shape              Param #   \n",
            "=================================================================\n",
            " conv2d_12 (Conv2D)          (None, 222, 222, 32)      896       \n",
            "                                                                 \n",
            " conv2d_13 (Conv2D)          (None, 220, 220, 32)      9248      \n",
            "                                                                 \n",
            " max_pooling2d_6 (MaxPooling  (None, 110, 110, 32)     0         \n",
            " 2D)                                                             \n",
            "                                                                 \n",
            " conv2d_14 (Conv2D)          (None, 108, 108, 32)      9248      \n",
            "                                                                 \n",
            " conv2d_15 (Conv2D)          (None, 106, 106, 32)      9248      \n",
            "                                                                 \n",
            " max_pooling2d_7 (MaxPooling  (None, 53, 53, 32)       0         \n",
            " 2D)                                                             \n",
            "                                                                 \n",
            " conv2d_16 (Conv2D)          (None, 51, 51, 32)        9248      \n",
            "                                                                 \n",
            " conv2d_17 (Conv2D)          (None, 49, 49, 32)        9248      \n",
            "                                                                 \n",
            " max_pooling2d_8 (MaxPooling  (None, 24, 24, 32)       0         \n",
            " 2D)                                                             \n",
            "                                                                 \n",
            " flatten_4 (Flatten)         (None, 18432)             0         \n",
            "                                                                 \n",
            " dense_3 (Dense)             (None, 256)               4718848   \n",
            "                                                                 \n",
            " dropout_3 (Dropout)         (None, 256)               0         \n",
            "                                                                 \n",
            " class_label (Dense)         (None, 166)               42662     \n",
            "                                                                 \n",
            "=================================================================\n",
            "Total params: 4,808,646\n",
            "Trainable params: 4,808,646\n",
            "Non-trainable params: 0\n",
            "_________________________________________________________________\n",
            "None\n"
          ]
        }
      ]
    },
    {
      "cell_type": "code",
      "source": [
        "#Dropout of 0.2 3 set\n",
        "H7 = model7.fit(\n",
        "    trainImages, trainTargets,\n",
        "    validation_data=(testImages, testTargets),\n",
        "    batch_size=BATCH_SIZE,\n",
        "    epochs=NUM_EPOCHS,\n",
        "    verbose=1,\n",
        "    )"
      ],
      "metadata": {
        "colab": {
          "base_uri": "https://localhost:8080/"
        },
        "id": "FjatRURk3YCY",
        "outputId": "8af13c51-a7e0-4a37-8517-d61d5ad0f3d3"
      },
      "execution_count": 28,
      "outputs": [
        {
          "output_type": "stream",
          "name": "stdout",
          "text": [
            "Epoch 1/26\n",
            "145/145 [==============================] - 139s 940ms/step - loss: 3.7265 - accuracy: 0.4887 - val_loss: 3.4839 - val_accuracy: 0.4966\n",
            "Epoch 2/26\n",
            "145/145 [==============================] - 142s 984ms/step - loss: 3.3567 - accuracy: 0.4939 - val_loss: 3.4297 - val_accuracy: 0.4966\n",
            "Epoch 3/26\n",
            "145/145 [==============================] - 141s 970ms/step - loss: 3.2141 - accuracy: 0.4939 - val_loss: 3.4248 - val_accuracy: 0.4966\n",
            "Epoch 4/26\n",
            "145/145 [==============================] - 139s 956ms/step - loss: 3.1546 - accuracy: 0.4939 - val_loss: 3.4799 - val_accuracy: 0.4966\n",
            "Epoch 5/26\n",
            "145/145 [==============================] - 142s 979ms/step - loss: 3.0881 - accuracy: 0.4922 - val_loss: 3.5856 - val_accuracy: 0.4966\n",
            "Epoch 6/26\n",
            "145/145 [==============================] - 140s 966ms/step - loss: 2.9840 - accuracy: 0.4957 - val_loss: 3.4872 - val_accuracy: 0.5034\n",
            "Epoch 7/26\n",
            "145/145 [==============================] - 143s 989ms/step - loss: 2.8709 - accuracy: 0.5026 - val_loss: 3.6453 - val_accuracy: 0.5034\n",
            "Epoch 8/26\n",
            "145/145 [==============================] - 137s 943ms/step - loss: 2.6875 - accuracy: 0.5095 - val_loss: 3.6450 - val_accuracy: 0.5034\n",
            "Epoch 9/26\n",
            "145/145 [==============================] - 138s 954ms/step - loss: 2.5706 - accuracy: 0.5182 - val_loss: 3.7721 - val_accuracy: 0.4621\n",
            "Epoch 10/26\n",
            "145/145 [==============================] - 143s 987ms/step - loss: 2.3667 - accuracy: 0.5355 - val_loss: 3.6550 - val_accuracy: 0.5103\n",
            "Epoch 11/26\n",
            "145/145 [==============================] - 143s 980ms/step - loss: 2.1074 - accuracy: 0.5529 - val_loss: 3.7180 - val_accuracy: 0.4483\n",
            "Epoch 12/26\n",
            "145/145 [==============================] - 143s 986ms/step - loss: 1.9335 - accuracy: 0.5841 - val_loss: 4.0200 - val_accuracy: 0.5103\n",
            "Epoch 13/26\n",
            "145/145 [==============================] - 139s 963ms/step - loss: 1.6310 - accuracy: 0.6187 - val_loss: 4.1158 - val_accuracy: 0.5103\n",
            "Epoch 14/26\n",
            "145/145 [==============================] - 144s 988ms/step - loss: 1.3109 - accuracy: 0.6811 - val_loss: 4.5863 - val_accuracy: 0.4759\n",
            "Epoch 15/26\n",
            "145/145 [==============================] - 142s 978ms/step - loss: 1.0768 - accuracy: 0.7244 - val_loss: 4.8503 - val_accuracy: 0.5103\n",
            "Epoch 16/26\n",
            "145/145 [==============================] - 143s 989ms/step - loss: 0.8862 - accuracy: 0.7452 - val_loss: 4.8170 - val_accuracy: 0.4828\n",
            "Epoch 17/26\n",
            "145/145 [==============================] - 142s 984ms/step - loss: 0.7705 - accuracy: 0.8007 - val_loss: 5.3464 - val_accuracy: 0.4966\n",
            "Epoch 18/26\n",
            "145/145 [==============================] - 135s 926ms/step - loss: 0.5294 - accuracy: 0.8562 - val_loss: 5.7427 - val_accuracy: 0.5172\n",
            "Epoch 19/26\n",
            "145/145 [==============================] - 138s 953ms/step - loss: 0.3999 - accuracy: 0.8839 - val_loss: 5.7788 - val_accuracy: 0.5172\n",
            "Epoch 20/26\n",
            "145/145 [==============================] - 140s 969ms/step - loss: 0.3368 - accuracy: 0.9203 - val_loss: 6.2616 - val_accuracy: 0.5034\n",
            "Epoch 21/26\n",
            "145/145 [==============================] - 144s 991ms/step - loss: 0.2923 - accuracy: 0.9203 - val_loss: 6.8522 - val_accuracy: 0.5448\n",
            "Epoch 22/26\n",
            "145/145 [==============================] - 143s 989ms/step - loss: 0.2064 - accuracy: 0.9463 - val_loss: 6.9251 - val_accuracy: 0.4897\n",
            "Epoch 23/26\n",
            "145/145 [==============================] - 142s 973ms/step - loss: 0.1318 - accuracy: 0.9619 - val_loss: 7.2541 - val_accuracy: 0.4897\n",
            "Epoch 24/26\n",
            "145/145 [==============================] - 139s 959ms/step - loss: 0.2018 - accuracy: 0.9324 - val_loss: 7.2430 - val_accuracy: 0.5172\n",
            "Epoch 25/26\n",
            "145/145 [==============================] - 138s 947ms/step - loss: 0.1499 - accuracy: 0.9601 - val_loss: 7.7678 - val_accuracy: 0.5310\n",
            "Epoch 26/26\n",
            "145/145 [==============================] - 135s 933ms/step - loss: 0.0768 - accuracy: 0.9827 - val_loss: 8.8439 - val_accuracy: 0.5310\n"
          ]
        }
      ]
    },
    {
      "cell_type": "code",
      "source": [
        "score = model7.evaluate(trainImages, trainTargets, verbose = 1) \n",
        "\n",
        "print('Train loss:', score[0]) \n",
        "print('Train accuracy:', score[1])\n",
        "\n",
        "score = model7.evaluate(testImages, testTargets, verbose = 1) \n",
        "\n",
        "print('Test loss:', score[0]) \n",
        "print('Test accuracy:', score[1])"
      ],
      "metadata": {
        "colab": {
          "base_uri": "https://localhost:8080/"
        },
        "id": "v0kEou563abO",
        "outputId": "16e40b51-6164-4229-b612-813768024bf3"
      },
      "execution_count": 29,
      "outputs": [
        {
          "output_type": "stream",
          "name": "stdout",
          "text": [
            "19/19 [==============================] - 28s 1s/step - loss: 0.0171 - accuracy: 0.9931\n",
            "Train loss: 0.017123974859714508\n",
            "Train accuracy: 0.9930675625801086\n",
            "5/5 [==============================] - 8s 2s/step - loss: 8.8439 - accuracy: 0.5310\n",
            "Test loss: 8.843937873840332\n",
            "Test accuracy: 0.5310344696044922\n"
          ]
        }
      ]
    },
    {
      "cell_type": "code",
      "source": [
        "model8 = keras.Sequential()\n",
        "\n",
        "model8.add(Conv2D(32, kernel_size=(3, 3), activation='relu', input_shape=(224, 224, 3)))\n",
        "model8.add(Conv2D(filters=32, kernel_size=3, activation='relu'))\n",
        "input_tensor=tf.reshape(input_tensor, [n_images, 224, 224, 3])\n",
        "model8.add(tf.keras.layers.MaxPooling2D(pool_size=(2, 2), input_shape=(input_tensor)))\n",
        "\n",
        "model8.add(Conv2D(32, kernel_size=(3, 3), activation='relu', input_shape=(224, 224, 3)))\n",
        "model8.add(Conv2D(filters=32, kernel_size=3, activation='relu'))\n",
        "model8.add(tf.keras.layers.MaxPooling2D(pool_size=(2, 2), input_shape=(input_tensor)))\n",
        "\n",
        "model8.add(Conv2D(32, kernel_size=(3, 3), activation='relu', input_shape=(224, 224, 3)))\n",
        "model8.add(Conv2D(filters=32, kernel_size=3, activation='relu'))\n",
        "model8.add(tf.keras.layers.MaxPooling2D(pool_size=(2, 2), input_shape=(input_tensor)))\n",
        "\n",
        "model8.add(Conv2D(32, kernel_size=(3, 3), activation='relu', input_shape=(224, 224, 3)))\n",
        "model8.add(Conv2D(filters=32, kernel_size=3, activation='relu'))\n",
        "model8.add(tf.keras.layers.MaxPooling2D(pool_size=(2, 2), input_shape=(input_tensor)))\n",
        "\n",
        "\n",
        "model8.add(Flatten())\n",
        "model8.add(Dense(256, activation='relu'))\n",
        "model8.add(Dropout(dropnum))\n",
        "\n",
        "model8.add(Dense(166, activation='softmax', name = \"class_label\"))"
      ],
      "metadata": {
        "id": "p52BHUFL3cnQ"
      },
      "execution_count": 30,
      "outputs": []
    },
    {
      "cell_type": "code",
      "source": [
        "opt = Adam(INIT_LR)\n",
        "\n",
        "model8.compile(loss=losses, \n",
        "              optimizer=opt, \n",
        "              metrics=[\"accuracy\"], \n",
        "              loss_weights=lossWeights)\n",
        "\n",
        "print(model8.summary())"
      ],
      "metadata": {
        "colab": {
          "base_uri": "https://localhost:8080/"
        },
        "id": "9D1laj-c3esf",
        "outputId": "0854d4d0-8c0e-428b-e502-4dde1c40f13c"
      },
      "execution_count": 31,
      "outputs": [
        {
          "output_type": "stream",
          "name": "stdout",
          "text": [
            "Model: \"sequential_5\"\n",
            "_________________________________________________________________\n",
            " Layer (type)                Output Shape              Param #   \n",
            "=================================================================\n",
            " conv2d_18 (Conv2D)          (None, 222, 222, 32)      896       \n",
            "                                                                 \n",
            " conv2d_19 (Conv2D)          (None, 220, 220, 32)      9248      \n",
            "                                                                 \n",
            " max_pooling2d_9 (MaxPooling  (None, 110, 110, 32)     0         \n",
            " 2D)                                                             \n",
            "                                                                 \n",
            " conv2d_20 (Conv2D)          (None, 108, 108, 32)      9248      \n",
            "                                                                 \n",
            " conv2d_21 (Conv2D)          (None, 106, 106, 32)      9248      \n",
            "                                                                 \n",
            " max_pooling2d_10 (MaxPoolin  (None, 53, 53, 32)       0         \n",
            " g2D)                                                            \n",
            "                                                                 \n",
            " conv2d_22 (Conv2D)          (None, 51, 51, 32)        9248      \n",
            "                                                                 \n",
            " conv2d_23 (Conv2D)          (None, 49, 49, 32)        9248      \n",
            "                                                                 \n",
            " max_pooling2d_11 (MaxPoolin  (None, 24, 24, 32)       0         \n",
            " g2D)                                                            \n",
            "                                                                 \n",
            " conv2d_24 (Conv2D)          (None, 22, 22, 32)        9248      \n",
            "                                                                 \n",
            " conv2d_25 (Conv2D)          (None, 20, 20, 32)        9248      \n",
            "                                                                 \n",
            " max_pooling2d_12 (MaxPoolin  (None, 10, 10, 32)       0         \n",
            " g2D)                                                            \n",
            "                                                                 \n",
            " flatten_5 (Flatten)         (None, 3200)              0         \n",
            "                                                                 \n",
            " dense_4 (Dense)             (None, 256)               819456    \n",
            "                                                                 \n",
            " dropout_4 (Dropout)         (None, 256)               0         \n",
            "                                                                 \n",
            " class_label (Dense)         (None, 166)               42662     \n",
            "                                                                 \n",
            "=================================================================\n",
            "Total params: 927,750\n",
            "Trainable params: 927,750\n",
            "Non-trainable params: 0\n",
            "_________________________________________________________________\n",
            "None\n"
          ]
        }
      ]
    },
    {
      "cell_type": "code",
      "source": [
        "#Dropout of 0.2 4 set\n",
        "H8 = model8.fit(\n",
        "    trainImages, trainTargets,\n",
        "    validation_data=(testImages, testTargets),\n",
        "    batch_size=BATCH_SIZE,\n",
        "    epochs=NUM_EPOCHS,\n",
        "    verbose=1,\n",
        "    )"
      ],
      "metadata": {
        "colab": {
          "base_uri": "https://localhost:8080/"
        },
        "id": "xMPS-I_T3g_W",
        "outputId": "ee662849-c775-4cea-d12b-a9c8e5abfa54"
      },
      "execution_count": 32,
      "outputs": [
        {
          "output_type": "stream",
          "name": "stdout",
          "text": [
            "Epoch 1/26\n",
            "145/145 [==============================] - 137s 925ms/step - loss: 3.8639 - accuracy: 0.4835 - val_loss: 3.6005 - val_accuracy: 0.4966\n",
            "Epoch 2/26\n",
            "145/145 [==============================] - 132s 910ms/step - loss: 3.4599 - accuracy: 0.4939 - val_loss: 3.5620 - val_accuracy: 0.4966\n",
            "Epoch 3/26\n",
            "145/145 [==============================] - 134s 925ms/step - loss: 3.3210 - accuracy: 0.4939 - val_loss: 3.5312 - val_accuracy: 0.4966\n",
            "Epoch 4/26\n",
            "145/145 [==============================] - 133s 921ms/step - loss: 3.2001 - accuracy: 0.4939 - val_loss: 3.5236 - val_accuracy: 0.4966\n",
            "Epoch 5/26\n",
            "145/145 [==============================] - 131s 905ms/step - loss: 3.1871 - accuracy: 0.4939 - val_loss: 3.5336 - val_accuracy: 0.4966\n",
            "Epoch 6/26\n",
            "145/145 [==============================] - 131s 907ms/step - loss: 3.1506 - accuracy: 0.4939 - val_loss: 3.5598 - val_accuracy: 0.4966\n",
            "Epoch 7/26\n",
            "145/145 [==============================] - 137s 945ms/step - loss: 3.1299 - accuracy: 0.4939 - val_loss: 3.5982 - val_accuracy: 0.4966\n",
            "Epoch 8/26\n",
            "145/145 [==============================] - 137s 946ms/step - loss: 3.1381 - accuracy: 0.4939 - val_loss: 3.6233 - val_accuracy: 0.4966\n",
            "Epoch 9/26\n",
            "145/145 [==============================] - 135s 930ms/step - loss: 3.1335 - accuracy: 0.4939 - val_loss: 3.6645 - val_accuracy: 0.4966\n",
            "Epoch 10/26\n",
            "145/145 [==============================] - 128s 878ms/step - loss: 3.1237 - accuracy: 0.4939 - val_loss: 3.6502 - val_accuracy: 0.4966\n",
            "Epoch 11/26\n",
            "145/145 [==============================] - 129s 888ms/step - loss: 3.1119 - accuracy: 0.4939 - val_loss: 3.6613 - val_accuracy: 0.4966\n",
            "Epoch 12/26\n",
            "145/145 [==============================] - 132s 912ms/step - loss: 3.1186 - accuracy: 0.4939 - val_loss: 3.6927 - val_accuracy: 0.4966\n",
            "Epoch 13/26\n",
            "145/145 [==============================] - 134s 925ms/step - loss: 3.1149 - accuracy: 0.4939 - val_loss: 3.8926 - val_accuracy: 0.4966\n",
            "Epoch 14/26\n",
            "145/145 [==============================] - 135s 934ms/step - loss: 3.1037 - accuracy: 0.4939 - val_loss: 3.7225 - val_accuracy: 0.4966\n",
            "Epoch 15/26\n",
            "145/145 [==============================] - 133s 921ms/step - loss: 3.1006 - accuracy: 0.4939 - val_loss: 3.7676 - val_accuracy: 0.4966\n",
            "Epoch 16/26\n",
            "145/145 [==============================] - 134s 923ms/step - loss: 3.1036 - accuracy: 0.4939 - val_loss: 3.8331 - val_accuracy: 0.4966\n",
            "Epoch 17/26\n",
            "145/145 [==============================] - 131s 901ms/step - loss: 3.0785 - accuracy: 0.4939 - val_loss: 3.7980 - val_accuracy: 0.4966\n",
            "Epoch 18/26\n",
            "145/145 [==============================] - 131s 902ms/step - loss: 3.1118 - accuracy: 0.4939 - val_loss: 3.7803 - val_accuracy: 0.4966\n",
            "Epoch 19/26\n",
            "145/145 [==============================] - 127s 879ms/step - loss: 3.0837 - accuracy: 0.4939 - val_loss: 3.7873 - val_accuracy: 0.4966\n",
            "Epoch 20/26\n",
            "145/145 [==============================] - 131s 903ms/step - loss: 3.0828 - accuracy: 0.4939 - val_loss: 3.7952 - val_accuracy: 0.4966\n",
            "Epoch 21/26\n",
            "145/145 [==============================] - 124s 855ms/step - loss: 3.0470 - accuracy: 0.4939 - val_loss: 3.8037 - val_accuracy: 0.4966\n",
            "Epoch 22/26\n",
            "145/145 [==============================] - 130s 896ms/step - loss: 3.0460 - accuracy: 0.4922 - val_loss: 3.8759 - val_accuracy: 0.4966\n",
            "Epoch 23/26\n",
            "145/145 [==============================] - 128s 881ms/step - loss: 2.9446 - accuracy: 0.4991 - val_loss: 3.7690 - val_accuracy: 0.5172\n",
            "Epoch 24/26\n",
            "145/145 [==============================] - 126s 867ms/step - loss: 2.8591 - accuracy: 0.5043 - val_loss: 3.7938 - val_accuracy: 0.5103\n",
            "Epoch 25/26\n",
            "145/145 [==============================] - 129s 889ms/step - loss: 2.8038 - accuracy: 0.5130 - val_loss: 3.8276 - val_accuracy: 0.5103\n",
            "Epoch 26/26\n",
            "145/145 [==============================] - 131s 903ms/step - loss: 2.7172 - accuracy: 0.5147 - val_loss: 3.7826 - val_accuracy: 0.5310\n"
          ]
        }
      ]
    },
    {
      "cell_type": "code",
      "source": [
        "score = model8.evaluate(trainImages, trainTargets, verbose = 1) \n",
        "\n",
        "print('Train loss:', score[0]) \n",
        "print('Train accuracy:', score[1])\n",
        "\n",
        "score = model8.evaluate(testImages, testTargets, verbose = 1) \n",
        "\n",
        "print('Test loss:', score[0]) \n",
        "print('Test accuracy:', score[1])"
      ],
      "metadata": {
        "colab": {
          "base_uri": "https://localhost:8080/"
        },
        "id": "VNl_DjM83jUz",
        "outputId": "500ec8b2-9080-439a-b28f-0ca88fecab74"
      },
      "execution_count": 33,
      "outputs": [
        {
          "output_type": "stream",
          "name": "stdout",
          "text": [
            "19/19 [==============================] - 28s 1s/step - loss: 2.5647 - accuracy: 0.5147\n",
            "Train loss: 2.564706325531006\n",
            "Train accuracy: 0.5147313475608826\n",
            "5/5 [==============================] - 7s 1s/step - loss: 3.7826 - accuracy: 0.5310\n",
            "Test loss: 3.7825734615325928\n",
            "Test accuracy: 0.5310344696044922\n"
          ]
        }
      ]
    },
    {
      "cell_type": "code",
      "source": [
        "# All of this is extra numbers \\/"
      ],
      "metadata": {
        "id": "sl0p7rcg3lf9"
      },
      "execution_count": null,
      "outputs": []
    },
    {
      "cell_type": "code",
      "source": [
        "#Dropout of 0.2 playing with batch\n",
        "H21 = model.fit(\n",
        "    trainImages, trainTargets,\n",
        "    validation_data=(testImages, testTargets),\n",
        "    batch_size=3,\n",
        "    epochs=NUM_EPOCHS,\n",
        "    verbose=1,\n",
        "    )"
      ],
      "metadata": {
        "colab": {
          "base_uri": "https://localhost:8080/"
        },
        "id": "iVXJvd1hHAPG",
        "outputId": "8519974e-d1be-4328-def9-c90a57fd8085"
      },
      "execution_count": null,
      "outputs": [
        {
          "output_type": "stream",
          "name": "stdout",
          "text": [
            "Epoch 1/10\n",
            "193/193 [==============================] - 442s 2s/step - loss: 3.7938 - accuracy: 0.4870 - val_loss: 3.5913 - val_accuracy: 0.4966\n",
            "Epoch 2/10\n",
            "193/193 [==============================] - 434s 2s/step - loss: 3.3867 - accuracy: 0.4939 - val_loss: 3.5254 - val_accuracy: 0.4966\n",
            "Epoch 3/10\n",
            "193/193 [==============================] - 440s 2s/step - loss: 3.1339 - accuracy: 0.4957 - val_loss: 3.4667 - val_accuracy: 0.4966\n",
            "Epoch 4/10\n",
            "193/193 [==============================] - 431s 2s/step - loss: 2.9822 - accuracy: 0.4957 - val_loss: 3.5297 - val_accuracy: 0.4966\n",
            "Epoch 5/10\n",
            "193/193 [==============================] - 431s 2s/step - loss: 2.7227 - accuracy: 0.5165 - val_loss: 3.5190 - val_accuracy: 0.5172\n",
            "Epoch 6/10\n",
            "193/193 [==============================] - 430s 2s/step - loss: 2.3841 - accuracy: 0.5338 - val_loss: 3.6303 - val_accuracy: 0.4966\n",
            "Epoch 7/10\n",
            "193/193 [==============================] - 420s 2s/step - loss: 1.9994 - accuracy: 0.5719 - val_loss: 3.4891 - val_accuracy: 0.5241\n",
            "Epoch 8/10\n",
            "193/193 [==============================] - 421s 2s/step - loss: 1.5471 - accuracy: 0.6551 - val_loss: 3.8532 - val_accuracy: 0.5241\n",
            "Epoch 9/10\n",
            "193/193 [==============================] - 417s 2s/step - loss: 1.1548 - accuracy: 0.7158 - val_loss: 4.0449 - val_accuracy: 0.5724\n",
            "Epoch 10/10\n",
            "193/193 [==============================] - 424s 2s/step - loss: 0.7959 - accuracy: 0.8076 - val_loss: 4.6770 - val_accuracy: 0.5724\n"
          ]
        }
      ]
    },
    {
      "cell_type": "code",
      "source": [
        "#Dropout of 0.2 playing with batch\n",
        "H21 = model.fit(\n",
        "    trainImages, trainTargets,\n",
        "    validation_data=(testImages, testTargets),\n",
        "    batch_size=4,\n",
        "    epochs=NUM_EPOCHS,\n",
        "    verbose=1,\n",
        "    )"
      ],
      "metadata": {
        "colab": {
          "base_uri": "https://localhost:8080/"
        },
        "id": "RysXRNvlMv08",
        "outputId": "2763ccff-669a-477a-de5e-5fbd9555b7e7"
      },
      "execution_count": null,
      "outputs": [
        {
          "output_type": "stream",
          "name": "stdout",
          "text": [
            "Epoch 1/10\n",
            "145/145 [==============================] - 355s 2s/step - loss: 0.5339 - accuracy: 0.8614 - val_loss: 4.9668 - val_accuracy: 0.5517\n",
            "Epoch 2/10\n",
            "145/145 [==============================] - 358s 2s/step - loss: 0.3734 - accuracy: 0.9047 - val_loss: 5.5907 - val_accuracy: 0.5586\n",
            "Epoch 3/10\n",
            "145/145 [==============================] - 355s 2s/step - loss: 0.2420 - accuracy: 0.9445 - val_loss: 6.2523 - val_accuracy: 0.5517\n",
            "Epoch 4/10\n",
            "145/145 [==============================] - 370s 3s/step - loss: 0.2510 - accuracy: 0.9376 - val_loss: 6.5855 - val_accuracy: 0.5655\n",
            "Epoch 5/10\n",
            "145/145 [==============================] - 354s 2s/step - loss: 0.1578 - accuracy: 0.9653 - val_loss: 6.6195 - val_accuracy: 0.5448\n",
            "Epoch 6/10\n",
            "145/145 [==============================] - 347s 2s/step - loss: 0.1678 - accuracy: 0.9549 - val_loss: 6.2592 - val_accuracy: 0.5310\n",
            "Epoch 7/10\n",
            "145/145 [==============================] - 352s 2s/step - loss: 0.1509 - accuracy: 0.9636 - val_loss: 6.7890 - val_accuracy: 0.5172\n",
            "Epoch 8/10\n",
            "145/145 [==============================] - 344s 2s/step - loss: 0.1387 - accuracy: 0.9619 - val_loss: 6.5402 - val_accuracy: 0.5448\n",
            "Epoch 9/10\n",
            "145/145 [==============================] - 345s 2s/step - loss: 0.0763 - accuracy: 0.9809 - val_loss: 8.3442 - val_accuracy: 0.5448\n",
            "Epoch 10/10\n",
            "145/145 [==============================] - 349s 2s/step - loss: 0.0645 - accuracy: 0.9844 - val_loss: 8.4520 - val_accuracy: 0.5517\n"
          ]
        }
      ]
    },
    {
      "cell_type": "code",
      "source": [
        "#Dropout of 0.2 playing with batch\n",
        "H21 = model.fit(\n",
        "    trainImages, trainTargets,\n",
        "    validation_data=(testImages, testTargets),\n",
        "    batch_size=5,\n",
        "    epochs=NUM_EPOCHS,\n",
        "    verbose=1,\n",
        "    )"
      ],
      "metadata": {
        "colab": {
          "base_uri": "https://localhost:8080/"
        },
        "id": "eWN_J2idfrQN",
        "outputId": "313b9b7e-2f48-471a-e8a1-79bbf5ab31bd"
      },
      "execution_count": null,
      "outputs": [
        {
          "output_type": "stream",
          "name": "stdout",
          "text": [
            "Epoch 1/10\n",
            "116/116 [==============================] - 310s 3s/step - loss: 0.0416 - accuracy: 0.9913 - val_loss: 8.1658 - val_accuracy: 0.5517\n",
            "Epoch 2/10\n",
            "116/116 [==============================] - 310s 3s/step - loss: 0.0552 - accuracy: 0.9896 - val_loss: 8.5272 - val_accuracy: 0.5448\n",
            "Epoch 3/10\n",
            "116/116 [==============================] - 313s 3s/step - loss: 0.0446 - accuracy: 0.9879 - val_loss: 8.4563 - val_accuracy: 0.5241\n",
            "Epoch 4/10\n",
            "116/116 [==============================] - 317s 3s/step - loss: 0.0503 - accuracy: 0.9861 - val_loss: 8.7329 - val_accuracy: 0.5586\n",
            "Epoch 5/10\n",
            "116/116 [==============================] - 307s 3s/step - loss: 0.0342 - accuracy: 0.9983 - val_loss: 7.8955 - val_accuracy: 0.5103\n",
            "Epoch 6/10\n",
            "116/116 [==============================] - 309s 3s/step - loss: 0.0259 - accuracy: 0.9948 - val_loss: 9.1521 - val_accuracy: 0.5517\n",
            "Epoch 7/10\n",
            "116/116 [==============================] - 308s 3s/step - loss: 0.0197 - accuracy: 0.9931 - val_loss: 10.0625 - val_accuracy: 0.5517\n",
            "Epoch 8/10\n",
            "116/116 [==============================] - 313s 3s/step - loss: 0.0668 - accuracy: 0.9827 - val_loss: 8.1216 - val_accuracy: 0.5655\n",
            "Epoch 9/10\n",
            "116/116 [==============================] - 319s 3s/step - loss: 0.0727 - accuracy: 0.9723 - val_loss: 7.9016 - val_accuracy: 0.5655\n",
            "Epoch 10/10\n",
            "116/116 [==============================] - 323s 3s/step - loss: 0.0753 - accuracy: 0.9827 - val_loss: 8.1110 - val_accuracy: 0.5310\n"
          ]
        }
      ]
    },
    {
      "cell_type": "code",
      "source": [
        "#Dropout of 0.2 orginal run\n",
        "H21 = model.fit(\n",
        "    trainImages, trainTargets,\n",
        "    validation_data=(testImages, testTargets),\n",
        "    batch_size=BATCH_SIZE,\n",
        "    epochs=NUM_EPOCHS,\n",
        "    verbose=1,\n",
        "    )"
      ],
      "metadata": {
        "colab": {
          "base_uri": "https://localhost:8080/"
        },
        "id": "Gqh9mN_coInq",
        "outputId": "61582d92-999f-4dd9-cebc-ff6f8383b1f3"
      },
      "execution_count": null,
      "outputs": [
        {
          "output_type": "stream",
          "name": "stdout",
          "text": [
            "Epoch 1/10\n",
            "157/157 [==============================] - 894s 6s/step - loss: 3.5939 - accuracy: 0.4904 - val_loss: 3.1705 - val_accuracy: 0.5072\n",
            "Epoch 2/10\n",
            "157/157 [==============================] - 878s 6s/step - loss: 3.0831 - accuracy: 0.4940 - val_loss: 2.8231 - val_accuracy: 0.5088\n",
            "Epoch 3/10\n",
            "157/157 [==============================] - 817s 5s/step - loss: 2.6395 - accuracy: 0.5279 - val_loss: 2.5404 - val_accuracy: 0.5375\n",
            "Epoch 4/10\n",
            "157/157 [==============================] - 814s 5s/step - loss: 2.1477 - accuracy: 0.5945 - val_loss: 1.9734 - val_accuracy: 0.6300\n",
            "Epoch 5/10\n",
            "157/157 [==============================] - 815s 5s/step - loss: 1.5719 - accuracy: 0.6910 - val_loss: 1.5014 - val_accuracy: 0.7129\n",
            "Epoch 6/10\n",
            "157/157 [==============================] - 843s 5s/step - loss: 1.2135 - accuracy: 0.7787 - val_loss: 1.1886 - val_accuracy: 0.7703\n",
            "Epoch 7/10\n",
            "157/157 [==============================] - 806s 5s/step - loss: 1.0518 - accuracy: 0.8066 - val_loss: 1.1139 - val_accuracy: 0.7847\n",
            "Epoch 8/10\n",
            "157/157 [==============================] - 804s 5s/step - loss: 0.9221 - accuracy: 0.8401 - val_loss: 0.9300 - val_accuracy: 0.8405\n",
            "Epoch 9/10\n",
            "157/157 [==============================] - 815s 5s/step - loss: 0.8809 - accuracy: 0.8489 - val_loss: 0.8486 - val_accuracy: 0.8533\n",
            "Epoch 10/10\n",
            "157/157 [==============================] - 805s 5s/step - loss: 0.8272 - accuracy: 0.8624 - val_loss: 0.8138 - val_accuracy: 0.8772\n"
          ]
        }
      ]
    },
    {
      "cell_type": "code",
      "source": [
        "#one extra conv2d,conv2d, pooling block\n",
        "model2 = keras.Sequential()\n",
        "model2.add(Conv2D(32, kernel_size=(3, 3), activation='relu', input_shape=(224, 224, 3)))\n",
        "model2.add(Conv2D(filters=32, kernel_size=3, activation='relu'))\n",
        "\n",
        "input_tensor=tf.reshape(input_tensor, [n_images, 224, 224, 3])\n",
        "model2.add(tf.keras.layers.MaxPooling2D(pool_size=(2, 2), input_shape=(input_tensor)))\n",
        "\n",
        "model2.add(Conv2D(filters=64, kernel_size=3, activation='relu'))\n",
        "model2.add(Conv2D(filters=64, kernel_size=3, activation='relu'))\n",
        "model2.add(tf.keras.layers.MaxPooling2D(pool_size=(2, 2), input_shape=(input_tensor)))\n",
        "\n",
        "model2.add(Conv2D(filters=64, kernel_size=3, activation='relu'))\n",
        "model2.add(Conv2D(filters=64, kernel_size=3, activation='relu'))\n",
        "model2.add(tf.keras.layers.MaxPooling2D(pool_size=(2, 2), input_shape=(input_tensor)))\n",
        "\n",
        "\n",
        "model2.add(Flatten())\n",
        "model2.add(Dense(256, activation='relu'))\n",
        "model2.add(Dropout(0.2))\n",
        "\n",
        "model2.add(Dense(166, activation='softmax', name = \"class_label\"))\n",
        "\n"
      ],
      "metadata": {
        "id": "Ze_IjInWoU6k"
      },
      "execution_count": null,
      "outputs": []
    },
    {
      "cell_type": "code",
      "source": [
        "opt = Adam(INIT_LR)\n",
        "\n",
        "model2.compile(loss=losses, \n",
        "              optimizer=opt, \n",
        "              metrics=[\"accuracy\"], \n",
        "              loss_weights=lossWeights)\n",
        "\n",
        "print(model2.summary())"
      ],
      "metadata": {
        "colab": {
          "base_uri": "https://localhost:8080/"
        },
        "id": "lTVR18h2uBpo",
        "outputId": "19ebac90-5595-40b3-c587-8a447d6173fc"
      },
      "execution_count": null,
      "outputs": [
        {
          "output_type": "stream",
          "name": "stdout",
          "text": [
            "Model: \"sequential_1\"\n",
            "_________________________________________________________________\n",
            " Layer (type)                Output Shape              Param #   \n",
            "=================================================================\n",
            " conv2d_4 (Conv2D)           (None, 222, 222, 32)      896       \n",
            "                                                                 \n",
            " conv2d_5 (Conv2D)           (None, 220, 220, 32)      9248      \n",
            "                                                                 \n",
            " max_pooling2d_2 (MaxPooling  (None, 110, 110, 32)     0         \n",
            " 2D)                                                             \n",
            "                                                                 \n",
            " conv2d_6 (Conv2D)           (None, 108, 108, 64)      18496     \n",
            "                                                                 \n",
            " conv2d_7 (Conv2D)           (None, 106, 106, 64)      36928     \n",
            "                                                                 \n",
            " max_pooling2d_3 (MaxPooling  (None, 53, 53, 64)       0         \n",
            " 2D)                                                             \n",
            "                                                                 \n",
            " conv2d_8 (Conv2D)           (None, 51, 51, 64)        36928     \n",
            "                                                                 \n",
            " conv2d_9 (Conv2D)           (None, 49, 49, 64)        36928     \n",
            "                                                                 \n",
            " max_pooling2d_4 (MaxPooling  (None, 24, 24, 64)       0         \n",
            " 2D)                                                             \n",
            "                                                                 \n",
            " flatten_2 (Flatten)         (None, 36864)             0         \n",
            "                                                                 \n",
            " dense_4 (Dense)             (None, 256)               9437440   \n",
            "                                                                 \n",
            " dropout_1 (Dropout)         (None, 256)               0         \n",
            "                                                                 \n",
            " class_label (Dense)         (None, 166)               42662     \n",
            "                                                                 \n",
            "=================================================================\n",
            "Total params: 9,619,526\n",
            "Trainable params: 9,619,526\n",
            "Non-trainable params: 0\n",
            "_________________________________________________________________\n",
            "None\n"
          ]
        }
      ]
    },
    {
      "cell_type": "code",
      "source": [
        "H2 = model2.fit(\n",
        "    trainImages, trainTargets,\n",
        "    validation_data=(testImages, testTargets),\n",
        "    batch_size=BATCH_SIZE,\n",
        "    epochs=NUM_EPOCHS,\n",
        "    verbose=1,\n",
        "    )"
      ],
      "metadata": {
        "colab": {
          "base_uri": "https://localhost:8080/"
        },
        "id": "KsTBiTYwuEKR",
        "outputId": "0f01c743-4b6f-4c66-9dac-c4b62289fa38"
      },
      "execution_count": null,
      "outputs": [
        {
          "output_type": "stream",
          "name": "stdout",
          "text": [
            "Epoch 1/10\n",
            "157/157 [==============================] - 855s 5s/step - loss: 3.5637 - accuracy: 0.4896 - val_loss: 3.2097 - val_accuracy: 0.5072\n",
            "Epoch 2/10\n",
            "157/157 [==============================] - 828s 5s/step - loss: 3.2357 - accuracy: 0.4932 - val_loss: 3.0899 - val_accuracy: 0.5072\n",
            "Epoch 3/10\n",
            "157/157 [==============================] - 812s 5s/step - loss: 3.0698 - accuracy: 0.4932 - val_loss: 2.9444 - val_accuracy: 0.5088\n",
            "Epoch 4/10\n",
            "157/157 [==============================] - 851s 5s/step - loss: 2.8876 - accuracy: 0.5036 - val_loss: 2.8684 - val_accuracy: 0.5263\n",
            "Epoch 5/10\n",
            "157/157 [==============================] - 847s 5s/step - loss: 2.6898 - accuracy: 0.5307 - val_loss: 2.6194 - val_accuracy: 0.5534\n",
            "Epoch 6/10\n",
            "157/157 [==============================] - 848s 5s/step - loss: 2.2736 - accuracy: 0.5718 - val_loss: 2.2186 - val_accuracy: 0.5774\n",
            "Epoch 7/10\n",
            "157/157 [==============================] - 849s 5s/step - loss: 1.7548 - accuracy: 0.6571 - val_loss: 1.6781 - val_accuracy: 0.6635\n",
            "Epoch 8/10\n",
            "157/157 [==============================] - 853s 5s/step - loss: 1.3379 - accuracy: 0.7484 - val_loss: 1.3682 - val_accuracy: 0.7512\n",
            "Epoch 9/10\n",
            "157/157 [==============================] - 850s 5s/step - loss: 1.1344 - accuracy: 0.7931 - val_loss: 1.0923 - val_accuracy: 0.8134\n",
            "Epoch 10/10\n",
            "157/157 [==============================] - 830s 5s/step - loss: 0.9784 - accuracy: 0.8230 - val_loss: 0.9757 - val_accuracy: 0.8389\n"
          ]
        }
      ]
    },
    {
      "cell_type": "code",
      "source": [
        "#two extra conv2d,conv2d, pooling block\n",
        "model3 = keras.Sequential()\n",
        "model3.add(Conv2D(32, kernel_size=(3, 3), activation='relu', input_shape=(224, 224, 3)))\n",
        "model3.add(Conv2D(filters=32, kernel_size=3, activation='relu'))\n",
        "\n",
        "input_tensor=tf.reshape(input_tensor, [n_images, 224, 224, 3])\n",
        "model3.add(tf.keras.layers.MaxPooling2D(pool_size=(2, 2), input_shape=(input_tensor)))\n",
        "\n",
        "model3.add(Conv2D(filters=64, kernel_size=3, activation='relu'))\n",
        "model3.add(Conv2D(filters=64, kernel_size=3, activation='relu'))\n",
        "model3.add(tf.keras.layers.MaxPooling2D(pool_size=(2, 2), input_shape=(input_tensor)))\n",
        "\n",
        "model3.add(Conv2D(filters=64, kernel_size=3, activation='relu'))\n",
        "model3.add(Conv2D(filters=64, kernel_size=3, activation='relu'))\n",
        "model3.add(tf.keras.layers.MaxPooling2D(pool_size=(2, 2), input_shape=(input_tensor)))\n",
        "\n",
        "\n",
        "model3.add(Conv2D(filters=64, kernel_size=3, activation='relu'))\n",
        "model3.add(Conv2D(filters=64, kernel_size=3, activation='relu'))\n",
        "model3.add(tf.keras.layers.MaxPooling2D(pool_size=(2, 2), input_shape=(input_tensor)))\n",
        "\n",
        "\n",
        "model3.add(Flatten())\n",
        "model3.add(Dense(256, activation='relu'))\n",
        "model3.add(Dropout(0.2))\n",
        "\n",
        "model3.add(Dense(166, activation='softmax', name = \"class_label\"))\n",
        "\n"
      ],
      "metadata": {
        "id": "z3QyrhC3uYKL"
      },
      "execution_count": null,
      "outputs": []
    },
    {
      "cell_type": "code",
      "source": [
        "opt = Adam(INIT_LR)\n",
        "\n",
        "model3.compile(loss=losses, \n",
        "              optimizer=opt, \n",
        "              metrics=[\"accuracy\"], \n",
        "              loss_weights=lossWeights)\n",
        "\n",
        "print(model3.summary())"
      ],
      "metadata": {
        "colab": {
          "base_uri": "https://localhost:8080/"
        },
        "id": "oK0BZ7e_upVo",
        "outputId": "d24948e9-ac40-4cf6-9562-3b9b569d2907"
      },
      "execution_count": null,
      "outputs": [
        {
          "output_type": "stream",
          "name": "stdout",
          "text": [
            "Model: \"sequential_1\"\n",
            "_________________________________________________________________\n",
            " Layer (type)                Output Shape              Param #   \n",
            "=================================================================\n",
            " conv2d_2 (Conv2D)           (None, 222, 222, 32)      896       \n",
            "                                                                 \n",
            " conv2d_3 (Conv2D)           (None, 220, 220, 32)      9248      \n",
            "                                                                 \n",
            " max_pooling2d_1 (MaxPooling  (None, 110, 110, 32)     0         \n",
            " 2D)                                                             \n",
            "                                                                 \n",
            " conv2d_4 (Conv2D)           (None, 108, 108, 64)      18496     \n",
            "                                                                 \n",
            " conv2d_5 (Conv2D)           (None, 106, 106, 64)      36928     \n",
            "                                                                 \n",
            " max_pooling2d_2 (MaxPooling  (None, 53, 53, 64)       0         \n",
            " 2D)                                                             \n",
            "                                                                 \n",
            " conv2d_6 (Conv2D)           (None, 51, 51, 64)        36928     \n",
            "                                                                 \n",
            " conv2d_7 (Conv2D)           (None, 49, 49, 64)        36928     \n",
            "                                                                 \n",
            " max_pooling2d_3 (MaxPooling  (None, 24, 24, 64)       0         \n",
            " 2D)                                                             \n",
            "                                                                 \n",
            " conv2d_8 (Conv2D)           (None, 22, 22, 64)        36928     \n",
            "                                                                 \n",
            " conv2d_9 (Conv2D)           (None, 20, 20, 64)        36928     \n",
            "                                                                 \n",
            " max_pooling2d_4 (MaxPooling  (None, 10, 10, 64)       0         \n",
            " 2D)                                                             \n",
            "                                                                 \n",
            " flatten_1 (Flatten)         (None, 6400)              0         \n",
            "                                                                 \n",
            " dense_3 (Dense)             (None, 256)               1638656   \n",
            "                                                                 \n",
            " dropout (Dropout)           (None, 256)               0         \n",
            "                                                                 \n",
            " class_label (Dense)         (None, 166)               42662     \n",
            "                                                                 \n",
            "=================================================================\n",
            "Total params: 1,894,598\n",
            "Trainable params: 1,894,598\n",
            "Non-trainable params: 0\n",
            "_________________________________________________________________\n",
            "None\n"
          ]
        }
      ]
    },
    {
      "cell_type": "code",
      "source": [
        "H3 = model3.fit(\n",
        "    trainImages, trainTargets,\n",
        "    validation_data=(testImages, testTargets),\n",
        "    batch_size=BATCH_SIZE,\n",
        "    epochs=NUM_EPOCHS,\n",
        "    verbose=1,\n",
        "    )"
      ],
      "metadata": {
        "colab": {
          "base_uri": "https://localhost:8080/"
        },
        "id": "l-ljKtFVusN3",
        "outputId": "1c4948e6-5150-4098-c43b-2ffd0af4cc0a"
      },
      "execution_count": null,
      "outputs": [
        {
          "output_type": "stream",
          "name": "stdout",
          "text": [
            "Epoch 1/10\n",
            "37/37 [==============================] - 182s 5s/step - loss: 4.1749 - accuracy: 0.4783 - val_loss: 3.6237 - val_accuracy: 0.4966\n",
            "Epoch 2/10\n",
            "37/37 [==============================] - 174s 5s/step - loss: 3.4792 - accuracy: 0.4939 - val_loss: 3.5203 - val_accuracy: 0.4966\n",
            "Epoch 3/10\n",
            "37/37 [==============================] - 179s 5s/step - loss: 3.3659 - accuracy: 0.4939 - val_loss: 3.5733 - val_accuracy: 0.4966\n",
            "Epoch 4/10\n",
            "37/37 [==============================] - 173s 5s/step - loss: 3.3084 - accuracy: 0.4939 - val_loss: 3.4369 - val_accuracy: 0.4966\n",
            "Epoch 5/10\n",
            "37/37 [==============================] - 174s 5s/step - loss: 3.2360 - accuracy: 0.4939 - val_loss: 3.4693 - val_accuracy: 0.4966\n",
            "Epoch 6/10\n",
            "37/37 [==============================] - 180s 5s/step - loss: 3.2278 - accuracy: 0.4939 - val_loss: 3.4305 - val_accuracy: 0.4966\n",
            "Epoch 7/10\n",
            "37/37 [==============================] - 169s 5s/step - loss: 3.1941 - accuracy: 0.4939 - val_loss: 3.4294 - val_accuracy: 0.4966\n",
            "Epoch 8/10\n",
            "37/37 [==============================] - 172s 5s/step - loss: 3.1755 - accuracy: 0.4939 - val_loss: 3.4412 - val_accuracy: 0.4966\n",
            "Epoch 9/10\n",
            "37/37 [==============================] - 169s 5s/step - loss: 3.1902 - accuracy: 0.4939 - val_loss: 3.4516 - val_accuracy: 0.4966\n",
            "Epoch 10/10\n",
            "37/37 [==============================] - 178s 5s/step - loss: 3.1294 - accuracy: 0.4939 - val_loss: 3.4678 - val_accuracy: 0.4966\n"
          ]
        }
      ]
    },
    {
      "cell_type": "code",
      "source": [
        "#one extra conv2d,conv2d, pooling block\n",
        "model21 = keras.Sequential()\n",
        "model21.add(Conv2D(32, kernel_size=(3, 3), activation='relu', input_shape=(224, 224, 3)))\n",
        "model21.add(Conv2D(filters=32, kernel_size=3, activation='relu'))\n",
        "\n",
        "input_tensor=tf.reshape(input_tensor, [n_images, 224, 224, 3])\n",
        "model21.add(tf.keras.layers.MaxPooling2D(pool_size=(2, 2), input_shape=(input_tensor)))\n",
        "\n",
        "model21.add(Conv2D(filters=64, kernel_size=3, activation='relu'))\n",
        "model21.add(Conv2D(filters=64, kernel_size=3, activation='relu'))\n",
        "model21.add(tf.keras.layers.MaxPooling2D(pool_size=(2, 2), input_shape=(input_tensor)))\n",
        "\n",
        "model21.add(Conv2D(filters=64, kernel_size=3, activation='relu'))\n",
        "model21.add(Conv2D(filters=64, kernel_size=3, activation='relu'))\n",
        "model21.add(tf.keras.layers.MaxPooling2D(pool_size=(2, 2), input_shape=(input_tensor)))\n",
        "\n",
        "\n",
        "model21.add(Flatten())\n",
        "model21.add(Dense(256, activation='relu'))\n",
        "model21.add(Dropout(0.2))\n",
        "\n",
        "model21.add(Dense(166, activation='softmax', name = \"class_label\"))\n",
        "\n"
      ],
      "metadata": {
        "id": "8y6U6ebTWQVP"
      },
      "execution_count": null,
      "outputs": []
    },
    {
      "cell_type": "code",
      "source": [
        "opt = Adam(INIT_LR)\n",
        "\n",
        "model21.compile(loss=losses, \n",
        "              optimizer=opt, \n",
        "              metrics=[\"accuracy\"], \n",
        "              loss_weights=lossWeights)\n",
        "\n",
        "print(model21.summary())"
      ],
      "metadata": {
        "colab": {
          "base_uri": "https://localhost:8080/"
        },
        "id": "0px6easVJ5Ra",
        "outputId": "eb18a354-76c4-4e9b-f184-b3dd5598d9de"
      },
      "execution_count": null,
      "outputs": [
        {
          "output_type": "stream",
          "name": "stdout",
          "text": [
            "Model: \"sequential\"\n",
            "_________________________________________________________________\n",
            " Layer (type)                Output Shape              Param #   \n",
            "=================================================================\n",
            " conv2d (Conv2D)             (None, 222, 222, 32)      896       \n",
            "                                                                 \n",
            " conv2d_1 (Conv2D)           (None, 220, 220, 32)      9248      \n",
            "                                                                 \n",
            " max_pooling2d (MaxPooling2D  (None, 110, 110, 32)     0         \n",
            " )                                                               \n",
            "                                                                 \n",
            " conv2d_2 (Conv2D)           (None, 108, 108, 64)      18496     \n",
            "                                                                 \n",
            " conv2d_3 (Conv2D)           (None, 106, 106, 64)      36928     \n",
            "                                                                 \n",
            " max_pooling2d_1 (MaxPooling  (None, 53, 53, 64)       0         \n",
            " 2D)                                                             \n",
            "                                                                 \n",
            " conv2d_4 (Conv2D)           (None, 51, 51, 64)        36928     \n",
            "                                                                 \n",
            " conv2d_5 (Conv2D)           (None, 49, 49, 64)        36928     \n",
            "                                                                 \n",
            " max_pooling2d_2 (MaxPooling  (None, 24, 24, 64)       0         \n",
            " 2D)                                                             \n",
            "                                                                 \n",
            " flatten_1 (Flatten)         (None, 36864)             0         \n",
            "                                                                 \n",
            " dense_3 (Dense)             (None, 256)               9437440   \n",
            "                                                                 \n",
            " dropout (Dropout)           (None, 256)               0         \n",
            "                                                                 \n",
            " class_label (Dense)         (None, 166)               42662     \n",
            "                                                                 \n",
            "=================================================================\n",
            "Total params: 9,619,526\n",
            "Trainable params: 9,619,526\n",
            "Non-trainable params: 0\n",
            "_________________________________________________________________\n",
            "None\n"
          ]
        }
      ]
    },
    {
      "cell_type": "code",
      "source": [
        "H221 = model21.fit(\n",
        "    trainImages, trainTargets,\n",
        "    validation_data=(testImages, testTargets),\n",
        "    batch_size=BATCH_SIZE,\n",
        "    epochs=NUM_EPOCHS,\n",
        "    verbose=1,\n",
        "    )"
      ],
      "metadata": {
        "colab": {
          "base_uri": "https://localhost:8080/"
        },
        "id": "d7_Dk8bYJ-Zi",
        "outputId": "22e7776c-c742-451d-feec-17360b79c2ae"
      },
      "execution_count": null,
      "outputs": [
        {
          "output_type": "stream",
          "name": "stdout",
          "text": [
            "Epoch 1/10\n",
            "37/37 [==============================] - 217s 6s/step - loss: 3.8822 - accuracy: 0.4818 - val_loss: 3.6019 - val_accuracy: 0.4966\n",
            "Epoch 2/10\n",
            "37/37 [==============================] - 196s 5s/step - loss: 3.5166 - accuracy: 0.4939 - val_loss: 3.5814 - val_accuracy: 0.4966\n",
            "Epoch 3/10\n",
            "37/37 [==============================] - 207s 6s/step - loss: 3.4143 - accuracy: 0.4939 - val_loss: 3.4995 - val_accuracy: 0.4966\n",
            "Epoch 4/10\n",
            "37/37 [==============================] - 210s 6s/step - loss: 3.2910 - accuracy: 0.4939 - val_loss: 3.4630 - val_accuracy: 0.4966\n",
            "Epoch 5/10\n",
            "37/37 [==============================] - 209s 6s/step - loss: 3.2253 - accuracy: 0.4939 - val_loss: 3.4247 - val_accuracy: 0.4966\n",
            "Epoch 6/10\n",
            "37/37 [==============================] - 210s 6s/step - loss: 3.1716 - accuracy: 0.4939 - val_loss: 3.4195 - val_accuracy: 0.4966\n",
            "Epoch 7/10\n",
            "37/37 [==============================] - 207s 6s/step - loss: 3.0892 - accuracy: 0.4939 - val_loss: 3.4169 - val_accuracy: 0.4966\n",
            "Epoch 8/10\n",
            "37/37 [==============================] - 199s 5s/step - loss: 3.0718 - accuracy: 0.4939 - val_loss: 3.4201 - val_accuracy: 0.4966\n",
            "Epoch 9/10\n",
            "37/37 [==============================] - 208s 6s/step - loss: 2.9525 - accuracy: 0.4939 - val_loss: 3.4602 - val_accuracy: 0.4966\n",
            "Epoch 10/10\n",
            "37/37 [==============================] - 209s 6s/step - loss: 2.8036 - accuracy: 0.5009 - val_loss: 3.3950 - val_accuracy: 0.4966\n"
          ]
        }
      ]
    },
    {
      "cell_type": "code",
      "source": [],
      "metadata": {
        "id": "lgBQmiScRP2l"
      },
      "execution_count": null,
      "outputs": []
    }
  ]
}